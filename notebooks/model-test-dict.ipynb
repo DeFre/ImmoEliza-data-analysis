{
 "cells": [
  {
   "cell_type": "markdown",
   "metadata": {},
   "source": [
    "# trying to run the model"
   ]
  },
  {
   "cell_type": "code",
   "execution_count": 13,
   "metadata": {},
   "outputs": [],
   "source": [
    "import xgboost as xg\n",
    "import pandas as pd"
   ]
  },
  {
   "cell_type": "code",
   "execution_count": 14,
   "metadata": {},
   "outputs": [
    {
     "name": "stdout",
     "output_type": "stream",
     "text": [
      "<xgboost.core.Booster object at 0x00000219AAC1C310>\n"
     ]
    }
   ],
   "source": [
    "model = xg.Booster()\n",
    "model.load_model(\"../models/xg_model_house.json\")\n",
    "print(model)"
   ]
  },
  {
   "cell_type": "code",
   "execution_count": 15,
   "metadata": {},
   "outputs": [],
   "source": [
    "test_sample = {'primary_energy_consumption': {754: 182},\n",
    " 'furnished': {754: 0},\n",
    " 'terrace': {754: 1},\n",
    " 'terrace_surface': {754: 0},\n",
    " 'plot_surface': {754: 0},\n",
    " 'living_room_surface': {754: 0},\n",
    " 'frontages': {754: 0},\n",
    " 'construction_year': {754: 0},\n",
    " 'bedrooms': {754: 1},\n",
    " 'bathrooms': {754: 1},\n",
    " 'shower_rooms': {754: 0},\n",
    " 'office': {754: 0},\n",
    " 'toilets': {754: 0}}\n"
   ]
  },
  {
   "cell_type": "markdown",
   "metadata": {},
   "source": [
    "test_sample = {'primary_energy_consumption': 1.0,\n",
    "  'furnished': 0,\n",
    "  'terrace': 1,\n",
    "  'terrace_surface': 9,\n",
    "  'plot_surface': 198,\n",
    "  'living_room_surface': 25,\n",
    "  'frontages': 3,\n",
    "  'construction_year': 2021,\n",
    "  'bedrooms': 3,\n",
    "  'bathrooms': 2,\n",
    "  'shower_rooms': 0,\n",
    "  'office': 1,\n",
    "  'toilets': 3}"
   ]
  },
  {
   "cell_type": "code",
   "execution_count": 21,
   "metadata": {},
   "outputs": [
    {
     "data": {
      "text/html": [
       "<div>\n",
       "<style scoped>\n",
       "    .dataframe tbody tr th:only-of-type {\n",
       "        vertical-align: middle;\n",
       "    }\n",
       "\n",
       "    .dataframe tbody tr th {\n",
       "        vertical-align: top;\n",
       "    }\n",
       "\n",
       "    .dataframe thead th {\n",
       "        text-align: right;\n",
       "    }\n",
       "</style>\n",
       "<table border=\"1\" class=\"dataframe\">\n",
       "  <thead>\n",
       "    <tr style=\"text-align: right;\">\n",
       "      <th></th>\n",
       "      <th>primary_energy_consumption</th>\n",
       "      <th>furnished</th>\n",
       "      <th>terrace</th>\n",
       "      <th>terrace_surface</th>\n",
       "      <th>plot_surface</th>\n",
       "      <th>living_room_surface</th>\n",
       "      <th>frontages</th>\n",
       "      <th>construction_year</th>\n",
       "      <th>bedrooms</th>\n",
       "      <th>bathrooms</th>\n",
       "      <th>shower_rooms</th>\n",
       "      <th>office</th>\n",
       "      <th>toilets</th>\n",
       "    </tr>\n",
       "  </thead>\n",
       "  <tbody>\n",
       "    <tr>\n",
       "      <th>754</th>\n",
       "      <td>182</td>\n",
       "      <td>0</td>\n",
       "      <td>1</td>\n",
       "      <td>0</td>\n",
       "      <td>0</td>\n",
       "      <td>0</td>\n",
       "      <td>0</td>\n",
       "      <td>0</td>\n",
       "      <td>1</td>\n",
       "      <td>1</td>\n",
       "      <td>0</td>\n",
       "      <td>0</td>\n",
       "      <td>0</td>\n",
       "    </tr>\n",
       "  </tbody>\n",
       "</table>\n",
       "</div>"
      ],
      "text/plain": [
       "     primary_energy_consumption  furnished  terrace  terrace_surface  \\\n",
       "754                         182          0        1                0   \n",
       "\n",
       "     plot_surface  living_room_surface  frontages  construction_year  \\\n",
       "754             0                    0          0                  0   \n",
       "\n",
       "     bedrooms  bathrooms  shower_rooms  office  toilets  \n",
       "754         1          1             0       0        0  "
      ]
     },
     "metadata": {},
     "output_type": "display_data"
    },
    {
     "name": "stdout",
     "output_type": "stream",
     "text": [
      "283792.3125\n"
     ]
    },
    {
     "name": "stderr",
     "output_type": "stream",
     "text": [
      "C:\\Users\\freva\\AppData\\Local\\Temp\\ipykernel_24016\\3655571609.py:4: DeprecationWarning: Conversion of an array with ndim > 0 to a scalar is deprecated, and will error in future. Ensure you extract a single element from your array before performing this operation. (Deprecated NumPy 1.25.)\n",
      "  print(float(model.predict(xgtest)))\n"
     ]
    },
    {
     "data": {
      "text/plain": [
       "xgboost.core.DMatrix"
      ]
     },
     "execution_count": 21,
     "metadata": {},
     "output_type": "execute_result"
    }
   ],
   "source": [
    "test_df = pd.DataFrame.from_dict(test_sample)\n",
    "display(test_df)\n",
    "xgtest = xg.DMatrix(test_df.values)\n",
    "print(float(model.predict(xgtest)))\n",
    "type(xgtest)"
   ]
  }
 ],
 "metadata": {
  "kernelspec": {
   "display_name": ".venv",
   "language": "python",
   "name": "python3"
  },
  "language_info": {
   "codemirror_mode": {
    "name": "ipython",
    "version": 3
   },
   "file_extension": ".py",
   "mimetype": "text/x-python",
   "name": "python",
   "nbconvert_exporter": "python",
   "pygments_lexer": "ipython3",
   "version": "3.11.4"
  },
  "orig_nbformat": 4
 },
 "nbformat": 4,
 "nbformat_minor": 2
}
