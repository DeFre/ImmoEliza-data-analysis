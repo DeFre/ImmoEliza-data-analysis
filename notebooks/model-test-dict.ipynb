{
 "cells": [
  {
   "cell_type": "markdown",
   "metadata": {},
   "source": [
    "# trying to run the model"
   ]
  },
  {
   "cell_type": "code",
   "execution_count": 1,
   "metadata": {},
   "outputs": [],
   "source": [
    "import xgboost as xg\n",
    "import pandas as pd"
   ]
  },
  {
   "cell_type": "code",
   "execution_count": 7,
   "metadata": {},
   "outputs": [
    {
     "name": "stdout",
     "output_type": "stream",
     "text": [
      "<xgboost.core.Booster object at 0x0000025102DFF950>\n"
     ]
    }
   ],
   "source": [
    "model = xg.Booster()\n",
    "model.load_model(\"../models/xg_model_house.json\")\n",
    "print(model)"
   ]
  },
  {
   "cell_type": "code",
   "execution_count": 10,
   "metadata": {},
   "outputs": [],
   "source": [
    "test_sample = {'Bedrooms': {3409: 3},\n",
    " 'Terrace': {3409: 1},\n",
    " 'Terrace surface': {3409: 42},\n",
    " 'Surface of the plot': {3409: 310},\n",
    " 'Living room surface': {3409: 12},\n",
    " 'Number of frontages': {3409: 3},\n",
    " 'Construction year': {3409: 1965},\n",
    " 'Bathrooms': {3409: 1},\n",
    " 'Shower rooms': {3409: 0},\n",
    " 'Office': {3409: 0},\n",
    " 'Toilets': {3409: 1},\n",
    " 'Primary energy consumption': {3409: 388.0}}\n"
   ]
  },
  {
   "cell_type": "code",
   "execution_count": 11,
   "metadata": {},
   "outputs": [
    {
     "data": {
      "text/html": [
       "<div>\n",
       "<style scoped>\n",
       "    .dataframe tbody tr th:only-of-type {\n",
       "        vertical-align: middle;\n",
       "    }\n",
       "\n",
       "    .dataframe tbody tr th {\n",
       "        vertical-align: top;\n",
       "    }\n",
       "\n",
       "    .dataframe thead th {\n",
       "        text-align: right;\n",
       "    }\n",
       "</style>\n",
       "<table border=\"1\" class=\"dataframe\">\n",
       "  <thead>\n",
       "    <tr style=\"text-align: right;\">\n",
       "      <th></th>\n",
       "      <th>Bedrooms</th>\n",
       "      <th>Terrace</th>\n",
       "      <th>Terrace surface</th>\n",
       "      <th>Surface of the plot</th>\n",
       "      <th>Living room surface</th>\n",
       "      <th>Number of frontages</th>\n",
       "      <th>Construction year</th>\n",
       "      <th>Bathrooms</th>\n",
       "      <th>Shower rooms</th>\n",
       "      <th>Office</th>\n",
       "      <th>Toilets</th>\n",
       "      <th>Primary energy consumption</th>\n",
       "    </tr>\n",
       "  </thead>\n",
       "  <tbody>\n",
       "    <tr>\n",
       "      <th>5585</th>\n",
       "      <td>4</td>\n",
       "      <td>1</td>\n",
       "      <td>30</td>\n",
       "      <td>751</td>\n",
       "      <td>35</td>\n",
       "      <td>4</td>\n",
       "      <td>1970</td>\n",
       "      <td>3</td>\n",
       "      <td>1</td>\n",
       "      <td>0</td>\n",
       "      <td>3</td>\n",
       "      <td>315.0</td>\n",
       "    </tr>\n",
       "  </tbody>\n",
       "</table>\n",
       "</div>"
      ],
      "text/plain": [
       "      Bedrooms  Terrace  Terrace surface  Surface of the plot  \\\n",
       "5585         4        1               30                  751   \n",
       "\n",
       "      Living room surface  Number of frontages  Construction year  Bathrooms  \\\n",
       "5585                   35                    4               1970          3   \n",
       "\n",
       "      Shower rooms  Office  Toilets  Primary energy consumption  \n",
       "5585             1       0        3                       315.0  "
      ]
     },
     "metadata": {},
     "output_type": "display_data"
    },
    {
     "name": "stdout",
     "output_type": "stream",
     "text": [
      "[789689.4]\n"
     ]
    }
   ],
   "source": [
    "test_df = pd.DataFrame.from_dict(test_sample)\n",
    "display(test_df)\n",
    "#print(model.predict(test_df))\n",
    "xgtest = xg.DMatrix(test_df.values)\n",
    "print(model.predict(xgtest))"
   ]
  }
 ],
 "metadata": {
  "kernelspec": {
   "display_name": ".venv",
   "language": "python",
   "name": "python3"
  },
  "language_info": {
   "codemirror_mode": {
    "name": "ipython",
    "version": 3
   },
   "file_extension": ".py",
   "mimetype": "text/x-python",
   "name": "python",
   "nbconvert_exporter": "python",
   "pygments_lexer": "ipython3",
   "version": "3.11.4"
  },
  "orig_nbformat": 4
 },
 "nbformat": 4,
 "nbformat_minor": 2
}
