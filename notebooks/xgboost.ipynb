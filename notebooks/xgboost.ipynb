{
 "cells": [
  {
   "cell_type": "markdown",
   "metadata": {},
   "source": [
    "# ImmoEliza - XG Boost\n",
    "\n",
    "After an exploration of several models, XG Boost turned out to provide the best results. Therefore this notebook is a seperate flow of this model.\n",
    "\n",
    "If you want to rerun the model for a different property type (see below), you will need to import the dataframe again.\n",
    "\n",
    "**Caveats:**\n",
    "* At the moment this model only includes numerical variables (such as number of bedrooms or area of the plot) not categorical variables (such as building condition, heating type or EPC). \n",
    "* The model does not use any form of scaling."
   ]
  },
  {
   "cell_type": "code",
   "execution_count": 1,
   "metadata": {},
   "outputs": [],
   "source": [
    "#import libraries \n",
    "import re\n",
    "import pandas as pd\n",
    "import numpy as np\n",
    "from sklearn.model_selection import train_test_split\n",
    "from sklearn.metrics import mean_squared_error\n",
    "import xgboost as xg"
   ]
  },
  {
   "cell_type": "code",
   "execution_count": 2,
   "metadata": {},
   "outputs": [
    {
     "data": {
      "text/html": [
       "<div>\n",
       "<style scoped>\n",
       "    .dataframe tbody tr th:only-of-type {\n",
       "        vertical-align: middle;\n",
       "    }\n",
       "\n",
       "    .dataframe tbody tr th {\n",
       "        vertical-align: top;\n",
       "    }\n",
       "\n",
       "    .dataframe thead th {\n",
       "        text-align: right;\n",
       "    }\n",
       "</style>\n",
       "<table border=\"1\" class=\"dataframe\">\n",
       "  <thead>\n",
       "    <tr style=\"text-align: right;\">\n",
       "      <th></th>\n",
       "      <th>property_type</th>\n",
       "      <th>property_subtype</th>\n",
       "      <th>immo_code</th>\n",
       "      <th>location</th>\n",
       "      <th>postcode</th>\n",
       "      <th>province</th>\n",
       "      <th>region</th>\n",
       "      <th>price</th>\n",
       "      <th>address</th>\n",
       "      <th>energy_class</th>\n",
       "      <th>...</th>\n",
       "      <th>construction_year</th>\n",
       "      <th>building_condition</th>\n",
       "      <th>bedrooms</th>\n",
       "      <th>bathrooms</th>\n",
       "      <th>shower_rooms</th>\n",
       "      <th>office</th>\n",
       "      <th>toilets</th>\n",
       "      <th>kitchen_type</th>\n",
       "      <th>heating_type</th>\n",
       "      <th>price_orig</th>\n",
       "    </tr>\n",
       "  </thead>\n",
       "  <tbody>\n",
       "    <tr>\n",
       "      <th>0</th>\n",
       "      <td>house</td>\n",
       "      <td>house</td>\n",
       "      <td>10666428</td>\n",
       "      <td>essen</td>\n",
       "      <td>2910</td>\n",
       "      <td>Antwerpen</td>\n",
       "      <td>Flanders</td>\n",
       "      <td>469000</td>\n",
       "      <td>Heidestatiestraat 26</td>\n",
       "      <td>D</td>\n",
       "      <td>...</td>\n",
       "      <td>0</td>\n",
       "      <td>0</td>\n",
       "      <td>3</td>\n",
       "      <td>1</td>\n",
       "      <td>0</td>\n",
       "      <td>0</td>\n",
       "      <td>2</td>\n",
       "      <td>Installed</td>\n",
       "      <td>0</td>\n",
       "      <td>€469000</td>\n",
       "    </tr>\n",
       "    <tr>\n",
       "      <th>1</th>\n",
       "      <td>house</td>\n",
       "      <td>house</td>\n",
       "      <td>10666426</td>\n",
       "      <td>bierges</td>\n",
       "      <td>1301</td>\n",
       "      <td>Brabant wallon</td>\n",
       "      <td>Wallonia</td>\n",
       "      <td>1395000</td>\n",
       "      <td>Rue de Wavre, 27</td>\n",
       "      <td>C</td>\n",
       "      <td>...</td>\n",
       "      <td>1988</td>\n",
       "      <td>Good</td>\n",
       "      <td>5</td>\n",
       "      <td>2</td>\n",
       "      <td>3</td>\n",
       "      <td>1</td>\n",
       "      <td>4</td>\n",
       "      <td>Hyper equipped</td>\n",
       "      <td>Fuel oil</td>\n",
       "      <td>€1395000</td>\n",
       "    </tr>\n",
       "    <tr>\n",
       "      <th>2</th>\n",
       "      <td>apartment</td>\n",
       "      <td>apartment</td>\n",
       "      <td>10666424</td>\n",
       "      <td>arlon</td>\n",
       "      <td>6700</td>\n",
       "      <td>Luxembourg</td>\n",
       "      <td>Wallonia</td>\n",
       "      <td>285000</td>\n",
       "      <td>Avenue de Longwy 340</td>\n",
       "      <td>D</td>\n",
       "      <td>...</td>\n",
       "      <td>0</td>\n",
       "      <td>Good</td>\n",
       "      <td>2</td>\n",
       "      <td>2</td>\n",
       "      <td>0</td>\n",
       "      <td>0</td>\n",
       "      <td>2</td>\n",
       "      <td>Installed</td>\n",
       "      <td>Electric</td>\n",
       "      <td>€285000</td>\n",
       "    </tr>\n",
       "    <tr>\n",
       "      <th>3</th>\n",
       "      <td>house</td>\n",
       "      <td>house</td>\n",
       "      <td>10666423</td>\n",
       "      <td>arlon</td>\n",
       "      <td>6700</td>\n",
       "      <td>Luxembourg</td>\n",
       "      <td>Wallonia</td>\n",
       "      <td>285000</td>\n",
       "      <td>Avenue de Longwy 340</td>\n",
       "      <td>D</td>\n",
       "      <td>...</td>\n",
       "      <td>0</td>\n",
       "      <td>Good</td>\n",
       "      <td>2</td>\n",
       "      <td>2</td>\n",
       "      <td>0</td>\n",
       "      <td>0</td>\n",
       "      <td>2</td>\n",
       "      <td>Installed</td>\n",
       "      <td>Electric</td>\n",
       "      <td>€285000</td>\n",
       "    </tr>\n",
       "    <tr>\n",
       "      <th>4</th>\n",
       "      <td>apartment</td>\n",
       "      <td>apartment</td>\n",
       "      <td>10666422</td>\n",
       "      <td>antwerp</td>\n",
       "      <td>2000</td>\n",
       "      <td>Antwerpen</td>\n",
       "      <td>Flanders</td>\n",
       "      <td>425000</td>\n",
       "      <td>Grote steenweg, 511</td>\n",
       "      <td>C</td>\n",
       "      <td>...</td>\n",
       "      <td>0</td>\n",
       "      <td>As new</td>\n",
       "      <td>2</td>\n",
       "      <td>1</td>\n",
       "      <td>0</td>\n",
       "      <td>0</td>\n",
       "      <td>0</td>\n",
       "      <td>Installed</td>\n",
       "      <td>0</td>\n",
       "      <td>€425000</td>\n",
       "    </tr>\n",
       "  </tbody>\n",
       "</table>\n",
       "<p>5 rows × 27 columns</p>\n",
       "</div>"
      ],
      "text/plain": [
       "  property_type property_subtype  immo_code location  postcode  \\\n",
       "0         house            house   10666428    essen      2910   \n",
       "1         house            house   10666426  bierges      1301   \n",
       "2     apartment        apartment   10666424    arlon      6700   \n",
       "3         house            house   10666423    arlon      6700   \n",
       "4     apartment        apartment   10666422  antwerp      2000   \n",
       "\n",
       "         province    region    price               address energy_class  ...  \\\n",
       "0       Antwerpen  Flanders   469000  Heidestatiestraat 26            D  ...   \n",
       "1  Brabant wallon  Wallonia  1395000      Rue de Wavre, 27            C  ...   \n",
       "2      Luxembourg  Wallonia   285000  Avenue de Longwy 340            D  ...   \n",
       "3      Luxembourg  Wallonia   285000  Avenue de Longwy 340            D  ...   \n",
       "4       Antwerpen  Flanders   425000   Grote steenweg, 511            C  ...   \n",
       "\n",
       "   construction_year  building_condition  bedrooms  bathrooms  shower_rooms  \\\n",
       "0                  0                   0         3          1             0   \n",
       "1               1988                Good         5          2             3   \n",
       "2                  0                Good         2          2             0   \n",
       "3                  0                Good         2          2             0   \n",
       "4                  0              As new         2          1             0   \n",
       "\n",
       "   office  toilets    kitchen_type heating_type  price_orig  \n",
       "0       0        2       Installed            0     €469000  \n",
       "1       1        4  Hyper equipped     Fuel oil    €1395000  \n",
       "2       0        2       Installed     Electric     €285000  \n",
       "3       0        2       Installed     Electric     €285000  \n",
       "4       0        0       Installed            0     €425000  \n",
       "\n",
       "[5 rows x 27 columns]"
      ]
     },
     "metadata": {},
     "output_type": "display_data"
    },
    {
     "data": {
      "text/plain": [
       "(6545, 27)"
      ]
     },
     "execution_count": 2,
     "metadata": {},
     "output_type": "execute_result"
    }
   ],
   "source": [
    "#import dataframe and display first rows and the total number of columns and rows\n",
    "df = pd.read_csv('../data/saved_data.csv', index_col=0)\n",
    "display(df.head())\n",
    "df.shape"
   ]
  },
  {
   "cell_type": "markdown",
   "metadata": {},
   "source": [
    "### Select properties by (sub)type\n",
    "You can hardly compare a kot to a castle. Therefore you can run the model for different property (sub)types. This model is limited to housing types so commercial and industrial buildings are excluded. It uses the types and subtypes set by Immoweb. There are two main types, 'house' and 'apartment' with the following subtypes: \n",
    "\n",
    "* house: house, villa, mixed-use-building, exceptional-property, other-property, country-cottage, mansion, town-house, bungalow, farmhouse, new-real-estate-project-houses, chalet, manor-house, castle\n",
    "* apartment: apartment, service-flat, duplex, triplex, apartment-block, loft, ground-floor, new-real-estate-project-apartments, kot, penthouse, flat-studio\n",
    "\n",
    "By changing the codeblock below, you can select which (sub)types you want to include (==) or exclude (!=). By default castles are excluded from the model. If you want to change this selection, you should start by reloading the original data by rerunning the codeblock above."
   ]
  },
  {
   "cell_type": "code",
   "execution_count": 3,
   "metadata": {},
   "outputs": [],
   "source": [
    "\n",
    "#df = df[df.property_type == 'apartment']\n",
    "#df = df[df.property_type == 'house']\n",
    "#df = df[df.property_subtype != 'castle'] #by default we exclude castles from our model "
   ]
  },
  {
   "cell_type": "code",
   "execution_count": 4,
   "metadata": {},
   "outputs": [
    {
     "name": "stdout",
     "output_type": "stream",
     "text": [
      "(6545, 27)\n"
     ]
    },
    {
     "data": {
      "text/html": [
       "<div>\n",
       "<style scoped>\n",
       "    .dataframe tbody tr th:only-of-type {\n",
       "        vertical-align: middle;\n",
       "    }\n",
       "\n",
       "    .dataframe tbody tr th {\n",
       "        vertical-align: top;\n",
       "    }\n",
       "\n",
       "    .dataframe thead th {\n",
       "        text-align: right;\n",
       "    }\n",
       "</style>\n",
       "<table border=\"1\" class=\"dataframe\">\n",
       "  <thead>\n",
       "    <tr style=\"text-align: right;\">\n",
       "      <th></th>\n",
       "      <th>property_type</th>\n",
       "      <th>property_subtype</th>\n",
       "      <th>immo_code</th>\n",
       "      <th>location</th>\n",
       "      <th>postcode</th>\n",
       "      <th>province</th>\n",
       "      <th>region</th>\n",
       "      <th>price</th>\n",
       "      <th>address</th>\n",
       "      <th>energy_class</th>\n",
       "      <th>...</th>\n",
       "      <th>construction_year</th>\n",
       "      <th>building_condition</th>\n",
       "      <th>bedrooms</th>\n",
       "      <th>bathrooms</th>\n",
       "      <th>shower_rooms</th>\n",
       "      <th>office</th>\n",
       "      <th>toilets</th>\n",
       "      <th>kitchen_type</th>\n",
       "      <th>heating_type</th>\n",
       "      <th>price_orig</th>\n",
       "    </tr>\n",
       "  </thead>\n",
       "  <tbody>\n",
       "    <tr>\n",
       "      <th>0</th>\n",
       "      <td>house</td>\n",
       "      <td>house</td>\n",
       "      <td>10666428</td>\n",
       "      <td>essen</td>\n",
       "      <td>2910</td>\n",
       "      <td>Antwerpen</td>\n",
       "      <td>Flanders</td>\n",
       "      <td>469000</td>\n",
       "      <td>Heidestatiestraat 26</td>\n",
       "      <td>D</td>\n",
       "      <td>...</td>\n",
       "      <td>0</td>\n",
       "      <td>0</td>\n",
       "      <td>3</td>\n",
       "      <td>1</td>\n",
       "      <td>0</td>\n",
       "      <td>0</td>\n",
       "      <td>2</td>\n",
       "      <td>Installed</td>\n",
       "      <td>0</td>\n",
       "      <td>€469000</td>\n",
       "    </tr>\n",
       "    <tr>\n",
       "      <th>1</th>\n",
       "      <td>house</td>\n",
       "      <td>house</td>\n",
       "      <td>10666426</td>\n",
       "      <td>bierges</td>\n",
       "      <td>1301</td>\n",
       "      <td>Brabant wallon</td>\n",
       "      <td>Wallonia</td>\n",
       "      <td>1395000</td>\n",
       "      <td>Rue de Wavre, 27</td>\n",
       "      <td>C</td>\n",
       "      <td>...</td>\n",
       "      <td>1988</td>\n",
       "      <td>Good</td>\n",
       "      <td>5</td>\n",
       "      <td>2</td>\n",
       "      <td>3</td>\n",
       "      <td>1</td>\n",
       "      <td>4</td>\n",
       "      <td>Hyper equipped</td>\n",
       "      <td>Fuel oil</td>\n",
       "      <td>€1395000</td>\n",
       "    </tr>\n",
       "    <tr>\n",
       "      <th>2</th>\n",
       "      <td>apartment</td>\n",
       "      <td>apartment</td>\n",
       "      <td>10666424</td>\n",
       "      <td>arlon</td>\n",
       "      <td>6700</td>\n",
       "      <td>Luxembourg</td>\n",
       "      <td>Wallonia</td>\n",
       "      <td>285000</td>\n",
       "      <td>Avenue de Longwy 340</td>\n",
       "      <td>D</td>\n",
       "      <td>...</td>\n",
       "      <td>0</td>\n",
       "      <td>Good</td>\n",
       "      <td>2</td>\n",
       "      <td>2</td>\n",
       "      <td>0</td>\n",
       "      <td>0</td>\n",
       "      <td>2</td>\n",
       "      <td>Installed</td>\n",
       "      <td>Electric</td>\n",
       "      <td>€285000</td>\n",
       "    </tr>\n",
       "    <tr>\n",
       "      <th>3</th>\n",
       "      <td>house</td>\n",
       "      <td>house</td>\n",
       "      <td>10666423</td>\n",
       "      <td>arlon</td>\n",
       "      <td>6700</td>\n",
       "      <td>Luxembourg</td>\n",
       "      <td>Wallonia</td>\n",
       "      <td>285000</td>\n",
       "      <td>Avenue de Longwy 340</td>\n",
       "      <td>D</td>\n",
       "      <td>...</td>\n",
       "      <td>0</td>\n",
       "      <td>Good</td>\n",
       "      <td>2</td>\n",
       "      <td>2</td>\n",
       "      <td>0</td>\n",
       "      <td>0</td>\n",
       "      <td>2</td>\n",
       "      <td>Installed</td>\n",
       "      <td>Electric</td>\n",
       "      <td>€285000</td>\n",
       "    </tr>\n",
       "    <tr>\n",
       "      <th>4</th>\n",
       "      <td>apartment</td>\n",
       "      <td>apartment</td>\n",
       "      <td>10666422</td>\n",
       "      <td>antwerp</td>\n",
       "      <td>2000</td>\n",
       "      <td>Antwerpen</td>\n",
       "      <td>Flanders</td>\n",
       "      <td>425000</td>\n",
       "      <td>Grote steenweg, 511</td>\n",
       "      <td>C</td>\n",
       "      <td>...</td>\n",
       "      <td>0</td>\n",
       "      <td>As new</td>\n",
       "      <td>2</td>\n",
       "      <td>1</td>\n",
       "      <td>0</td>\n",
       "      <td>0</td>\n",
       "      <td>0</td>\n",
       "      <td>Installed</td>\n",
       "      <td>0</td>\n",
       "      <td>€425000</td>\n",
       "    </tr>\n",
       "  </tbody>\n",
       "</table>\n",
       "<p>5 rows × 27 columns</p>\n",
       "</div>"
      ],
      "text/plain": [
       "  property_type property_subtype  immo_code location  postcode  \\\n",
       "0         house            house   10666428    essen      2910   \n",
       "1         house            house   10666426  bierges      1301   \n",
       "2     apartment        apartment   10666424    arlon      6700   \n",
       "3         house            house   10666423    arlon      6700   \n",
       "4     apartment        apartment   10666422  antwerp      2000   \n",
       "\n",
       "         province    region    price               address energy_class  ...  \\\n",
       "0       Antwerpen  Flanders   469000  Heidestatiestraat 26            D  ...   \n",
       "1  Brabant wallon  Wallonia  1395000      Rue de Wavre, 27            C  ...   \n",
       "2      Luxembourg  Wallonia   285000  Avenue de Longwy 340            D  ...   \n",
       "3      Luxembourg  Wallonia   285000  Avenue de Longwy 340            D  ...   \n",
       "4       Antwerpen  Flanders   425000   Grote steenweg, 511            C  ...   \n",
       "\n",
       "   construction_year  building_condition  bedrooms  bathrooms  shower_rooms  \\\n",
       "0                  0                   0         3          1             0   \n",
       "1               1988                Good         5          2             3   \n",
       "2                  0                Good         2          2             0   \n",
       "3                  0                Good         2          2             0   \n",
       "4                  0              As new         2          1             0   \n",
       "\n",
       "   office  toilets    kitchen_type heating_type  price_orig  \n",
       "0       0        2       Installed            0     €469000  \n",
       "1       1        4  Hyper equipped     Fuel oil    €1395000  \n",
       "2       0        2       Installed     Electric     €285000  \n",
       "3       0        2       Installed     Electric     €285000  \n",
       "4       0        0       Installed            0     €425000  \n",
       "\n",
       "[5 rows x 27 columns]"
      ]
     },
     "metadata": {},
     "output_type": "display_data"
    }
   ],
   "source": [
    "print(df.shape)\n",
    "display(df.head())"
   ]
  },
  {
   "cell_type": "markdown",
   "metadata": {},
   "source": [
    "### Define model variables\n"
   ]
  },
  {
   "cell_type": "code",
   "execution_count": 5,
   "metadata": {},
   "outputs": [
    {
     "name": "stdout",
     "output_type": "stream",
     "text": [
      "<class 'numpy.ndarray'>\n",
      "[[390   0   1 ...   0   0   2]\n",
      " [178   0   1 ...   3   1   4]\n",
      " [299   0   0 ...   0   0   2]\n",
      " ...\n",
      " [120   0   1 ...   0   0   0]\n",
      " [161   0   1 ...   0   0   0]\n",
      " [197   0   1 ...   3   1   4]]\n"
     ]
    }
   ],
   "source": [
    "#int_columns=['furnished', 'terrace', 'terrace_surface', 'plot_surface', 'living_room_surface', 'frontages', 'construction_year', 'bedrooms', 'bathrooms', 'shower_rooms', 'office', 'toilets']\n",
    "int_columns=['primary_energy_consumption', 'furnished', 'terrace', 'terrace_surface', 'plot_surface', 'living_room_surface', 'frontages', 'construction_year', 'bedrooms', 'bathrooms', 'shower_rooms', 'office', 'toilets']\n",
    "#int_columns=['bedrooms', 'bathrooms', 'toilets']\n",
    "\n",
    "X = df[int_columns].to_numpy()\n",
    "y = df.price.to_numpy().reshape(-1,1)\n",
    "print(type(X))\n",
    "print(X)\n"
   ]
  },
  {
   "cell_type": "markdown",
   "metadata": {},
   "source": [
    "### Split the dataset"
   ]
  },
  {
   "cell_type": "code",
   "execution_count": 6,
   "metadata": {},
   "outputs": [
    {
     "name": "stdout",
     "output_type": "stream",
     "text": [
      "Shape of X_train:  (5236, 13)\n",
      "Shape of X_test:  (1309, 13)\n",
      "Shape of y_train:  (5236, 1)\n",
      "Shape of y_test:  (1309, 1)\n"
     ]
    }
   ],
   "source": [
    "X_train, X_test, y_train, y_test = train_test_split(X, y, test_size=0.20, random_state=41)\n",
    "print(\"Shape of X_train: \", X_train.shape)\n",
    "print(\"Shape of X_test: \", X_test.shape)\n",
    "print(\"Shape of y_train: \", y_train.shape)\n",
    "print(\"Shape of y_test: \", y_test.shape)"
   ]
  },
  {
   "cell_type": "markdown",
   "metadata": {},
   "source": [
    "##  Load and fit the model (with Sklearn)"
   ]
  },
  {
   "cell_type": "code",
   "execution_count": 7,
   "metadata": {},
   "outputs": [
    {
     "name": "stdout",
     "output_type": "stream",
     "text": [
      "[14:44:06] WARNING: C:\\buildkite-agent\\builds\\buildkite-windows-cpu-autoscaling-group-i-0fdc6d574b9c0d168-1\\xgboost\\xgboost-ci-windows\\src\\objective\\regression_obj.cu:213: reg:linear is now deprecated in favor of reg:squarederror.\n"
     ]
    }
   ],
   "source": [
    "XG_model = \"XG Boost\"\n",
    "\n",
    "XG_regressor = xg.XGBRegressor(objective ='reg:linear', n_estimators = 10, seed = 20)\n",
    "\"\"\"X_train = X_train.reshape(-1,1)\n",
    "X_test = X_test.reshape(-1,1)\"\"\"\n",
    "XG_regressor.fit(X_train, y_train)\n",
    "XG_train_score = XG_regressor.score(X_train, y_train)\n",
    "XG_test_score = XG_regressor.score(X_test,y_test)\n",
    "XG_y_pred = XG_regressor.predict(X_test)\n",
    "XG_R_MSE = mean_squared_error(y_test, XG_y_pred, squared = False)"
   ]
  },
  {
   "cell_type": "code",
   "execution_count": 8,
   "metadata": {},
   "outputs": [
    {
     "data": {
      "text/plain": [
       "'pseudocode\\n\\nXG_regressor opslaan\\nin API model importeren \\nXG_regressor.predict toepassen op API-input'"
      ]
     },
     "execution_count": 8,
     "metadata": {},
     "output_type": "execute_result"
    }
   ],
   "source": [
    "\"\"\"pseudocode\n",
    "\n",
    "XG_regressor opslaan\n",
    "in API model importeren \n",
    "XG_regressor.predict toepassen op API-input\"\"\""
   ]
  },
  {
   "cell_type": "markdown",
   "metadata": {},
   "source": [
    "### Scores"
   ]
  },
  {
   "cell_type": "code",
   "execution_count": 9,
   "metadata": {},
   "outputs": [
    {
     "data": {
      "text/html": [
       "<div>\n",
       "<style scoped>\n",
       "    .dataframe tbody tr th:only-of-type {\n",
       "        vertical-align: middle;\n",
       "    }\n",
       "\n",
       "    .dataframe tbody tr th {\n",
       "        vertical-align: top;\n",
       "    }\n",
       "\n",
       "    .dataframe thead th {\n",
       "        text-align: right;\n",
       "    }\n",
       "</style>\n",
       "<table border=\"1\" class=\"dataframe\">\n",
       "  <thead>\n",
       "    <tr style=\"text-align: right;\">\n",
       "      <th></th>\n",
       "      <th>model</th>\n",
       "      <th>train_score</th>\n",
       "      <th>test_score</th>\n",
       "      <th>R_MSE</th>\n",
       "    </tr>\n",
       "  </thead>\n",
       "  <tbody>\n",
       "    <tr>\n",
       "      <th>0</th>\n",
       "      <td>XG Boost</td>\n",
       "      <td>0.771752</td>\n",
       "      <td>0.524155</td>\n",
       "      <td>326735.959876</td>\n",
       "    </tr>\n",
       "  </tbody>\n",
       "</table>\n",
       "</div>"
      ],
      "text/plain": [
       "      model  train_score  test_score          R_MSE\n",
       "0  XG Boost     0.771752    0.524155  326735.959876"
      ]
     },
     "metadata": {},
     "output_type": "display_data"
    }
   ],
   "source": [
    "model_score_list = [\"model\", \"train_score\", \"test_score\", \"R_MSE\"]\n",
    "\n",
    "data = [[XG_model, XG_train_score, XG_test_score, XG_R_MSE]]\n",
    "newscore_df = pd.DataFrame(data, columns=model_score_list)\n",
    "#score_df = score_df.join(newscore_df, on=['model'], how='right')\n",
    "#score_df [\"train_score\", \"test_score\", \"R_MSE\"] = newscore_df [\"train_score\", \"test_score\", \"R_MSE\"]\n",
    "score_df=newscore_df\n",
    "display(score_df)"
   ]
  },
  {
   "cell_type": "markdown",
   "metadata": {},
   "source": [
    "### Save Model"
   ]
  },
  {
   "cell_type": "code",
   "execution_count": 10,
   "metadata": {},
   "outputs": [],
   "source": [
    "XG_regressor.save_model('../models/xg_model.json')"
   ]
  },
  {
   "cell_type": "markdown",
   "metadata": {},
   "source": [
    "### Get a random sample"
   ]
  },
  {
   "cell_type": "code",
   "execution_count": 22,
   "metadata": {},
   "outputs": [
    {
     "data": {
      "text/plain": [
       "{'immo_code': {521: 10666229},\n",
       " 'price': {521: 825000},\n",
       " 'primary_energy_consumption': {521: 108},\n",
       " 'furnished': {521: 0},\n",
       " 'terrace': {521: 1},\n",
       " 'terrace_surface': {521: 0},\n",
       " 'plot_surface': {521: 0},\n",
       " 'living_room_surface': {521: 0},\n",
       " 'frontages': {521: 0},\n",
       " 'construction_year': {521: 2003},\n",
       " 'bedrooms': {521: 2},\n",
       " 'bathrooms': {521: 2},\n",
       " 'shower_rooms': {521: 0},\n",
       " 'office': {521: 0},\n",
       " 'toilets': {521: 1}}"
      ]
     },
     "metadata": {},
     "output_type": "display_data"
    },
    {
     "name": "stdout",
     "output_type": "stream",
     "text": [
      "{'primary_energy_consumption': {521: 108}, 'furnished': {521: 0}, 'terrace': {521: 1}, 'terrace_surface': {521: 0}, 'plot_surface': {521: 0}, 'living_room_surface': {521: 0}, 'frontages': {521: 0}, 'construction_year': {521: 2003}, 'bedrooms': {521: 2}, 'bathrooms': {521: 2}, 'shower_rooms': {521: 0}, 'office': {521: 0}, 'toilets': {521: 1}}\n"
     ]
    }
   ],
   "source": [
    "test_columns = [\"immo_code\", \"price\"] + int_columns\n",
    "test_sample_full = (\n",
    "        df[test_columns]\n",
    "        .sample()\n",
    ")\n",
    "test_sample_full_dict = test_sample_full.to_dict(orient=\"dict\")\n",
    "display(test_sample_full_dict)\n",
    "test_sample = test_sample_full[int_columns].to_dict(orient=\"dict\")\n",
    "print(test_sample)\n"
   ]
  },
  {
   "cell_type": "code",
   "execution_count": 20,
   "metadata": {},
   "outputs": [
    {
     "name": "stdout",
     "output_type": "stream",
     "text": [
      "[356036.9]\n"
     ]
    },
    {
     "data": {
      "text/html": [
       "<div>\n",
       "<style scoped>\n",
       "    .dataframe tbody tr th:only-of-type {\n",
       "        vertical-align: middle;\n",
       "    }\n",
       "\n",
       "    .dataframe tbody tr th {\n",
       "        vertical-align: top;\n",
       "    }\n",
       "\n",
       "    .dataframe thead th {\n",
       "        text-align: right;\n",
       "    }\n",
       "</style>\n",
       "<table border=\"1\" class=\"dataframe\">\n",
       "  <thead>\n",
       "    <tr style=\"text-align: right;\">\n",
       "      <th></th>\n",
       "      <th>primary_energy_consumption</th>\n",
       "      <th>furnished</th>\n",
       "      <th>terrace</th>\n",
       "      <th>terrace_surface</th>\n",
       "      <th>plot_surface</th>\n",
       "      <th>living_room_surface</th>\n",
       "      <th>frontages</th>\n",
       "      <th>construction_year</th>\n",
       "      <th>bedrooms</th>\n",
       "      <th>bathrooms</th>\n",
       "      <th>shower_rooms</th>\n",
       "      <th>office</th>\n",
       "      <th>toilets</th>\n",
       "    </tr>\n",
       "  </thead>\n",
       "  <tbody>\n",
       "    <tr>\n",
       "      <th>7594</th>\n",
       "      <td>286</td>\n",
       "      <td>0</td>\n",
       "      <td>0</td>\n",
       "      <td>0</td>\n",
       "      <td>580</td>\n",
       "      <td>30</td>\n",
       "      <td>3</td>\n",
       "      <td>1930</td>\n",
       "      <td>4</td>\n",
       "      <td>1</td>\n",
       "      <td>1</td>\n",
       "      <td>0</td>\n",
       "      <td>2</td>\n",
       "    </tr>\n",
       "  </tbody>\n",
       "</table>\n",
       "</div>"
      ],
      "text/plain": [
       "      primary_energy_consumption  furnished  terrace  terrace_surface  \\\n",
       "7594                         286          0        0                0   \n",
       "\n",
       "      plot_surface  living_room_surface  frontages  construction_year  \\\n",
       "7594           580                   30          3               1930   \n",
       "\n",
       "      bedrooms  bathrooms  shower_rooms  office  toilets  \n",
       "7594         4          1             1       0        2  "
      ]
     },
     "metadata": {},
     "output_type": "display_data"
    }
   ],
   "source": [
    "\n",
    "test_df = pd.DataFrame.from_dict(test_sample)\n",
    "print(XG_regressor.predict(test_df))\n",
    "display(test_df)"
   ]
  }
 ],
 "metadata": {
  "kernelspec": {
   "display_name": "Python 3",
   "language": "python",
   "name": "python3"
  },
  "language_info": {
   "codemirror_mode": {
    "name": "ipython",
    "version": 3
   },
   "file_extension": ".py",
   "mimetype": "text/x-python",
   "name": "python",
   "nbconvert_exporter": "python",
   "pygments_lexer": "ipython3",
   "version": "3.11.4"
  }
 },
 "nbformat": 4,
 "nbformat_minor": 4
}
