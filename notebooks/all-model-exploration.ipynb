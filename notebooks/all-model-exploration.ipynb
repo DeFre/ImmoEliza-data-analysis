{
 "cells": [
  {
   "cell_type": "markdown",
   "metadata": {},
   "source": [
    "# ImmoEliza - Data Modelling\n",
    "\n",
    "This notebook explores the different data models and how data selection and scaling impacts the predicted price. \n",
    "\n",
    "If you want to rerun the model for a different property type (see below), you will need to import the dataframe again.\n",
    "\n",
    "**Caveats:**\n",
    "* At the moment this model only includes numerical variables (such as number of bedrooms or area of the plot) not categorical variables (such as building condition, heating type or EPC). \n",
    "* The model does not use any form of scaling."
   ]
  },
  {
   "cell_type": "code",
   "execution_count": 1,
   "metadata": {},
   "outputs": [],
   "source": [
    "#import libraries \n",
    "import re\n",
    "import pandas as pd\n",
    "import numpy as np\n",
    "import matplotlib.pyplot as plt \n",
    "import seaborn as sns \n",
    "import plotly.express as px"
   ]
  },
  {
   "cell_type": "code",
   "execution_count": 2,
   "metadata": {},
   "outputs": [
    {
     "data": {
      "text/html": [
       "<div>\n",
       "<style scoped>\n",
       "    .dataframe tbody tr th:only-of-type {\n",
       "        vertical-align: middle;\n",
       "    }\n",
       "\n",
       "    .dataframe tbody tr th {\n",
       "        vertical-align: top;\n",
       "    }\n",
       "\n",
       "    .dataframe thead th {\n",
       "        text-align: right;\n",
       "    }\n",
       "</style>\n",
       "<table border=\"1\" class=\"dataframe\">\n",
       "  <thead>\n",
       "    <tr style=\"text-align: right;\">\n",
       "      <th></th>\n",
       "      <th>property_type</th>\n",
       "      <th>property_subtype</th>\n",
       "      <th>immo_code</th>\n",
       "      <th>location</th>\n",
       "      <th>postcode</th>\n",
       "      <th>province</th>\n",
       "      <th>region</th>\n",
       "      <th>price</th>\n",
       "      <th>address</th>\n",
       "      <th>energy_class</th>\n",
       "      <th>...</th>\n",
       "      <th>construction_year</th>\n",
       "      <th>building_condition</th>\n",
       "      <th>bedrooms</th>\n",
       "      <th>bathrooms</th>\n",
       "      <th>shower_rooms</th>\n",
       "      <th>office</th>\n",
       "      <th>toilets</th>\n",
       "      <th>kitchen_type</th>\n",
       "      <th>heating_type</th>\n",
       "      <th>price_orig</th>\n",
       "    </tr>\n",
       "  </thead>\n",
       "  <tbody>\n",
       "    <tr>\n",
       "      <th>0</th>\n",
       "      <td>house</td>\n",
       "      <td>house</td>\n",
       "      <td>10666428</td>\n",
       "      <td>essen</td>\n",
       "      <td>2910</td>\n",
       "      <td>Antwerpen</td>\n",
       "      <td>Flanders</td>\n",
       "      <td>469000</td>\n",
       "      <td>Heidestatiestraat 26</td>\n",
       "      <td>D</td>\n",
       "      <td>...</td>\n",
       "      <td>0</td>\n",
       "      <td>0</td>\n",
       "      <td>3</td>\n",
       "      <td>1</td>\n",
       "      <td>0</td>\n",
       "      <td>0</td>\n",
       "      <td>2</td>\n",
       "      <td>Installed</td>\n",
       "      <td>0</td>\n",
       "      <td>€469000</td>\n",
       "    </tr>\n",
       "    <tr>\n",
       "      <th>1</th>\n",
       "      <td>house</td>\n",
       "      <td>house</td>\n",
       "      <td>10666426</td>\n",
       "      <td>bierges</td>\n",
       "      <td>1301</td>\n",
       "      <td>Brabant wallon</td>\n",
       "      <td>Wallonia</td>\n",
       "      <td>1395000</td>\n",
       "      <td>Rue de Wavre, 27</td>\n",
       "      <td>C</td>\n",
       "      <td>...</td>\n",
       "      <td>1988</td>\n",
       "      <td>Good</td>\n",
       "      <td>5</td>\n",
       "      <td>2</td>\n",
       "      <td>3</td>\n",
       "      <td>1</td>\n",
       "      <td>4</td>\n",
       "      <td>Hyper equipped</td>\n",
       "      <td>Fuel oil</td>\n",
       "      <td>€1395000</td>\n",
       "    </tr>\n",
       "    <tr>\n",
       "      <th>2</th>\n",
       "      <td>apartment</td>\n",
       "      <td>apartment</td>\n",
       "      <td>10666424</td>\n",
       "      <td>arlon</td>\n",
       "      <td>6700</td>\n",
       "      <td>Luxembourg</td>\n",
       "      <td>Wallonia</td>\n",
       "      <td>285000</td>\n",
       "      <td>Avenue de Longwy 340</td>\n",
       "      <td>D</td>\n",
       "      <td>...</td>\n",
       "      <td>0</td>\n",
       "      <td>Good</td>\n",
       "      <td>2</td>\n",
       "      <td>2</td>\n",
       "      <td>0</td>\n",
       "      <td>0</td>\n",
       "      <td>2</td>\n",
       "      <td>Installed</td>\n",
       "      <td>Electric</td>\n",
       "      <td>€285000</td>\n",
       "    </tr>\n",
       "    <tr>\n",
       "      <th>3</th>\n",
       "      <td>house</td>\n",
       "      <td>house</td>\n",
       "      <td>10666423</td>\n",
       "      <td>arlon</td>\n",
       "      <td>6700</td>\n",
       "      <td>Luxembourg</td>\n",
       "      <td>Wallonia</td>\n",
       "      <td>285000</td>\n",
       "      <td>Avenue de Longwy 340</td>\n",
       "      <td>D</td>\n",
       "      <td>...</td>\n",
       "      <td>0</td>\n",
       "      <td>Good</td>\n",
       "      <td>2</td>\n",
       "      <td>2</td>\n",
       "      <td>0</td>\n",
       "      <td>0</td>\n",
       "      <td>2</td>\n",
       "      <td>Installed</td>\n",
       "      <td>Electric</td>\n",
       "      <td>€285000</td>\n",
       "    </tr>\n",
       "    <tr>\n",
       "      <th>4</th>\n",
       "      <td>apartment</td>\n",
       "      <td>apartment</td>\n",
       "      <td>10666422</td>\n",
       "      <td>antwerp</td>\n",
       "      <td>2000</td>\n",
       "      <td>Antwerpen</td>\n",
       "      <td>Flanders</td>\n",
       "      <td>425000</td>\n",
       "      <td>Grote steenweg, 511</td>\n",
       "      <td>C</td>\n",
       "      <td>...</td>\n",
       "      <td>0</td>\n",
       "      <td>As new</td>\n",
       "      <td>2</td>\n",
       "      <td>1</td>\n",
       "      <td>0</td>\n",
       "      <td>0</td>\n",
       "      <td>0</td>\n",
       "      <td>Installed</td>\n",
       "      <td>0</td>\n",
       "      <td>€425000</td>\n",
       "    </tr>\n",
       "  </tbody>\n",
       "</table>\n",
       "<p>5 rows × 27 columns</p>\n",
       "</div>"
      ],
      "text/plain": [
       "  property_type property_subtype  immo_code location  postcode  \\\n",
       "0         house            house   10666428    essen      2910   \n",
       "1         house            house   10666426  bierges      1301   \n",
       "2     apartment        apartment   10666424    arlon      6700   \n",
       "3         house            house   10666423    arlon      6700   \n",
       "4     apartment        apartment   10666422  antwerp      2000   \n",
       "\n",
       "         province    region    price               address energy_class  ...  \\\n",
       "0       Antwerpen  Flanders   469000  Heidestatiestraat 26            D  ...   \n",
       "1  Brabant wallon  Wallonia  1395000      Rue de Wavre, 27            C  ...   \n",
       "2      Luxembourg  Wallonia   285000  Avenue de Longwy 340            D  ...   \n",
       "3      Luxembourg  Wallonia   285000  Avenue de Longwy 340            D  ...   \n",
       "4       Antwerpen  Flanders   425000   Grote steenweg, 511            C  ...   \n",
       "\n",
       "   construction_year  building_condition  bedrooms  bathrooms  shower_rooms  \\\n",
       "0                  0                   0         3          1             0   \n",
       "1               1988                Good         5          2             3   \n",
       "2                  0                Good         2          2             0   \n",
       "3                  0                Good         2          2             0   \n",
       "4                  0              As new         2          1             0   \n",
       "\n",
       "   office  toilets    kitchen_type heating_type  price_orig  \n",
       "0       0        2       Installed            0     €469000  \n",
       "1       1        4  Hyper equipped     Fuel oil    €1395000  \n",
       "2       0        2       Installed     Electric     €285000  \n",
       "3       0        2       Installed     Electric     €285000  \n",
       "4       0        0       Installed            0     €425000  \n",
       "\n",
       "[5 rows x 27 columns]"
      ]
     },
     "metadata": {},
     "output_type": "display_data"
    },
    {
     "data": {
      "text/plain": [
       "(6545, 27)"
      ]
     },
     "execution_count": 2,
     "metadata": {},
     "output_type": "execute_result"
    }
   ],
   "source": [
    "#import dataframe and display first rows and the total number of columns and rows\n",
    "df = pd.read_csv('../data/saved_data.csv', index_col=0)\n",
    "display(df.head())\n",
    "df.shape"
   ]
  },
  {
   "cell_type": "markdown",
   "metadata": {},
   "source": [
    "### Select properties by (sub)type\n",
    "You can hardly compare a kot to a castle. Therefore you can run the model for different property (sub)types. This model is limited to housing types so commercial and industrial buildings are excluded. It uses the types and subtypes set by Immoweb. There are two main types, 'house' and 'apartment' with the following subtypes: \n",
    "\n",
    "* house: house, villa, mixed-use-building, exceptional-property, other-property, country-cottage, mansion, town-house, bungalow, farmhouse, new-real-estate-project-houses, chalet, manor-house, castle\n",
    "* apartment: apartment, service-flat, duplex, triplex, apartment-block, loft, ground-floor, new-real-estate-project-apartments, kot, penthouse, flat-studio\n",
    "\n",
    "By changing the codeblock below, you can select which (sub)types you want to include (==) or exclude (!=). By default castles are excluded from the model. If you want to change this selection, you should start by reloading the original data by rerunning the codeblock above."
   ]
  },
  {
   "cell_type": "code",
   "execution_count": 3,
   "metadata": {},
   "outputs": [],
   "source": [
    "\n",
    "#df = df[df.property_type == 'apartment']\n",
    "df = df[df.property_type == 'house']\n",
    "df = df[df.property_subtype != 'castle'] #by default we exclude castles from our model "
   ]
  },
  {
   "cell_type": "code",
   "execution_count": 4,
   "metadata": {},
   "outputs": [
    {
     "name": "stdout",
     "output_type": "stream",
     "text": [
      "(4191, 27)\n"
     ]
    },
    {
     "data": {
      "text/html": [
       "<div>\n",
       "<style scoped>\n",
       "    .dataframe tbody tr th:only-of-type {\n",
       "        vertical-align: middle;\n",
       "    }\n",
       "\n",
       "    .dataframe tbody tr th {\n",
       "        vertical-align: top;\n",
       "    }\n",
       "\n",
       "    .dataframe thead th {\n",
       "        text-align: right;\n",
       "    }\n",
       "</style>\n",
       "<table border=\"1\" class=\"dataframe\">\n",
       "  <thead>\n",
       "    <tr style=\"text-align: right;\">\n",
       "      <th></th>\n",
       "      <th>property_type</th>\n",
       "      <th>property_subtype</th>\n",
       "      <th>immo_code</th>\n",
       "      <th>location</th>\n",
       "      <th>postcode</th>\n",
       "      <th>province</th>\n",
       "      <th>region</th>\n",
       "      <th>price</th>\n",
       "      <th>address</th>\n",
       "      <th>energy_class</th>\n",
       "      <th>...</th>\n",
       "      <th>construction_year</th>\n",
       "      <th>building_condition</th>\n",
       "      <th>bedrooms</th>\n",
       "      <th>bathrooms</th>\n",
       "      <th>shower_rooms</th>\n",
       "      <th>office</th>\n",
       "      <th>toilets</th>\n",
       "      <th>kitchen_type</th>\n",
       "      <th>heating_type</th>\n",
       "      <th>price_orig</th>\n",
       "    </tr>\n",
       "  </thead>\n",
       "  <tbody>\n",
       "    <tr>\n",
       "      <th>0</th>\n",
       "      <td>house</td>\n",
       "      <td>house</td>\n",
       "      <td>10666428</td>\n",
       "      <td>essen</td>\n",
       "      <td>2910</td>\n",
       "      <td>Antwerpen</td>\n",
       "      <td>Flanders</td>\n",
       "      <td>469000</td>\n",
       "      <td>Heidestatiestraat 26</td>\n",
       "      <td>D</td>\n",
       "      <td>...</td>\n",
       "      <td>0</td>\n",
       "      <td>0</td>\n",
       "      <td>3</td>\n",
       "      <td>1</td>\n",
       "      <td>0</td>\n",
       "      <td>0</td>\n",
       "      <td>2</td>\n",
       "      <td>Installed</td>\n",
       "      <td>0</td>\n",
       "      <td>€469000</td>\n",
       "    </tr>\n",
       "    <tr>\n",
       "      <th>1</th>\n",
       "      <td>house</td>\n",
       "      <td>house</td>\n",
       "      <td>10666426</td>\n",
       "      <td>bierges</td>\n",
       "      <td>1301</td>\n",
       "      <td>Brabant wallon</td>\n",
       "      <td>Wallonia</td>\n",
       "      <td>1395000</td>\n",
       "      <td>Rue de Wavre, 27</td>\n",
       "      <td>C</td>\n",
       "      <td>...</td>\n",
       "      <td>1988</td>\n",
       "      <td>Good</td>\n",
       "      <td>5</td>\n",
       "      <td>2</td>\n",
       "      <td>3</td>\n",
       "      <td>1</td>\n",
       "      <td>4</td>\n",
       "      <td>Hyper equipped</td>\n",
       "      <td>Fuel oil</td>\n",
       "      <td>€1395000</td>\n",
       "    </tr>\n",
       "    <tr>\n",
       "      <th>3</th>\n",
       "      <td>house</td>\n",
       "      <td>house</td>\n",
       "      <td>10666423</td>\n",
       "      <td>arlon</td>\n",
       "      <td>6700</td>\n",
       "      <td>Luxembourg</td>\n",
       "      <td>Wallonia</td>\n",
       "      <td>285000</td>\n",
       "      <td>Avenue de Longwy 340</td>\n",
       "      <td>D</td>\n",
       "      <td>...</td>\n",
       "      <td>0</td>\n",
       "      <td>Good</td>\n",
       "      <td>2</td>\n",
       "      <td>2</td>\n",
       "      <td>0</td>\n",
       "      <td>0</td>\n",
       "      <td>2</td>\n",
       "      <td>Installed</td>\n",
       "      <td>Electric</td>\n",
       "      <td>€285000</td>\n",
       "    </tr>\n",
       "    <tr>\n",
       "      <th>6</th>\n",
       "      <td>house</td>\n",
       "      <td>house</td>\n",
       "      <td>10666419</td>\n",
       "      <td>grace-hollogne</td>\n",
       "      <td>4460</td>\n",
       "      <td>Liï¿½ge</td>\n",
       "      <td>Wallonia</td>\n",
       "      <td>189000</td>\n",
       "      <td>Avenue Louis Libert 1</td>\n",
       "      <td>E</td>\n",
       "      <td>...</td>\n",
       "      <td>1934</td>\n",
       "      <td>Good</td>\n",
       "      <td>2</td>\n",
       "      <td>1</td>\n",
       "      <td>0</td>\n",
       "      <td>0</td>\n",
       "      <td>0</td>\n",
       "      <td>Semi equipped</td>\n",
       "      <td>Fuel oil</td>\n",
       "      <td>€189000</td>\n",
       "    </tr>\n",
       "    <tr>\n",
       "      <th>7</th>\n",
       "      <td>house</td>\n",
       "      <td>villa</td>\n",
       "      <td>10666418</td>\n",
       "      <td>aywaille</td>\n",
       "      <td>4920</td>\n",
       "      <td>Liï¿½ge</td>\n",
       "      <td>Wallonia</td>\n",
       "      <td>399999</td>\n",
       "      <td>Avenue Louis Libert 1</td>\n",
       "      <td>C</td>\n",
       "      <td>...</td>\n",
       "      <td>2004</td>\n",
       "      <td>To be done up</td>\n",
       "      <td>4</td>\n",
       "      <td>1</td>\n",
       "      <td>0</td>\n",
       "      <td>1</td>\n",
       "      <td>0</td>\n",
       "      <td>Semi equipped</td>\n",
       "      <td>Fuel oil</td>\n",
       "      <td>€399999</td>\n",
       "    </tr>\n",
       "  </tbody>\n",
       "</table>\n",
       "<p>5 rows × 27 columns</p>\n",
       "</div>"
      ],
      "text/plain": [
       "  property_type property_subtype  immo_code        location  postcode  \\\n",
       "0         house            house   10666428           essen      2910   \n",
       "1         house            house   10666426         bierges      1301   \n",
       "3         house            house   10666423           arlon      6700   \n",
       "6         house            house   10666419  grace-hollogne      4460   \n",
       "7         house            villa   10666418        aywaille      4920   \n",
       "\n",
       "         province    region    price                address energy_class  ...  \\\n",
       "0       Antwerpen  Flanders   469000   Heidestatiestraat 26            D  ...   \n",
       "1  Brabant wallon  Wallonia  1395000       Rue de Wavre, 27            C  ...   \n",
       "3      Luxembourg  Wallonia   285000   Avenue de Longwy 340            D  ...   \n",
       "6         Liï¿½ge  Wallonia   189000  Avenue Louis Libert 1            E  ...   \n",
       "7         Liï¿½ge  Wallonia   399999  Avenue Louis Libert 1            C  ...   \n",
       "\n",
       "   construction_year  building_condition  bedrooms  bathrooms  shower_rooms  \\\n",
       "0                  0                   0         3          1             0   \n",
       "1               1988                Good         5          2             3   \n",
       "3                  0                Good         2          2             0   \n",
       "6               1934                Good         2          1             0   \n",
       "7               2004       To be done up         4          1             0   \n",
       "\n",
       "   office  toilets    kitchen_type heating_type  price_orig  \n",
       "0       0        2       Installed            0     €469000  \n",
       "1       1        4  Hyper equipped     Fuel oil    €1395000  \n",
       "3       0        2       Installed     Electric     €285000  \n",
       "6       0        0   Semi equipped     Fuel oil     €189000  \n",
       "7       1        0   Semi equipped     Fuel oil     €399999  \n",
       "\n",
       "[5 rows x 27 columns]"
      ]
     },
     "metadata": {},
     "output_type": "display_data"
    }
   ],
   "source": [
    "print(df.shape)\n",
    "display(df.head())"
   ]
  },
  {
   "cell_type": "markdown",
   "metadata": {},
   "source": [
    "### Define model variables\n"
   ]
  },
  {
   "cell_type": "code",
   "execution_count": 5,
   "metadata": {},
   "outputs": [
    {
     "name": "stdout",
     "output_type": "stream",
     "text": [
      "<class 'numpy.ndarray'>\n",
      "[[390   0   1 ...   0   0   2]\n",
      " [178   0   1 ...   3   1   4]\n",
      " [299   0   0 ...   0   0   2]\n",
      " ...\n",
      " [199   0   1 ...   0   0   3]\n",
      " [161   0   1 ...   0   0   0]\n",
      " [197   0   1 ...   3   1   4]]\n"
     ]
    }
   ],
   "source": [
    "#int_columns=['furnished', 'terrace', 'terrace_surface', 'plot_surface', 'living_room_surface', 'frontages', 'construction_year', 'bedrooms', 'bathrooms', 'shower_rooms', 'office', 'toilets']\n",
    "int_columns=['primary_energy_consumption', 'furnished', 'terrace', 'terrace_surface', 'plot_surface', 'living_room_surface', 'frontages', 'construction_year', 'bedrooms', 'bathrooms', 'shower_rooms', 'office', 'toilets']\n",
    "#int_columns=['bedrooms', 'bathrooms', 'toilets']\n",
    "\n",
    "X = df[int_columns].to_numpy()\n",
    "y = df.price.to_numpy().reshape(-1,1)\n",
    "print(type(X))\n",
    "print(X)\n"
   ]
  },
  {
   "cell_type": "markdown",
   "metadata": {},
   "source": [
    "### Some graphs"
   ]
  },
  {
   "cell_type": "code",
   "execution_count": 6,
   "metadata": {},
   "outputs": [
    {
     "data": {
      "text/html": [
       "<div>\n",
       "<style scoped>\n",
       "    .dataframe tbody tr th:only-of-type {\n",
       "        vertical-align: middle;\n",
       "    }\n",
       "\n",
       "    .dataframe tbody tr th {\n",
       "        vertical-align: top;\n",
       "    }\n",
       "\n",
       "    .dataframe thead th {\n",
       "        text-align: right;\n",
       "    }\n",
       "</style>\n",
       "<table border=\"1\" class=\"dataframe\">\n",
       "  <thead>\n",
       "    <tr style=\"text-align: right;\">\n",
       "      <th></th>\n",
       "      <th>primary_energy_consumption</th>\n",
       "      <th>furnished</th>\n",
       "      <th>terrace</th>\n",
       "      <th>terrace_surface</th>\n",
       "      <th>plot_surface</th>\n",
       "      <th>living_room_surface</th>\n",
       "      <th>frontages</th>\n",
       "      <th>construction_year</th>\n",
       "      <th>bedrooms</th>\n",
       "      <th>bathrooms</th>\n",
       "      <th>shower_rooms</th>\n",
       "      <th>office</th>\n",
       "      <th>toilets</th>\n",
       "      <th>price</th>\n",
       "    </tr>\n",
       "  </thead>\n",
       "  <tbody>\n",
       "    <tr>\n",
       "      <th>0</th>\n",
       "      <td>390</td>\n",
       "      <td>0</td>\n",
       "      <td>1</td>\n",
       "      <td>0</td>\n",
       "      <td>760</td>\n",
       "      <td>34</td>\n",
       "      <td>4</td>\n",
       "      <td>0</td>\n",
       "      <td>3</td>\n",
       "      <td>1</td>\n",
       "      <td>0</td>\n",
       "      <td>0</td>\n",
       "      <td>2</td>\n",
       "      <td>469000</td>\n",
       "    </tr>\n",
       "    <tr>\n",
       "      <th>1</th>\n",
       "      <td>178</td>\n",
       "      <td>0</td>\n",
       "      <td>1</td>\n",
       "      <td>60</td>\n",
       "      <td>6468</td>\n",
       "      <td>50</td>\n",
       "      <td>4</td>\n",
       "      <td>1988</td>\n",
       "      <td>5</td>\n",
       "      <td>2</td>\n",
       "      <td>3</td>\n",
       "      <td>1</td>\n",
       "      <td>4</td>\n",
       "      <td>1395000</td>\n",
       "    </tr>\n",
       "    <tr>\n",
       "      <th>3</th>\n",
       "      <td>299</td>\n",
       "      <td>0</td>\n",
       "      <td>0</td>\n",
       "      <td>0</td>\n",
       "      <td>0</td>\n",
       "      <td>0</td>\n",
       "      <td>2</td>\n",
       "      <td>0</td>\n",
       "      <td>2</td>\n",
       "      <td>2</td>\n",
       "      <td>0</td>\n",
       "      <td>0</td>\n",
       "      <td>2</td>\n",
       "      <td>285000</td>\n",
       "    </tr>\n",
       "    <tr>\n",
       "      <th>6</th>\n",
       "      <td>346</td>\n",
       "      <td>0</td>\n",
       "      <td>1</td>\n",
       "      <td>0</td>\n",
       "      <td>360</td>\n",
       "      <td>32</td>\n",
       "      <td>2</td>\n",
       "      <td>1934</td>\n",
       "      <td>2</td>\n",
       "      <td>1</td>\n",
       "      <td>0</td>\n",
       "      <td>0</td>\n",
       "      <td>0</td>\n",
       "      <td>189000</td>\n",
       "    </tr>\n",
       "    <tr>\n",
       "      <th>7</th>\n",
       "      <td>228</td>\n",
       "      <td>0</td>\n",
       "      <td>1</td>\n",
       "      <td>0</td>\n",
       "      <td>1059</td>\n",
       "      <td>44</td>\n",
       "      <td>4</td>\n",
       "      <td>2004</td>\n",
       "      <td>4</td>\n",
       "      <td>1</td>\n",
       "      <td>0</td>\n",
       "      <td>1</td>\n",
       "      <td>0</td>\n",
       "      <td>399999</td>\n",
       "    </tr>\n",
       "  </tbody>\n",
       "</table>\n",
       "</div>"
      ],
      "text/plain": [
       "   primary_energy_consumption  furnished  terrace  terrace_surface  \\\n",
       "0                         390          0        1                0   \n",
       "1                         178          0        1               60   \n",
       "3                         299          0        0                0   \n",
       "6                         346          0        1                0   \n",
       "7                         228          0        1                0   \n",
       "\n",
       "   plot_surface  living_room_surface  frontages  construction_year  bedrooms  \\\n",
       "0           760                   34          4                  0         3   \n",
       "1          6468                   50          4               1988         5   \n",
       "3             0                    0          2                  0         2   \n",
       "6           360                   32          2               1934         2   \n",
       "7          1059                   44          4               2004         4   \n",
       "\n",
       "   bathrooms  shower_rooms  office  toilets    price  \n",
       "0          1             0       0        2   469000  \n",
       "1          2             3       1        4  1395000  \n",
       "3          2             0       0        2   285000  \n",
       "6          1             0       0        0   189000  \n",
       "7          1             0       1        0   399999  "
      ]
     },
     "execution_count": 6,
     "metadata": {},
     "output_type": "execute_result"
    }
   ],
   "source": [
    "# create a dataframe which (only) combines X & y to create some graphs\n",
    "cropped_df = df.loc[:,int_columns]\n",
    "cropped_df[\"price\"] = df[\"price\"]\n",
    "cropped_df.head()"
   ]
  },
  {
   "cell_type": "code",
   "execution_count": 7,
   "metadata": {},
   "outputs": [
    {
     "data": {
      "text/plain": [
       "'display(cropped_df.sample(10))\\nsns.pairplot(data=df, y_vars = \"Price\", x_vars = int_columns, height=5)\\nsns.pairplot(data=cropped_df)'"
      ]
     },
     "execution_count": 7,
     "metadata": {},
     "output_type": "execute_result"
    }
   ],
   "source": [
    "\"\"\"Create pairplots (versus Price) and display dataframe\"\"\"\n",
    "\n",
    "\"\"\"display(cropped_df.sample(10))\n",
    "sns.pairplot(data=df, y_vars = \"Price\", x_vars = int_columns, height=5)\n",
    "sns.pairplot(data=cropped_df)\"\"\""
   ]
  },
  {
   "cell_type": "code",
   "execution_count": 8,
   "metadata": {},
   "outputs": [
    {
     "data": {
      "text/plain": [
       "<function matplotlib.pyplot.show(close=None, block=None)>"
      ]
     },
     "execution_count": 8,
     "metadata": {},
     "output_type": "execute_result"
    },
    {
     "data": {
      "image/png": "[encoded data removed]",
      "text/plain": [
       "<Figure size 640x480 with 2 Axes>"
      ]
     },
     "metadata": {},
     "output_type": "display_data"
    }
   ],
   "source": [
    "\"\"\"Create heatmaps for full dataframe and selected columns\"\"\"\n",
    "\n",
    "sns.heatmap(df.select_dtypes(include=\"number\").corr(), cmap=\"YlGnBu\", annot=False) #heatmap of all numerical columns in dataframe\n",
    "plt.show"
   ]
  },
  {
   "cell_type": "code",
   "execution_count": 9,
   "metadata": {},
   "outputs": [
    {
     "data": {
      "text/plain": [
       "<function matplotlib.pyplot.show(close=None, block=None)>"
      ]
     },
     "execution_count": 9,
     "metadata": {},
     "output_type": "execute_result"
    },
    {
     "data": {
      "image/png": "[encoded data removed]",
      "text/plain": [
       "<Figure size 640x480 with 2 Axes>"
      ]
     },
     "metadata": {},
     "output_type": "display_data"
    }
   ],
   "source": [
    "sns.heatmap(cropped_df.corr(), cmap=\"YlGnBu\", annot=False) #heatmap of selected columns\n",
    "plt.show"
   ]
  },
  {
   "cell_type": "markdown",
   "metadata": {},
   "source": [
    "### Split the dataset"
   ]
  },
  {
   "cell_type": "code",
   "execution_count": 10,
   "metadata": {},
   "outputs": [],
   "source": [
    "from sklearn.model_selection import train_test_split\n",
    "\n",
    "X_train, X_test, y_train, y_test = train_test_split(X, y, test_size=0.20, random_state=41)"
   ]
  },
  {
   "cell_type": "code",
   "execution_count": 11,
   "metadata": {},
   "outputs": [
    {
     "name": "stdout",
     "output_type": "stream",
     "text": [
      "Shape of X_train:  (3352, 13)\n",
      "Shape of X_test:  (839, 13)\n",
      "Shape of y_train:  (3352, 1)\n",
      "Shape of y_test:  (839, 1)\n"
     ]
    }
   ],
   "source": [
    "print(\"Shape of X_train: \", X_train.shape)\n",
    "print(\"Shape of X_test: \", X_test.shape)\n",
    "print(\"Shape of y_train: \", y_train.shape)\n",
    "print(\"Shape of y_test: \", y_test.shape)"
   ]
  },
  {
   "cell_type": "markdown",
   "metadata": {},
   "source": [
    "##  Load and fit the model (with Sklearn)"
   ]
  },
  {
   "cell_type": "code",
   "execution_count": 12,
   "metadata": {},
   "outputs": [],
   "source": [
    "from sklearn.metrics import mean_squared_error\n",
    "from sklearn.model_selection import GridSearchCV"
   ]
  },
  {
   "cell_type": "code",
   "execution_count": 13,
   "metadata": {},
   "outputs": [],
   "source": [
    "from sklearn.linear_model import LinearRegression\n",
    "\n",
    "LR_model = \"Linear Regression\"\n",
    "\n",
    "LR_regressor = LinearRegression()\n",
    "\"\"\"X_train = X_train.reshape(-1,1)\n",
    "X_test = X_test.reshape(-1,1)\"\"\"\n",
    "LR_regressor.fit(X_train, y_train)\n",
    "LR_train_score = LR_regressor.score(X_train, y_train)\n",
    "LR_test_score = LR_regressor.score(X_test,y_test)\n",
    "LR_y_pred = LR_regressor.predict(X_test)\n",
    "LR_R_MSE = mean_squared_error(y_test, LR_y_pred, squared = False)"
   ]
  },
  {
   "cell_type": "code",
   "execution_count": 14,
   "metadata": {},
   "outputs": [],
   "source": [
    "from sklearn.tree import DecisionTreeRegressor\n",
    "\n",
    "DT_model = \"Decision Tree\"\n",
    "\n",
    "DT_regressor = DecisionTreeRegressor(max_depth=6, min_weight_fraction_leaf=0.01)\n",
    "\n",
    "DT_regressor.fit(X_train, y_train)\n",
    "DT_train_score = DT_regressor.score(X_train, y_train)\n",
    "DT_test_score = DT_regressor.score(X_test,y_test)\n",
    "DT_y_pred = DT_regressor.predict(X_test)\n",
    "DT_R_MSE = mean_squared_error(y_test, DT_y_pred, squared = False)"
   ]
  },
  {
   "cell_type": "code",
   "execution_count": 15,
   "metadata": {},
   "outputs": [
    {
     "name": "stdout",
     "output_type": "stream",
     "text": [
      "{'max_depth': 10, 'min_weight_fraction_leaf': 0.005}\n"
     ]
    }
   ],
   "source": [
    "from sklearn.tree import DecisionTreeRegressor\n",
    "from sklearn.model_selection import GridSearchCV\n",
    "\n",
    "GS_model = \"Decision Tree with GridSearch\"\n",
    "\n",
    "params = {\"max_depth\" : [2, 4, 6, 8, 10, 12], \"min_weight_fraction_leaf\" : [0.002, 0.003, 0.0035, 0.004, 0.0045, 0.005, 0.006, 0.01]}\n",
    "grid_search = GridSearchCV(DT_regressor, params, cv = 10)\n",
    "grid_search.fit(X_train,y_train)\n",
    "best_params = grid_search.best_params_\n",
    "print(best_params)\n",
    "GS_regressor = DecisionTreeRegressor(max_depth=best_params[\"max_depth\"], min_weight_fraction_leaf=best_params[\"min_weight_fraction_leaf\"])\n",
    "GS_regressor.fit(X_train, y_train)\n",
    "GS_train_score = GS_regressor.score(X_train, y_train)\n",
    "GS_test_score = GS_regressor.score(X_test,y_test)\n",
    "GS_y_pred = GS_regressor.predict(X_test)\n",
    "GS_R_MSE = mean_squared_error(y_test, GS_y_pred, squared = False)"
   ]
  },
  {
   "cell_type": "code",
   "execution_count": 16,
   "metadata": {},
   "outputs": [
    {
     "name": "stdout",
     "output_type": "stream",
     "text": [
      "[10:57:18] WARNING: C:\\buildkite-agent\\builds\\buildkite-windows-cpu-autoscaling-group-i-0fdc6d574b9c0d168-1\\xgboost\\xgboost-ci-windows\\src\\objective\\regression_obj.cu:213: reg:linear is now deprecated in favor of reg:squarederror.\n"
     ]
    }
   ],
   "source": [
    "import xgboost as xg\n",
    "\n",
    "XG_model = \"XG Boost\"\n",
    "\n",
    "XG_regressor = xg.XGBRegressor(objective ='reg:linear', n_estimators = 10, seed = 20)\n",
    "\"\"\"X_train = X_train.reshape(-1,1)\n",
    "X_test = X_test.reshape(-1,1)\"\"\"\n",
    "XG_regressor.fit(X_train, y_train)\n",
    "XG_train_score = XG_regressor.score(X_train, y_train)\n",
    "XG_test_score = XG_regressor.score(X_test,y_test)\n",
    "XG_y_pred = XG_regressor.predict(X_test)\n",
    "XG_R_MSE = mean_squared_error(y_test, XG_y_pred, squared = False)"
   ]
  },
  {
   "cell_type": "markdown",
   "metadata": {},
   "source": [
    "### Scores"
   ]
  },
  {
   "cell_type": "markdown",
   "metadata": {},
   "source": [
    "\"Create a dataframe with an overview of the test scores of all the models\"\n",
    "\n",
    "model_list = [\"LR\", \"DT\", \"GS\", \"XG\"]\n",
    "model_score_list = [\"model\", \"train_score\", \"test_score\", \"R_MSE\"]\n",
    "data = []\n",
    "for model in model_list:\n",
    "    #print(model)\n",
    "    modelscores = []\n",
    "    for score in model_score_list:\n",
    "        item = model + \"_\" + score\n",
    "        modelscores.append(item)\n",
    "    #print(modelscores)\n",
    "    #modelscores = list(re.replace(r\"/['\"]+/g\", '', str(modelscores)))\n",
    "    #print(print(modelscores))\n",
    "    data.append(modelscores)\n",
    "\n",
    "print(data)\n",
    "score_df = pd.DataFrame(data, columns=model_score_list)\n",
    "score_df\n"
   ]
  },
  {
   "cell_type": "code",
   "execution_count": 17,
   "metadata": {},
   "outputs": [
    {
     "data": {
      "text/html": [
       "<div>\n",
       "<style scoped>\n",
       "    .dataframe tbody tr th:only-of-type {\n",
       "        vertical-align: middle;\n",
       "    }\n",
       "\n",
       "    .dataframe tbody tr th {\n",
       "        vertical-align: top;\n",
       "    }\n",
       "\n",
       "    .dataframe thead th {\n",
       "        text-align: right;\n",
       "    }\n",
       "</style>\n",
       "<table border=\"1\" class=\"dataframe\">\n",
       "  <thead>\n",
       "    <tr style=\"text-align: right;\">\n",
       "      <th></th>\n",
       "      <th>model</th>\n",
       "      <th>train_score</th>\n",
       "      <th>test_score</th>\n",
       "      <th>R_MSE</th>\n",
       "    </tr>\n",
       "  </thead>\n",
       "  <tbody>\n",
       "    <tr>\n",
       "      <th>0</th>\n",
       "      <td>Linear Regression</td>\n",
       "      <td>0.332542</td>\n",
       "      <td>0.241081</td>\n",
       "      <td>412860.330671</td>\n",
       "    </tr>\n",
       "    <tr>\n",
       "      <th>1</th>\n",
       "      <td>Decision Tree</td>\n",
       "      <td>0.496685</td>\n",
       "      <td>0.488285</td>\n",
       "      <td>339015.472697</td>\n",
       "    </tr>\n",
       "    <tr>\n",
       "      <th>2</th>\n",
       "      <td>Decision Tree with GridSearch</td>\n",
       "      <td>0.555839</td>\n",
       "      <td>0.530611</td>\n",
       "      <td>324692.242729</td>\n",
       "    </tr>\n",
       "    <tr>\n",
       "      <th>3</th>\n",
       "      <td>XG Boost</td>\n",
       "      <td>0.855712</td>\n",
       "      <td>0.702592</td>\n",
       "      <td>258453.228511</td>\n",
       "    </tr>\n",
       "  </tbody>\n",
       "</table>\n",
       "</div>"
      ],
      "text/plain": [
       "                           model  train_score  test_score          R_MSE\n",
       "0              Linear Regression     0.332542    0.241081  412860.330671\n",
       "1                  Decision Tree     0.496685    0.488285  339015.472697\n",
       "2  Decision Tree with GridSearch     0.555839    0.530611  324692.242729\n",
       "3                       XG Boost     0.855712    0.702592  258453.228511"
      ]
     },
     "metadata": {},
     "output_type": "display_data"
    }
   ],
   "source": [
    "model_score_list = [\"model\", \"train_score\", \"test_score\", \"R_MSE\"]\n",
    "#display(score_df)\n",
    "#score_df[\"train_score_old\"] = score_df[\"train_score\"]\n",
    "#score_df[\"test_score_old\"] = score_df[\"test_score\"]\n",
    "#score_df[\"R_MSE_old\"] = score_df[\"R_MSE\"]\n",
    "\n",
    "data = [[LR_model, LR_train_score, LR_test_score, LR_R_MSE], [DT_model, DT_train_score, DT_test_score, DT_R_MSE], [GS_model, GS_train_score, GS_test_score, GS_R_MSE], [XG_model, XG_train_score, XG_test_score, XG_R_MSE]]\n",
    "newscore_df = pd.DataFrame(data, columns=model_score_list)\n",
    "#score_df = score_df.join(newscore_df, on=['model'], how='right')\n",
    "#score_df [\"train_score\", \"test_score\", \"R_MSE\"] = newscore_df [\"train_score\", \"test_score\", \"R_MSE\"]\n",
    "score_df=newscore_df\n",
    "display(score_df)"
   ]
  }
 ],
 "metadata": {
  "kernelspec": {
   "display_name": "Python 3",
   "language": "python",
   "name": "python3"
  },
  "language_info": {
   "codemirror_mode": {
    "name": "ipython",
    "version": 3
   },
   "file_extension": ".py",
   "mimetype": "text/x-python",
   "name": "python",
   "nbconvert_exporter": "python",
   "pygments_lexer": "ipython3",
   "version": "3.11.4"
  }
 },
 "nbformat": 4,
 "nbformat_minor": 4
}
