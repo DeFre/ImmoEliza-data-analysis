{
 "cells": [
  {
   "attachments": {},
   "cell_type": "markdown",
   "metadata": {},
   "source": [
    "# ImmoEliza Data Analysis (test)\n",
    "\n",
    "**This repository is contains Data Analysis for a fictional real estate company called \"ImmoEliza\". I created it as part of my [BeCode](https://www.becode.org) AI Bootcamp training in 2023.**\n",
    "\n",
    "The data used in this project was sourced from the repository [ImmoEliza: Collecting Data](https://github.com/DeFre/ImmoEliza-collecting-data) which was used to collect data on 10.000 properties from Immoweb."
   ]
  },
  {
   "cell_type": "code",
   "execution_count": 6,
   "metadata": {},
   "outputs": [],
   "source": [
    "import numpy as np\n",
    "import matplotlib.pyplot as plt \n",
    "import seaborn\n",
    "import pandas as pd"
   ]
  },
  {
   "attachments": {},
   "cell_type": "markdown",
   "metadata": {},
   "source": [
    "## Import Data"
   ]
  },
  {
   "cell_type": "code",
   "execution_count": 9,
   "metadata": {},
   "outputs": [
    {
     "name": "stdout",
     "output_type": "stream",
     "text": [
      "      Price               Address  Bedrooms Energy class  \\\n",
      "0         €        Grote Markt 22         4            C   \n",
      "1   €469000  Heidestatiestraat 26         3            D   \n",
      "2  €1395000      Rue de Wavre, 27         5            C   \n",
      "3   €285000  Avenue de Longwy 340         2            D   \n",
      "4   €285000  Avenue de Longwy 340         2            D   \n",
      "\n",
      "  Primary energy consumption Furnished Terrace  Terrace surface  \\\n",
      "0                        218        No       0               30   \n",
      "1                        390        No     Yes                0   \n",
      "2                        178         0       0               60   \n",
      "3                        299         0       0                0   \n",
      "4                        299         0       0                0   \n",
      "\n",
      "   Surface of the plot  Living room surface  ...  Building condition  \\\n",
      "0                    0                    0  ...              As new   \n",
      "1                  760                   34  ...                   0   \n",
      "2                 6468                   50  ...                Good   \n",
      "3                    0                    0  ...                Good   \n",
      "4                    0                    0  ...                Good   \n",
      "\n",
      "   Outdoor parking space Bathrooms  Shower rooms  Office  Toilets  \\\n",
      "0                      0         1             0       0        2   \n",
      "1                      0         1             0       0        2   \n",
      "2                      0         2             3     Yes        4   \n",
      "3                      0         2             0       0        2   \n",
      "4                      0         2             0       0        2   \n",
      "\n",
      "     Kitchen type  Heating type immo_code postal code  \n",
      "0               0           Gas  10666429        2300  \n",
      "1       Installed             0  10666428        2910  \n",
      "2  Hyper equipped      Fuel oil  10666426        1301  \n",
      "3       Installed      Electric  10666424        6700  \n",
      "4       Installed      Electric  10666423        6700  \n",
      "\n",
      "[5 rows x 22 columns]\n"
     ]
    }
   ],
   "source": [
    "properties_raw = pd.read_csv(\"scraped_data_10.csv\")\n",
    "print(properties_raw.head())"
   ]
  }
 ],
 "metadata": {
  "kernelspec": {
   "display_name": "Python 3",
   "language": "python",
   "name": "python3"
  },
  "language_info": {
   "codemirror_mode": {
    "name": "ipython",
    "version": 3
   },
   "file_extension": ".py",
   "mimetype": "text/x-python",
   "name": "python",
   "nbconvert_exporter": "python",
   "pygments_lexer": "ipython3",
   "version": "3.10.7"
  },
  "orig_nbformat": 4
 },
 "nbformat": 4,
 "nbformat_minor": 2
}
