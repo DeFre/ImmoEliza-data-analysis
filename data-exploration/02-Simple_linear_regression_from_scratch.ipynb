{
 "cells": [
  {
   "cell_type": "markdown",
   "metadata": {
    "id": "oGRCdv2_63Fm"
   },
   "source": [
    "# Linear regression\n",
    "\n",
    "Now that we've created our first learning machine model, let's see how it works under the hood."
   ]
  },
  {
   "cell_type": "markdown",
   "metadata": {
    "id": "4IHjwpyJmYz0"
   },
   "source": [
    "## How does it work?\n",
    "Here comes a part that some of you fear: Mathematics!    \n",
    "\n",
    "But don't worry, you'll see that it's not that complicated.\n",
    "\n",
    "In this notebook, everytime we will talk about programming variables, we will format the names like `this`. \n",
    "For mathematical variables and functions, we'll be formatting them like $this$.\n",
    "\n",
    "### How to calculate the y-axis from the x-axis?"
   ]
  },
  {
   "cell_type": "markdown",
   "metadata": {
    "id": "rPLnFMBxs4C9"
   },
   "source": [
    "A linear model is in fact based on a simple [affine function.](https://fr.wikipedia.org/wiki/Fonction_affine) !"
   ]
  },
  {
   "cell_type": "markdown",
   "metadata": {
    "id": "2XTFIZfapioo"
   },
   "source": [
    "$$f(x) = ax + b$$\n",
    "or ...\n",
    "$$y = f(x) = ax + b$$\n",
    "or..."
   ]
  },
  {
   "cell_type": "markdown",
   "metadata": {},
   "source": [
    "```py\n",
    "y = a*x + b\n",
    "```"
   ]
  },
  {
   "cell_type": "markdown",
   "metadata": {},
   "source": [
    "**Exercise :** Create a function `f` which receives as a parameter the variables `x`,`a` and `b` and returns `y`."
   ]
  },
  {
   "cell_type": "code",
   "execution_count": 24,
   "metadata": {},
   "outputs": [
    {
     "data": {
      "text/plain": [
       "5"
      ]
     },
     "execution_count": 24,
     "metadata": {},
     "output_type": "execute_result"
    }
   ],
   "source": [
    "def f(x, a, b):\n",
    "    y = a*x+b\n",
    "    return y\n",
    "\n",
    "f(1,2, 3)"
   ]
  },
  {
   "cell_type": "markdown",
   "metadata": {},
   "source": [
    "This function will allow us to create a straight line that passes through all the points as well as possible. For the moment, we do not know the value of parameters $a$ and $b$, so it is impossible to draw a good straight line on the scatter plot, unless we choose parameters at random. And that is what we are going to do."
   ]
  },
  {
   "cell_type": "markdown",
   "metadata": {
    "id": "nl6jA7JTdoO8"
   },
   "source": [
    "\n",
    "The linear model with random parameters would look something like this: "
   ]
  },
  {
   "cell_type": "markdown",
   "metadata": {
    "id": "a6Va6jerdvjC"
   },
   "source": [
    "![image.png](./assets/random_bias.png)\n"
   ]
  },
  {
   "cell_type": "markdown",
   "metadata": {
    "id": "2x4DbSIbeQNA"
   },
   "source": [
    "But we want to achieve this result:"
   ]
  },
  {
   "cell_type": "markdown",
   "metadata": {
    "id": "w7hNlrnOezsy"
   },
   "source": [
    "![](./assets/trained_bias.png)"
   ]
  },
  {
   "cell_type": "markdown",
   "metadata": {
    "id": "mKo1rgh_fA7O"
   },
   "source": [
    "And it will be the role of the machine to learn how to find these values ($a$ and $b$) by minimizing the cost function that we will see in detail in the next chapter.\n",
    "\n",
    "Before we do that, we need to look at the small problem we have with this method. The function as written above only take one element, $x$. However, in the next sections, we are going to have multiple values for $x$, in a vector $X$. We'll thus denote a single item with an index $i$, like $x^{i}$. If we execute the function as is, we would have to make a loop for each element $x^{i}$ of our dataset. \n",
    "\n",
    "$$\n",
    "X = \n",
    "\\begin{bmatrix}\n",
    "x^{(1)}\\\\\n",
    "x^{(2)}\\\\\n",
    "x^{(3)}\\\\\n",
    "... \\\\\n",
    "x^{(m)}\\\\\n",
    "\\end{bmatrix}\n",
    "$$\n",
    "\n",
    "This can be very expensive in terms of machine resources. If your dataset is very large, it will take a lot of time to train your model. \n",
    "\n",
    "To solve this problem, it is customary to use something you are beginning to know, matrices! \n",
    "\n",
    "The matrices allow us to perform the function only once on our entire dataset. \n",
    "\n",
    "The matrix writing of $f(x)=ax+b$ is written like this:\n",
    "$$ F = X \\cdot \\theta$$\n",
    "\n",
    "As these are matrices that contain all the data, by convention, we put them in uppercase.\n",
    "\n",
    "The variable $F$ will contain a matrix with the set of predictions of $x^{(i)}$. \n",
    "\n",
    "$$ \n",
    "F \\\\\n",
    "\\begin{bmatrix}\n",
    "f(x^{(1)})\\\\\n",
    "f(x^{(2)})\\\\\n",
    "f(x^{(3)})\\\\\n",
    "... \\\\\n",
    "f(x^{(m)})\\\\\n",
    "\\end{bmatrix}\n",
    "$$"
   ]
  },
  {
   "cell_type": "markdown",
   "metadata": {},
   "source": [
    "The variable $\\theta$ (pronounced theta) will contain a vector with the values $a$ and $b$."
   ]
  },
  {
   "cell_type": "markdown",
   "metadata": {},
   "source": [
    "$$\n",
    "\\theta \\\\\n",
    "\\begin{bmatrix}\n",
    "a \\\\\n",
    "b \\\\\n",
    "\\end{bmatrix}\n",
    "$$"
   ]
  },
  {
   "cell_type": "markdown",
   "metadata": {},
   "source": [
    "The variable $X$ will contain a matrix with two dimensions, one dimension with the value of $x^{(i)}$ and another dimension with 1's everywhere.  Why? Because we have to multiply our $X$ and $\\theta$ matrices. Remember [matrix multiplication](https://www.mathsisfun.com/algebra/matrix-multiplying.html)?\n",
    "$$ \n",
    "\\begin{equation*}\n",
    "\\begin{bmatrix}\n",
    "x^{(1)} && 1\\\\\n",
    "x^{(2)} && 1\\\\\n",
    "x^{(3)} && 1\\\\\n",
    "... \\\\\n",
    "x^{(m)} && 1\\\\\n",
    "\\end{bmatrix}\n",
    "\\cdot\n",
    "\\begin{bmatrix}\n",
    "a \\\\\n",
    "b \\\\\n",
    "\\end{bmatrix}\n",
    "\\end{equation*}\n",
    "$$\n",
    "\n",
    "![](./assets/dot_mat.jpg)"
   ]
  },
  {
   "cell_type": "markdown",
   "metadata": {},
   "source": [
    "Which amounts to writing this for $y^{(1)}$ (and for every other $y^{(i)}$): \n",
    "$$ y^{(1)} = x^{(1)}* a + 1 * b$$\n",
    "\n",
    "And if we simplify:\n",
    "$$ y^{(1)} = ax^{(1)} + b$$\n",
    "\n",
    "\n",
    "So we are back to our original function.\n"
   ]
  },
  {
   "cell_type": "markdown",
   "metadata": {},
   "source": [
    "**Exercise :**\n",
    "1. Create a variable `X` which contains a matrix of shape `(30,2)` with a column filled with values of our dataframe (the same as the first notebook) and then another one with 1's. \n",
    "2. Create the `theta` variable which contains a vector with 2 random values.\n",
    "3. Create a variable `F` which contains a multiplication of the matrix `X` with the `theta` vector."
   ]
  },
  {
   "cell_type": "code",
   "execution_count": 25,
   "metadata": {},
   "outputs": [],
   "source": [
    "import pandas as pd\n",
    "import numpy as np\n",
    "\n",
    "df = pd.read_csv(\"./data/salary_data.csv\")\n",
    "x = df.drop(columns=[\"Salary\"]).to_numpy()\n",
    "y = df.Salary.to_numpy().reshape(-1 , 1)\n",
    "#print(y)\n",
    "\n"
   ]
  },
  {
   "cell_type": "code",
   "execution_count": 26,
   "metadata": {},
   "outputs": [
    {
     "name": "stdout",
     "output_type": "stream",
     "text": [
      "[[ 1.1  1. ]\n",
      " [ 1.3  1. ]\n",
      " [ 1.5  1. ]\n",
      " [ 2.   1. ]\n",
      " [ 2.2  1. ]\n",
      " [ 2.9  1. ]\n",
      " [ 3.   1. ]\n",
      " [ 3.2  1. ]\n",
      " [ 3.2  1. ]\n",
      " [ 3.7  1. ]\n",
      " [ 3.9  1. ]\n",
      " [ 4.   1. ]\n",
      " [ 4.   1. ]\n",
      " [ 4.1  1. ]\n",
      " [ 4.5  1. ]\n",
      " [ 4.9  1. ]\n",
      " [ 5.1  1. ]\n",
      " [ 5.3  1. ]\n",
      " [ 5.9  1. ]\n",
      " [ 6.   1. ]\n",
      " [ 6.8  1. ]\n",
      " [ 7.1  1. ]\n",
      " [ 7.9  1. ]\n",
      " [ 8.2  1. ]\n",
      " [ 8.7  1. ]\n",
      " [ 9.   1. ]\n",
      " [ 9.5  1. ]\n",
      " [ 9.6  1. ]\n",
      " [10.3  1. ]\n",
      " [10.5  1. ]]\n"
     ]
    }
   ],
   "source": [
    "X = np.hstack((x, np.ones(x.shape)))\n",
    "print(X)\n",
    "np.random.seed(0)\n",
    "theta = np.random.randn(2,1)\n",
    "\n",
    "F = X.dot(theta)"
   ]
  },
  {
   "cell_type": "code",
   "execution_count": 27,
   "metadata": {},
   "outputs": [
    {
     "name": "stdout",
     "output_type": "stream",
     "text": [
      "Shape of X:  (30, 2)\n",
      "Shape of y:  (30, 1)\n",
      "Shape of F:  (30, 1)\n",
      "[[ 2.34061479]\n",
      " [ 2.69342526]\n",
      " [ 3.04623573]\n",
      " [ 3.9282619 ]\n",
      " [ 4.28107237]\n",
      " [ 5.51590901]\n",
      " [ 5.69231425]\n",
      " [ 6.04512472]\n",
      " [ 6.04512472]\n",
      " [ 6.92715089]\n",
      " [ 7.27996136]\n",
      " [ 7.45636659]\n",
      " [ 7.45636659]\n",
      " [ 7.63277183]\n",
      " [ 8.33839277]\n",
      " [ 9.0440137 ]\n",
      " [ 9.39682417]\n",
      " [ 9.74963464]\n",
      " [10.80806605]\n",
      " [10.98447128]\n",
      " [12.39571316]\n",
      " [12.92492886]\n",
      " [14.33617074]\n",
      " [14.86538645]\n",
      " [15.74741262]\n",
      " [16.27662832]\n",
      " [17.1586545 ]\n",
      " [17.33505973]\n",
      " [18.56989637]\n",
      " [18.92270684]]\n"
     ]
    }
   ],
   "source": [
    "print(\"Shape of X: \", X.shape)\n",
    "print(\"Shape of y: \", y.shape)\n",
    "print(\"Shape of F: \", F.shape)\n",
    "print(F)"
   ]
  },
  {
   "cell_type": "markdown",
   "metadata": {},
   "source": [
    "**Exercise :** Create a `model` function that receives as parameter `X` and `theta`.  The function must compute and return `F`. "
   ]
  },
  {
   "cell_type": "code",
   "execution_count": 28,
   "metadata": {},
   "outputs": [
    {
     "data": {
      "text/plain": [
       "array([[ 2.34061479],\n",
       "       [ 2.69342526],\n",
       "       [ 3.04623573],\n",
       "       [ 3.9282619 ],\n",
       "       [ 4.28107237],\n",
       "       [ 5.51590901],\n",
       "       [ 5.69231425],\n",
       "       [ 6.04512472],\n",
       "       [ 6.04512472],\n",
       "       [ 6.92715089],\n",
       "       [ 7.27996136],\n",
       "       [ 7.45636659],\n",
       "       [ 7.45636659],\n",
       "       [ 7.63277183],\n",
       "       [ 8.33839277],\n",
       "       [ 9.0440137 ],\n",
       "       [ 9.39682417],\n",
       "       [ 9.74963464],\n",
       "       [10.80806605],\n",
       "       [10.98447128],\n",
       "       [12.39571316],\n",
       "       [12.92492886],\n",
       "       [14.33617074],\n",
       "       [14.86538645],\n",
       "       [15.74741262],\n",
       "       [16.27662832],\n",
       "       [17.1586545 ],\n",
       "       [17.33505973],\n",
       "       [18.56989637],\n",
       "       [18.92270684]])"
      ]
     },
     "execution_count": 28,
     "metadata": {},
     "output_type": "execute_result"
    }
   ],
   "source": [
    "def model(X,theta):\n",
    "    F = X.dot(theta)\n",
    "    return F\n",
    "\n",
    "model(X,theta)"
   ]
  },
  {
   "cell_type": "markdown",
   "metadata": {},
   "source": [
    "**Exercise :** Create a `y_pred` variable, call the `model` function with `X` and  `theta` and assign it to `y_pred`."
   ]
  },
  {
   "cell_type": "code",
   "execution_count": 31,
   "metadata": {},
   "outputs": [
    {
     "name": "stdout",
     "output_type": "stream",
     "text": [
      "Shape of y_pred :  (30, 1)\n"
     ]
    }
   ],
   "source": [
    "y_pred = model(X,theta)\n",
    "\n",
    "print(\"Shape of y_pred : \", y_pred.shape)"
   ]
  },
  {
   "cell_type": "markdown",
   "metadata": {},
   "source": [
    "Now we know how to apply our model to our entire dataset. Now we have to know how to find the right values for $a$ and $b$. For that we will have to calculate the average of all our errors with a cost function."
   ]
  },
  {
   "cell_type": "markdown",
   "metadata": {
    "id": "XKaQ28Hafn_h"
   },
   "source": [
    "### Cost function"
   ]
  },
  {
   "cell_type": "markdown",
   "metadata": {
    "id": "VRBuUaU2ftck"
   },
   "source": [
    "The cost function allows us to evaluate the performance of our model by measuring the errors between the prediction and the actual value. The question we ask ourselves is: How to measure these errors?\n",
    "\n",
    "Imagine that you have 4 years of experience and that you earn $110000€$ per year. Your machine learning model predicts that this salary is worth $€90000$. You can conclude that your model therefore makes an error of $90000 - 110000 = -20000 €$.\n",
    "\n",
    "Thus, you could say that to measure your errors, you have to calculate the difference $f(x)-y$. However, if your prediction $f(x)$ is less than $y$, then this error is negative (as in the example above), and it is not very practical to minimize this function.\n",
    "\n",
    "So, to measure the errors between the $f(x)$ predictions and the target values $y$ of the dataset, we calculate the square of the difference: $(f(x)-y)^2$. This, by the way, is what is called the Euclidean norm, which represents the direct distance between $f(x)$ and $y$ in Euclidean geometry.\n"
   ]
  },
  {
   "cell_type": "markdown",
   "metadata": {
    "id": "yJFTEvD8wb7b"
   },
   "source": [
    "\n",
    "\n",
    "![image.png](./assets/eucli.JPG)"
   ]
  },
  {
   "cell_type": "markdown",
   "metadata": {
    "id": "xa-c_X4xt2vO"
   },
   "source": [
    "But this is not enough. Indeed, we have the error of a single example. But we must have the average of all the errors of all the points. \n",
    "\n",
    "We could write it like this: \n",
    "\n",
    "\n",
    "\n",
    "$$MSE(a,b) = {\\dfrac{(f(x^{(1)})- y^{(1)})^2 + (f(x^{(2)})- y^{(2)})^2  + ... +(f(x^{(m)})- y^{(m)})^2}{m}}$$"
   ]
  },
  {
   "cell_type": "markdown",
   "metadata": {
    "id": "1GUWy24S5b27"
   },
   "source": [
    "Why $MSE$? Because this function is called **Mean Squared Error**"
   ]
  },
  {
   "cell_type": "markdown",
   "metadata": {
    "id": "ImWIompHxm2Q"
   },
   "source": [
    "By convention this function is written in the following way, adding a coefficient $\\frac{1}{2}$ to simplify a derivative calculation that will come later.\n",
    "\n",
    "$$ MSE(a, b) = {\\dfrac{1}{2m}} \\sum _ {i=1}^m (f(x^{(i)}) - y^{(i)})^2$$\n",
    "\n",
    "Or\n",
    "\n",
    "$$ MSE(a, b) = {\\dfrac{1}{2m}} \\sum _ {i=1}^m (ax^{(i)} +b - y^{(i)})^2$$\n"
   ]
  },
  {
   "cell_type": "markdown",
   "metadata": {},
   "source": [
    "But as we work with matrices, we also have to transcribe our formula which becomes : \n",
    "\n",
    "$$MSE(\\theta) = \\frac {1}{2m}  \\sum (X \\cdot \\theta - Y)^2$$"
   ]
  },
  {
   "cell_type": "markdown",
   "metadata": {},
   "source": [
    "or something **similar** to this: \n",
    "\n",
    "```py\n",
    "MSE = 1/(2*m) * sum((X * theta - y)**2)\n",
    "```"
   ]
  },
  {
   "cell_type": "markdown",
   "metadata": {
    "id": "47zckFxMQiVs"
   },
   "source": [
    "**Exercise :** Create a `MSE` function that receives as parameter `X, y and theta` using the example above."
   ]
  },
  {
   "cell_type": "code",
   "execution_count": 33,
   "metadata": {},
   "outputs": [
    {
     "name": "stdout",
     "output_type": "stream",
     "text": [
      "86624557893.95943\n"
     ]
    }
   ],
   "source": [
    "def MSE (X, y, theta):\n",
    "    y_pred = model(X,theta)\n",
    "    return 1/(2*len(y)) * np.sum(y_pred - y)**2\n",
    "\n",
    "error = MSE(X,y,theta)\n",
    "print(error)"
   ]
  },
  {
   "cell_type": "markdown",
   "metadata": {
    "id": "s_2cfr2DOB9X"
   },
   "source": [
    "### Minimize the cost function.\n",
    "\n",
    "\n",
    "\n",
    "If the cost function is omitted with respect to the parameter, it looks something like this:"
   ]
  },
  {
   "cell_type": "markdown",
   "metadata": {
    "id": "ASRXsJyO__ic"
   },
   "source": [
    "![image.png](./assets/convexe.png)"
   ]
  },
  {
   "cell_type": "markdown",
   "metadata": {
    "id": "55-cHhR_DBNI"
   },
   "source": [
    "The aim is therefore to reach the lowest point of the curve, i.e. the lowest possible sum of errors. "
   ]
  },
  {
   "cell_type": "markdown",
   "metadata": {
    "id": "cqyzIhPKDMc_"
   },
   "source": [
    "![image.png](./assets/gradient_descent.png)"
   ]
  },
  {
   "cell_type": "markdown",
   "metadata": {},
   "source": [
    "To do this, there are several function minimization algorithms, such as the least squares method or **gradient descent**. We will focus here on gradient descent because it is one of the most widely used."
   ]
  },
  {
   "cell_type": "markdown",
   "metadata": {
    "id": "7gmDtf6l-f7T"
   },
   "source": [
    "Gradient descent is an iterative algorithm which therefore proceeds by progressive improvements. For a linear problem, this algorithm needs to have two hyper-parameters :\n",
    "\n",
    "**1. The number of iterations :** As its name indicates, this is the parameter that will determine the number of iterations.\n",
    "\n",
    "**2. The learning rate :** This is the length of the step between each iteration. "
   ]
  },
  {
   "cell_type": "markdown",
   "metadata": {
    "id": "KMJ0V9J6HQZa"
   },
   "source": [
    "![learningrate](./assets/gradient_descent_1.gif)"
   ]
  },
  {
   "cell_type": "markdown",
   "metadata": {},
   "source": [
    "It is important to clearly define the learning rate. If you set a high value, the algorithm will be faster, but you risk never reaching the lowest point of the curve, the steps being too big. Our model will never be able to work since it cannot find the minimum of the cost function."
   ]
  },
  {
   "cell_type": "markdown",
   "metadata": {
    "id": "TASxiF6zHnq0"
   },
   "source": [
    "![](./assets/gradient_descent_2.gif)"
   ]
  },
  {
   "cell_type": "markdown",
   "metadata": {},
   "source": [
    "Conversely, if you set a small value, then the algorithm will find the lowest point of the curve, but it will be slower."
   ]
  },
  {
   "cell_type": "markdown",
   "metadata": {
    "id": "9on9fx_9HhYb"
   },
   "source": [
    "![learning rate](./assets/gradient_descent_3.gif)"
   ]
  },
  {
   "cell_type": "markdown",
   "metadata": {},
   "source": [
    "At each iteration, we will have to calculate the regression slope. \n",
    "![](./assets/derivative.gif)"
   ]
  },
  {
   "cell_type": "markdown",
   "metadata": {},
   "source": [
    "And in mathematics we calculate a slope with a [partial derivative](https://en.wikipedia.org/wiki/Partial_derivative#:~:text=In%20mathematics%2C%20a%20partial%20derivative,vector%20calculus%20and%20differential%20geometry.). The symbol used to denote partial derivatives is $\\partial$. "
   ]
  },
  {
   "cell_type": "markdown",
   "metadata": {},
   "source": [
    "$$ \\frac {\\partial MSE(\\theta) }{\\partial \\theta}  = \\frac {1}{m} X^T \\cdot (X \\cdot \\theta - Y)$$\n",
    "\n",
    "The  $^T$ in $X^T$ is to transpose the matrix, just like in numpy."
   ]
  },
  {
   "cell_type": "markdown",
   "metadata": {},
   "source": [
    "You could translate this into code like this:\n",
    "\n",
    "```py\n",
    "1/m * X.T.dot(model(X, theta) - y)\n",
    "```\n",
    "\n"
   ]
  },
  {
   "cell_type": "code",
   "execution_count": 34,
   "metadata": {},
   "outputs": [],
   "source": [
    "def grad(X, y, theta):\n",
    "    m = len(y)\n",
    "    return 1/m * X.T.dot(model(X, theta) - y)"
   ]
  },
  {
   "cell_type": "markdown",
   "metadata": {},
   "source": [
    "We still have to write the gradient descent. \n",
    "\n",
    "$$\\theta = \\theta - \\eta *  \\frac {\\partial MSE(\\theta) }{\\partial \\theta}$$\n",
    "\n",
    "The variable $\\eta$ is the learning rate. So at each iteration, we redefine $\\theta$. We do : `theta` - `learning_rate` multiplied by the partial derivative of mean squared error. You could translate this into code like this:"
   ]
  },
  {
   "cell_type": "markdown",
   "metadata": {},
   "source": [
    "```py\n",
    "theta = theta - learning_rate * grad(X, y, theta)\n",
    "```"
   ]
  },
  {
   "cell_type": "markdown",
   "metadata": {},
   "source": [
    "**Exercise :**\n",
    "1. Create a `gradient_descent` function that receives as parameter `X`, `y`, `theta`, `learning_rate` and `n_iterations`.\n",
    "2. In the function, create a variable `cost_history` with a matrix filled with 0 and which has a length of `n_iterations`. We will use it to display the plot of the model learning process.\n",
    "3. Create a loop that iterates up to `n_iterations`.\n",
    "4. In the loop, update `theta` with the formula of the gradient descent (the example above).\n",
    "5. In the loop, update `cost_history[i]` with the values of `MSE(X,y,theta)`.\n",
    "6. return `theta` and `cost_history`."
   ]
  },
  {
   "cell_type": "code",
   "execution_count": 35,
   "metadata": {},
   "outputs": [],
   "source": [
    "def gradient_descent(X, y, theta, learning_rate, n_iterations):\n",
    "    cost_history = np.zeros(n_iterations)\n",
    "    for i in range(0, n_iterations):\n",
    "        theta = theta - learning_rate * grad(X, y, theta)\n",
    "        cost_history[i] = MSE(X, y, theta)\n",
    "    return theta, cost_history\n"
   ]
  },
  {
   "cell_type": "markdown",
   "metadata": {},
   "source": [
    "### Train your model\n",
    "\n",
    "Now that we know which algorithm is used to minimize the cost function, we train our model.   \n",
    "We define a number of iterations, and a learning step $\\alpha$, and here we go!\n",
    "\n",
    "Once the model is trained, we observe the results compared to our dataset.\n",
    "\n",
    "**Exercise :** Create variables `n_iterations` and `learning_rate`. \n",
    "The learning rate and the number of iterations are defined by trying around a little bit. You have to try several things, there is no magic number. However, starting with 1000 iterations and a learning rate of 0.01 is a good basis to start training."
   ]
  },
  {
   "cell_type": "code",
   "execution_count": 36,
   "metadata": {},
   "outputs": [],
   "source": [
    "n_iterations = 1000\n",
    "learning_rate = 0.01"
   ]
  },
  {
   "cell_type": "markdown",
   "metadata": {},
   "source": [
    "**Exercise:** Create variables `theta_final`, `cost history` and call `gradient_descent()`."
   ]
  },
  {
   "cell_type": "code",
   "execution_count": 38,
   "metadata": {},
   "outputs": [
    {
     "name": "stdout",
     "output_type": "stream",
     "text": [
      "[[ 9876.11033506]\n",
      " [22920.50184159]]\n",
      "[3.73067483e+10 1.66925308e+10 7.88035858e+09 3.99522293e+09\n",
      " 2.21255967e+09 1.35455571e+09 9.19437617e+08 6.87014415e+08\n",
      " 5.56862709e+08 4.81002324e+08 4.35305755e+08 4.07005718e+08\n",
      " 3.89028564e+08 3.77303950e+08 3.69420969e+08 3.63921529e+08\n",
      " 3.59910994e+08 3.56835118e+08 3.54348340e+08 3.52234321e+08\n",
      " 3.50357257e+08 3.48631753e+08 3.47004046e+08 3.45440265e+08\n",
      " 3.43919058e+08 3.42426954e+08 3.40955453e+08 3.39499186e+08\n",
      " 3.38054758e+08 3.36620020e+08 3.35193605e+08 3.33774644e+08\n",
      " 3.32362579e+08 3.30957048e+08 3.29557814e+08 3.28164719e+08\n",
      " 3.26777653e+08 3.25396538e+08 3.24021317e+08 3.22651943e+08\n",
      " 3.21288378e+08 3.19930590e+08 3.18578549e+08 3.17232227e+08\n",
      " 3.15891598e+08 3.14556638e+08 3.13227320e+08 3.11903620e+08\n",
      " 3.10585516e+08 3.09272981e+08 3.07965994e+08 3.06664530e+08\n",
      " 3.05368567e+08 3.04078080e+08 3.02793047e+08 3.01513444e+08\n",
      " 3.00239249e+08 2.98970439e+08 2.97706990e+08 2.96448882e+08\n",
      " 2.95196089e+08 2.93948591e+08 2.92706365e+08 2.91469389e+08\n",
      " 2.90237640e+08 2.89011097e+08 2.87789737e+08 2.86573538e+08\n",
      " 2.85362479e+08 2.84156538e+08 2.82955693e+08 2.81759923e+08\n",
      " 2.80569206e+08 2.79383522e+08 2.78202848e+08 2.77027163e+08\n",
      " 2.75856447e+08 2.74690679e+08 2.73529837e+08 2.72373900e+08\n",
      " 2.71222849e+08 2.70076662e+08 2.68935318e+08 2.67798799e+08\n",
      " 2.66667082e+08 2.65540147e+08 2.64417975e+08 2.63300546e+08\n",
      " 2.62187838e+08 2.61079833e+08 2.59976510e+08 2.58877850e+08\n",
      " 2.57783833e+08 2.56694439e+08 2.55609649e+08 2.54529444e+08\n",
      " 2.53453803e+08 2.52382708e+08 2.51316139e+08 2.50254078e+08\n",
      " 2.49196505e+08 2.48143401e+08 2.47094748e+08 2.46050526e+08\n",
      " 2.45010717e+08 2.43975302e+08 2.42944263e+08 2.41917582e+08\n",
      " 2.40895239e+08 2.39877216e+08 2.38863495e+08 2.37854059e+08\n",
      " 2.36848888e+08 2.35847966e+08 2.34851273e+08 2.33858792e+08\n",
      " 2.32870505e+08 2.31886395e+08 2.30906444e+08 2.29930634e+08\n",
      " 2.28958948e+08 2.27991368e+08 2.27027877e+08 2.26068458e+08\n",
      " 2.25113093e+08 2.24161765e+08 2.23214458e+08 2.22271155e+08\n",
      " 2.21331837e+08 2.20396490e+08 2.19465095e+08 2.18537636e+08\n",
      " 2.17614096e+08 2.16694460e+08 2.15778710e+08 2.14866829e+08\n",
      " 2.13958803e+08 2.13054613e+08 2.12154245e+08 2.11257682e+08\n",
      " 2.10364907e+08 2.09475906e+08 2.08590661e+08 2.07709158e+08\n",
      " 2.06831379e+08 2.05957310e+08 2.05086935e+08 2.04220239e+08\n",
      " 2.03357204e+08 2.02497817e+08 2.01642062e+08 2.00789923e+08\n",
      " 1.99941386e+08 1.99096434e+08 1.98255053e+08 1.97417228e+08\n",
      " 1.96582943e+08 1.95752184e+08 1.94924936e+08 1.94101183e+08\n",
      " 1.93280912e+08 1.92464108e+08 1.91650755e+08 1.90840839e+08\n",
      " 1.90034346e+08 1.89231262e+08 1.88431571e+08 1.87635260e+08\n",
      " 1.86842314e+08 1.86052718e+08 1.85266460e+08 1.84483525e+08\n",
      " 1.83703898e+08 1.82927566e+08 1.82154514e+08 1.81384730e+08\n",
      " 1.80618198e+08 1.79854906e+08 1.79094840e+08 1.78337986e+08\n",
      " 1.77584330e+08 1.76833859e+08 1.76086559e+08 1.75342418e+08\n",
      " 1.74601421e+08 1.73863556e+08 1.73128809e+08 1.72397167e+08\n",
      " 1.71668618e+08 1.70943146e+08 1.70220741e+08 1.69501389e+08\n",
      " 1.68785076e+08 1.68071791e+08 1.67361520e+08 1.66654251e+08\n",
      " 1.65949970e+08 1.65248666e+08 1.64550326e+08 1.63854937e+08\n",
      " 1.63162486e+08 1.62472962e+08 1.61786351e+08 1.61102643e+08\n",
      " 1.60421823e+08 1.59743881e+08 1.59068804e+08 1.58396580e+08\n",
      " 1.57727196e+08 1.57060641e+08 1.56396904e+08 1.55735971e+08\n",
      " 1.55077831e+08 1.54422472e+08 1.53769883e+08 1.53120052e+08\n",
      " 1.52472967e+08 1.51828617e+08 1.51186990e+08 1.50548074e+08\n",
      " 1.49911858e+08 1.49278331e+08 1.48647481e+08 1.48019297e+08\n",
      " 1.47393768e+08 1.46770882e+08 1.46150629e+08 1.45532997e+08\n",
      " 1.44917975e+08 1.44305552e+08 1.43695717e+08 1.43088459e+08\n",
      " 1.42483768e+08 1.41881632e+08 1.41282040e+08 1.40684983e+08\n",
      " 1.40090449e+08 1.39498427e+08 1.38908907e+08 1.38321878e+08\n",
      " 1.37737330e+08 1.37155253e+08 1.36575635e+08 1.35998467e+08\n",
      " 1.35423737e+08 1.34851437e+08 1.34281555e+08 1.33714082e+08\n",
      " 1.33149006e+08 1.32586319e+08 1.32026010e+08 1.31468068e+08\n",
      " 1.30912484e+08 1.30359249e+08 1.29808351e+08 1.29259781e+08\n",
      " 1.28713529e+08 1.28169586e+08 1.27627942e+08 1.27088587e+08\n",
      " 1.26551511e+08 1.26016704e+08 1.25484158e+08 1.24953862e+08\n",
      " 1.24425808e+08 1.23899985e+08 1.23376384e+08 1.22854995e+08\n",
      " 1.22335810e+08 1.21818820e+08 1.21304014e+08 1.20791383e+08\n",
      " 1.20280919e+08 1.19772612e+08 1.19266454e+08 1.18762434e+08\n",
      " 1.18260544e+08 1.17760775e+08 1.17263119e+08 1.16767565e+08\n",
      " 1.16274106e+08 1.15782732e+08 1.15293434e+08 1.14806204e+08\n",
      " 1.14321034e+08 1.13837913e+08 1.13356834e+08 1.12877789e+08\n",
      " 1.12400768e+08 1.11925762e+08 1.11452764e+08 1.10981765e+08\n",
      " 1.10512756e+08 1.10045730e+08 1.09580677e+08 1.09117589e+08\n",
      " 1.08656459e+08 1.08197277e+08 1.07740035e+08 1.07284726e+08\n",
      " 1.06831341e+08 1.06379872e+08 1.05930311e+08 1.05482650e+08\n",
      " 1.05036881e+08 1.04592995e+08 1.04150985e+08 1.03710844e+08\n",
      " 1.03272562e+08 1.02836132e+08 1.02401547e+08 1.01968798e+08\n",
      " 1.01537878e+08 1.01108780e+08 1.00681494e+08 1.00256014e+08\n",
      " 9.98323328e+07 9.94104416e+07 9.89903334e+07 9.85720005e+07\n",
      " 9.81554355e+07 9.77406309e+07 9.73275792e+07 9.69162731e+07\n",
      " 9.65067052e+07 9.60988682e+07 9.56927546e+07 9.52883573e+07\n",
      " 9.48856689e+07 9.44846823e+07 9.40853903e+07 9.36877857e+07\n",
      " 9.32918614e+07 9.28976102e+07 9.25050252e+07 9.21140992e+07\n",
      " 9.17248252e+07 9.13371964e+07 9.09512056e+07 9.05668461e+07\n",
      " 9.01841108e+07 8.98029930e+07 8.94234858e+07 8.90455824e+07\n",
      " 8.86692760e+07 8.82945599e+07 8.79214273e+07 8.75498716e+07\n",
      " 8.71798861e+07 8.68114641e+07 8.64445991e+07 8.60792844e+07\n",
      " 8.57155136e+07 8.53532801e+07 8.49925773e+07 8.46333989e+07\n",
      " 8.42757384e+07 8.39195894e+07 8.35649454e+07 8.32118002e+07\n",
      " 8.28601473e+07 8.25099806e+07 8.21612936e+07 8.18140802e+07\n",
      " 8.14683341e+07 8.11240491e+07 8.07812191e+07 8.04398379e+07\n",
      " 8.00998994e+07 7.97613974e+07 7.94243260e+07 7.90886790e+07\n",
      " 7.87544504e+07 7.84216343e+07 7.80902247e+07 7.77602156e+07\n",
      " 7.74316012e+07 7.71043754e+07 7.67785325e+07 7.64540667e+07\n",
      " 7.61309720e+07 7.58092427e+07 7.54888730e+07 7.51698573e+07\n",
      " 7.48521896e+07 7.45358645e+07 7.42208761e+07 7.39072189e+07\n",
      " 7.35948872e+07 7.32838754e+07 7.29741779e+07 7.26657892e+07\n",
      " 7.23587038e+07 7.20529161e+07 7.17484207e+07 7.14452121e+07\n",
      " 7.11432848e+07 7.08426334e+07 7.05432527e+07 7.02451371e+07\n",
      " 6.99482813e+07 6.96526801e+07 6.93583280e+07 6.90652199e+07\n",
      " 6.87733505e+07 6.84827145e+07 6.81933067e+07 6.79051220e+07\n",
      " 6.76181551e+07 6.73324010e+07 6.70478544e+07 6.67645104e+07\n",
      " 6.64823637e+07 6.62014094e+07 6.59216424e+07 6.56430578e+07\n",
      " 6.53656504e+07 6.50894153e+07 6.48143476e+07 6.45404424e+07\n",
      " 6.42676946e+07 6.39960995e+07 6.37256522e+07 6.34563477e+07\n",
      " 6.31881814e+07 6.29211483e+07 6.26552437e+07 6.23904628e+07\n",
      " 6.21268009e+07 6.18642532e+07 6.16028150e+07 6.13424817e+07\n",
      " 6.10832485e+07 6.08251108e+07 6.05680641e+07 6.03121036e+07\n",
      " 6.00572248e+07 5.98034232e+07 5.95506940e+07 5.92990330e+07\n",
      " 5.90484354e+07 5.87988969e+07 5.85504129e+07 5.83029790e+07\n",
      " 5.80565908e+07 5.78112438e+07 5.75669336e+07 5.73236559e+07\n",
      " 5.70814063e+07 5.68401804e+07 5.65999740e+07 5.63607826e+07\n",
      " 5.61226021e+07 5.58854281e+07 5.56492565e+07 5.54140829e+07\n",
      " 5.51799031e+07 5.49467130e+07 5.47145083e+07 5.44832849e+07\n",
      " 5.42530387e+07 5.40237655e+07 5.37954612e+07 5.35681218e+07\n",
      " 5.33417430e+07 5.31163210e+07 5.28918515e+07 5.26683307e+07\n",
      " 5.24457545e+07 5.22241189e+07 5.20034199e+07 5.17836536e+07\n",
      " 5.15648160e+07 5.13469032e+07 5.11299113e+07 5.09138365e+07\n",
      " 5.06986747e+07 5.04844223e+07 5.02710752e+07 5.00586298e+07\n",
      " 4.98470822e+07 4.96364285e+07 4.94266651e+07 4.92177882e+07\n",
      " 4.90097939e+07 4.88026787e+07 4.85964387e+07 4.83910702e+07\n",
      " 4.81865697e+07 4.79829334e+07 4.77801576e+07 4.75782388e+07\n",
      " 4.73771733e+07 4.71769575e+07 4.69775878e+07 4.67790606e+07\n",
      " 4.65813725e+07 4.63845197e+07 4.61884988e+07 4.59933064e+07\n",
      " 4.57989388e+07 4.56053926e+07 4.54126643e+07 4.52207505e+07\n",
      " 4.50296478e+07 4.48393526e+07 4.46498616e+07 4.44611714e+07\n",
      " 4.42732786e+07 4.40861799e+07 4.38998718e+07 4.37143510e+07\n",
      " 4.35296143e+07 4.33456583e+07 4.31624796e+07 4.29800751e+07\n",
      " 4.27984414e+07 4.26175753e+07 4.24374736e+07 4.22581329e+07\n",
      " 4.20795502e+07 4.19017221e+07 4.17246455e+07 4.15483173e+07\n",
      " 4.13727342e+07 4.11978931e+07 4.10237910e+07 4.08504245e+07\n",
      " 4.06777907e+07 4.05058865e+07 4.03347087e+07 4.01642544e+07\n",
      " 3.99945203e+07 3.98255036e+07 3.96572011e+07 3.94896099e+07\n",
      " 3.93227269e+07 3.91565492e+07 3.89910737e+07 3.88262975e+07\n",
      " 3.86622177e+07 3.84988313e+07 3.83361353e+07 3.81741269e+07\n",
      " 3.80128031e+07 3.78521611e+07 3.76921980e+07 3.75329109e+07\n",
      " 3.73742969e+07 3.72163532e+07 3.70590770e+07 3.69024654e+07\n",
      " 3.67465157e+07 3.65912250e+07 3.64365906e+07 3.62826097e+07\n",
      " 3.61292795e+07 3.59765972e+07 3.58245602e+07 3.56731657e+07\n",
      " 3.55224110e+07 3.53722934e+07 3.52228102e+07 3.50739587e+07\n",
      " 3.49257362e+07 3.47781402e+07 3.46311678e+07 3.44848166e+07\n",
      " 3.43390839e+07 3.41939670e+07 3.40494634e+07 3.39055705e+07\n",
      " 3.37622856e+07 3.36196063e+07 3.34775299e+07 3.33360540e+07\n",
      " 3.31951759e+07 3.30548932e+07 3.29152033e+07 3.27761037e+07\n",
      " 3.26375920e+07 3.24996656e+07 3.23623221e+07 3.22255590e+07\n",
      " 3.20893739e+07 3.19537643e+07 3.18187278e+07 3.16842619e+07\n",
      " 3.15503643e+07 3.14170325e+07 3.12842642e+07 3.11520570e+07\n",
      " 3.10204085e+07 3.08893163e+07 3.07587782e+07 3.06287917e+07\n",
      " 3.04993545e+07 3.03704643e+07 3.02421188e+07 3.01143157e+07\n",
      " 2.99870526e+07 2.98603274e+07 2.97341378e+07 2.96084814e+07\n",
      " 2.94833560e+07 2.93587594e+07 2.92346894e+07 2.91111437e+07\n",
      " 2.89881201e+07 2.88656163e+07 2.87436303e+07 2.86221598e+07\n",
      " 2.85012027e+07 2.83807566e+07 2.82608196e+07 2.81413895e+07\n",
      " 2.80224641e+07 2.79040412e+07 2.77861188e+07 2.76686947e+07\n",
      " 2.75517669e+07 2.74353332e+07 2.73193916e+07 2.72039399e+07\n",
      " 2.70889761e+07 2.69744982e+07 2.68605040e+07 2.67469916e+07\n",
      " 2.66339589e+07 2.65214038e+07 2.64093245e+07 2.62977187e+07\n",
      " 2.61865846e+07 2.60759202e+07 2.59657234e+07 2.58559923e+07\n",
      " 2.57467250e+07 2.56379194e+07 2.55295736e+07 2.54216857e+07\n",
      " 2.53142537e+07 2.52072758e+07 2.51007499e+07 2.49946742e+07\n",
      " 2.48890468e+07 2.47838657e+07 2.46791292e+07 2.45748352e+07\n",
      " 2.44709820e+07 2.43675677e+07 2.42645905e+07 2.41620484e+07\n",
      " 2.40599396e+07 2.39582624e+07 2.38570148e+07 2.37561951e+07\n",
      " 2.36558015e+07 2.35558322e+07 2.34562853e+07 2.33571591e+07\n",
      " 2.32584518e+07 2.31601616e+07 2.30622869e+07 2.29648257e+07\n",
      " 2.28677764e+07 2.27711372e+07 2.26749065e+07 2.25790824e+07\n",
      " 2.24836632e+07 2.23886473e+07 2.22940330e+07 2.21998184e+07\n",
      " 2.21060021e+07 2.20125822e+07 2.19195571e+07 2.18269251e+07\n",
      " 2.17346845e+07 2.16428338e+07 2.15513713e+07 2.14602952e+07\n",
      " 2.13696041e+07 2.12792962e+07 2.11893699e+07 2.10998237e+07\n",
      " 2.10106559e+07 2.09218649e+07 2.08334492e+07 2.07454071e+07\n",
      " 2.06577371e+07 2.05704375e+07 2.04835069e+07 2.03969437e+07\n",
      " 2.03107462e+07 2.02249131e+07 2.01394426e+07 2.00543334e+07\n",
      " 1.99695838e+07 1.98851924e+07 1.98011577e+07 1.97174780e+07\n",
      " 1.96341520e+07 1.95511781e+07 1.94685549e+07 1.93862809e+07\n",
      " 1.93043545e+07 1.92227743e+07 1.91415389e+07 1.90606468e+07\n",
      " 1.89800966e+07 1.88998868e+07 1.88200159e+07 1.87404826e+07\n",
      " 1.86612853e+07 1.85824228e+07 1.85038935e+07 1.84256961e+07\n",
      " 1.83478292e+07 1.82702913e+07 1.81930811e+07 1.81161972e+07\n",
      " 1.80396382e+07 1.79634027e+07 1.78874894e+07 1.78118969e+07\n",
      " 1.77366239e+07 1.76616690e+07 1.75870308e+07 1.75127081e+07\n",
      " 1.74386994e+07 1.73650035e+07 1.72916191e+07 1.72185447e+07\n",
      " 1.71457792e+07 1.70733212e+07 1.70011694e+07 1.69293225e+07\n",
      " 1.68577792e+07 1.67865383e+07 1.67155984e+07 1.66449583e+07\n",
      " 1.65746168e+07 1.65045725e+07 1.64348242e+07 1.63653707e+07\n",
      " 1.62962107e+07 1.62273429e+07 1.61587662e+07 1.60904793e+07\n",
      " 1.60224810e+07 1.59547700e+07 1.58873452e+07 1.58202053e+07\n",
      " 1.57533492e+07 1.56867756e+07 1.56204833e+07 1.55544712e+07\n",
      " 1.54887380e+07 1.54232827e+07 1.53581039e+07 1.52932006e+07\n",
      " 1.52285716e+07 1.51642157e+07 1.51001318e+07 1.50363186e+07\n",
      " 1.49727752e+07 1.49095003e+07 1.48464928e+07 1.47837515e+07\n",
      " 1.47212754e+07 1.46590634e+07 1.45971142e+07 1.45354268e+07\n",
      " 1.44740002e+07 1.44128331e+07 1.43519245e+07 1.42912733e+07\n",
      " 1.42308784e+07 1.41707388e+07 1.41108533e+07 1.40512208e+07\n",
      " 1.39918404e+07 1.39327109e+07 1.38738313e+07 1.38152006e+07\n",
      " 1.37568176e+07 1.36986813e+07 1.36407907e+07 1.35831447e+07\n",
      " 1.35257424e+07 1.34685827e+07 1.34116645e+07 1.33549868e+07\n",
      " 1.32985487e+07 1.32423490e+07 1.31863869e+07 1.31306613e+07\n",
      " 1.30751711e+07 1.30199155e+07 1.29648934e+07 1.29101038e+07\n",
      " 1.28555457e+07 1.28012182e+07 1.27471203e+07 1.26932510e+07\n",
      " 1.26396093e+07 1.25861944e+07 1.25330052e+07 1.24800407e+07\n",
      " 1.24273001e+07 1.23747824e+07 1.23224866e+07 1.22704118e+07\n",
      " 1.22185570e+07 1.21669214e+07 1.21155041e+07 1.20643040e+07\n",
      " 1.20133203e+07 1.19625520e+07 1.19119983e+07 1.18616582e+07\n",
      " 1.18115309e+07 1.17616154e+07 1.17119108e+07 1.16624163e+07\n",
      " 1.16131310e+07 1.15640539e+07 1.15151843e+07 1.14665211e+07\n",
      " 1.14180636e+07 1.13698109e+07 1.13217621e+07 1.12739164e+07\n",
      " 1.12262729e+07 1.11788307e+07 1.11315890e+07 1.10845469e+07\n",
      " 1.10377036e+07 1.09910583e+07 1.09446101e+07 1.08983582e+07\n",
      " 1.08523018e+07 1.08064400e+07 1.07607720e+07 1.07152970e+07\n",
      " 1.06700142e+07 1.06249228e+07 1.05800219e+07 1.05353107e+07\n",
      " 1.04907885e+07 1.04464545e+07 1.04023078e+07 1.03583477e+07\n",
      " 1.03145733e+07 1.02709840e+07 1.02275788e+07 1.01843571e+07\n",
      " 1.01413180e+07 1.00984608e+07 1.00557848e+07 1.00132890e+07\n",
      " 9.97097291e+06 9.92883561e+06 9.88687638e+06 9.84509446e+06\n",
      " 9.80348912e+06 9.76205960e+06 9.72080516e+06 9.67972507e+06\n",
      " 9.63881857e+06 9.59808495e+06 9.55752347e+06 9.51713340e+06\n",
      " 9.47691402e+06 9.43686461e+06 9.39698444e+06 9.35727281e+06\n",
      " 9.31772900e+06 9.27835231e+06 9.23914201e+06 9.20009742e+06\n",
      " 9.16121784e+06 9.12250255e+06 9.08395088e+06 9.04556213e+06\n",
      " 9.00733561e+06 8.96927063e+06 8.93136652e+06 8.89362259e+06\n",
      " 8.85603816e+06 8.81861257e+06 8.78134514e+06 8.74423519e+06\n",
      " 8.70728208e+06 8.67048513e+06 8.63384368e+06 8.59735708e+06\n",
      " 8.56102467e+06 8.52484581e+06 8.48881983e+06 8.45294610e+06\n",
      " 8.41722397e+06 8.38165281e+06 8.34623196e+06 8.31096081e+06\n",
      " 8.27583871e+06 8.24086504e+06 8.20603917e+06 8.17136047e+06\n",
      " 8.13682832e+06 8.10244210e+06 8.06820120e+06 8.03410501e+06\n",
      " 8.00015290e+06 7.96634428e+06 7.93267853e+06 7.89915505e+06\n",
      " 7.86577324e+06 7.83253250e+06 7.79943224e+06 7.76647186e+06\n",
      " 7.73365077e+06 7.70096838e+06 7.66842411e+06 7.63601737e+06\n",
      " 7.60374758e+06 7.57161417e+06 7.53961655e+06 7.50775415e+06\n",
      " 7.47602640e+06 7.44443273e+06 7.41297258e+06 7.38164537e+06\n",
      " 7.35045056e+06 7.31938758e+06 7.28845586e+06 7.25765487e+06\n",
      " 7.22698404e+06 7.19644282e+06 7.16603067e+06 7.13574705e+06\n",
      " 7.10559140e+06 7.07556319e+06 7.04566188e+06 7.01588693e+06\n",
      " 6.98623781e+06 6.95671399e+06 6.92731493e+06 6.89804012e+06\n",
      " 6.86888902e+06 6.83986111e+06 6.81095588e+06 6.78217280e+06\n",
      " 6.75351135e+06 6.72497103e+06 6.69655132e+06 6.66825171e+06\n",
      " 6.64007170e+06 6.61201077e+06 6.58406843e+06 6.55624418e+06\n",
      " 6.52853751e+06 6.50094793e+06 6.47347494e+06 6.44611805e+06\n",
      " 6.41887677e+06 6.39175062e+06 6.36473910e+06 6.33784172e+06\n",
      " 6.31105802e+06 6.28438751e+06 6.25782970e+06 6.23138413e+06\n",
      " 6.20505032e+06 6.17882779e+06 6.15271608e+06 6.12671472e+06\n",
      " 6.10082324e+06 6.07504118e+06 6.04936807e+06 6.02380346e+06\n",
      " 5.99834688e+06 5.97299788e+06 5.94775601e+06 5.92262081e+06\n",
      " 5.89759183e+06 5.87266862e+06 5.84785074e+06 5.82313774e+06\n",
      " 5.79852917e+06 5.77402460e+06 5.74962359e+06 5.72532570e+06\n",
      " 5.70113049e+06 5.67703752e+06 5.65304638e+06 5.62915662e+06\n",
      " 5.60536782e+06 5.58167955e+06 5.55809139e+06 5.53460291e+06]\n"
     ]
    }
   ],
   "source": [
    "theta_final, cost_history = gradient_descent(X, y, theta, learning_rate, n_iterations)\n",
    "print(theta_final)"
   ]
  },
  {
   "cell_type": "markdown",
   "metadata": {},
   "source": [
    "**Exercise :** \n",
    "1. Create a `predictions` variable that will store the result of `model(X, theta_final)`.\n",
    "2. Use matplotlib to display a scatter plot with the data and the target.\n",
    "3. On the same graph, use the `plot` method to display your predictions. "
   ]
  },
  {
   "cell_type": "code",
   "execution_count": 47,
   "metadata": {},
   "outputs": [
    {
     "data": {
      "image/png": "[encoded data removed]",
      "text/plain": [
       "<Figure size 640x480 with 1 Axes>"
      ]
     },
     "metadata": {},
     "output_type": "display_data"
    }
   ],
   "source": [
    "import matplotlib.pyplot as plt\n",
    "predictions = model(X, theta_final)\n",
    "plt.clf()\n",
    "plt.scatter(x=x, y=y, c='g')\n",
    "plt.plot(x, predictions, c=\"c\")\n",
    "plt.show()"
   ]
  },
  {
   "cell_type": "markdown",
   "metadata": {},
   "source": [
    "You should have something like this. \n",
    "![](./assets/final_theta.png)"
   ]
  },
  {
   "cell_type": "markdown",
   "metadata": {},
   "source": [
    "If not, change the learning rate and the number of iterations."
   ]
  },
  {
   "cell_type": "markdown",
   "metadata": {},
   "source": [
    "### Learning curves\n",
    "To check if our gradient descent algorithm worked well, we observe the evolution of the cost function through iterations. We are supposed to obtain a curve that decreases with each iteration until it stagnates at a minimal level (close to zero). If the curve does not follow this pattern, then the learning rate may be too high, we should take a smaller step."
   ]
  },
  {
   "cell_type": "markdown",
   "metadata": {},
   "source": [
    "**Exercise :** \n",
    "1. Plot the `cost_history` with respect to the number of iterations."
   ]
  },
  {
   "cell_type": "code",
   "execution_count": 49,
   "metadata": {},
   "outputs": [
    {
     "data": {
      "text/plain": [
       "[<matplotlib.lines.Line2D at 0x217698db0a0>]"
      ]
     },
     "execution_count": 49,
     "metadata": {},
     "output_type": "execute_result"
    },
    {
     "data": {
      "image/png": "[encoded data removed]",
      "text/plain": [
       "<Figure size 640x480 with 1 Axes>"
      ]
     },
     "metadata": {},
     "output_type": "display_data"
    }
   ],
   "source": [
    "plt.plot(range(n_iterations), cost_history)"
   ]
  },
  {
   "cell_type": "markdown",
   "metadata": {},
   "source": [
    "You should have something like this: \n",
    "![](./assets/learning_curve.png)"
   ]
  },
  {
   "cell_type": "markdown",
   "metadata": {},
   "source": [
    "On this plot, we can see that after 400 iterations, the model no longer learns and becomes constant. We can thus redefine the maximum number of iterations to 400."
   ]
  },
  {
   "cell_type": "markdown",
   "metadata": {},
   "source": [
    "### Evaluation\n",
    "\n",
    "To evaluate the real performance of our model with a popular metric (for your boss, client, or colleagues) we can use the coefficient of determination, also known as $R^2$. It comes from the method of least squares. The closer the result is to 1, the better your model is."
   ]
  },
  {
   "cell_type": "code",
   "execution_count": 50,
   "metadata": {},
   "outputs": [],
   "source": [
    "def coef_determination(y, pred):\n",
    "    u = ((y - pred)**2).sum()\n",
    "    v = ((y - y.mean())**2).sum()\n",
    "    return 1 - u/v"
   ]
  },
  {
   "cell_type": "code",
   "execution_count": 51,
   "metadata": {},
   "outputs": [
    {
     "data": {
      "text/plain": [
       "0.9545027396203364"
      ]
     },
     "execution_count": 51,
     "metadata": {},
     "output_type": "execute_result"
    }
   ],
   "source": [
    "coef_determination(y, predictions)"
   ]
  },
  {
   "cell_type": "markdown",
   "metadata": {},
   "source": [
    "### The end\n",
    "Ok ok, you just built your own model of linear regression, do you realize that? \n",
    "This part was a bit theoretical, but it's essential to understand how it works.  \n",
    "![tired.gif](./assets/tired.gif)"
   ]
  }
 ],
 "metadata": {
  "colab": {
   "collapsed_sections": [],
   "name": "Copie de linearregression.ipynb",
   "provenance": []
  },
  "kernelspec": {
   "display_name": "Python 3",
   "language": "python",
   "name": "python3"
  },
  "language_info": {
   "codemirror_mode": {
    "name": "ipython",
    "version": 3
   },
   "file_extension": ".py",
   "mimetype": "text/x-python",
   "name": "python",
   "nbconvert_exporter": "python",
   "pygments_lexer": "ipython3",
   "version": "3.10.7"
  }
 },
 "nbformat": 4,
 "nbformat_minor": 1
}
