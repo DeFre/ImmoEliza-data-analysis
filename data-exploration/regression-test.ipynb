{
 "cells": [
  {
   "cell_type": "markdown",
   "metadata": {},
   "source": [
    "# ImmoEliza - Data Modelling"
   ]
  },
  {
   "cell_type": "code",
   "execution_count": 1,
   "metadata": {},
   "outputs": [],
   "source": [
    "import re\n",
    "import pandas as pd\n",
    "import numpy as np\n",
    "import matplotlib.pyplot as plt \n",
    "import seaborn as sns \n",
    "import plotly.express as px"
   ]
  },
  {
   "cell_type": "code",
   "execution_count": 2,
   "metadata": {},
   "outputs": [],
   "source": [
    "df = pd.read_csv('../data/saved_data_myt.csv', index_col=0)"
   ]
  },
  {
   "cell_type": "code",
   "execution_count": 3,
   "metadata": {},
   "outputs": [
    {
     "data": {
      "text/html": [
       "<div>\n",
       "<style scoped>\n",
       "    .dataframe tbody tr th:only-of-type {\n",
       "        vertical-align: middle;\n",
       "    }\n",
       "\n",
       "    .dataframe tbody tr th {\n",
       "        vertical-align: top;\n",
       "    }\n",
       "\n",
       "    .dataframe thead th {\n",
       "        text-align: right;\n",
       "    }\n",
       "</style>\n",
       "<table border=\"1\" class=\"dataframe\">\n",
       "  <thead>\n",
       "    <tr style=\"text-align: right;\">\n",
       "      <th></th>\n",
       "      <th>Type of property</th>\n",
       "      <th>Location</th>\n",
       "      <th>Postcode</th>\n",
       "      <th>immo code</th>\n",
       "      <th>Price</th>\n",
       "      <th>Address</th>\n",
       "      <th>Bedrooms</th>\n",
       "      <th>Energy class</th>\n",
       "      <th>Primary energy consumption</th>\n",
       "      <th>Furnished</th>\n",
       "      <th>...</th>\n",
       "      <th>Shower rooms</th>\n",
       "      <th>Office</th>\n",
       "      <th>Toilets</th>\n",
       "      <th>Kitchen type</th>\n",
       "      <th>Heating type</th>\n",
       "      <th>Price2</th>\n",
       "      <th>Price_orig</th>\n",
       "      <th>Terrace2</th>\n",
       "      <th>Province</th>\n",
       "      <th>Region</th>\n",
       "    </tr>\n",
       "  </thead>\n",
       "  <tbody>\n",
       "    <tr>\n",
       "      <th>0</th>\n",
       "      <td>house</td>\n",
       "      <td>essen</td>\n",
       "      <td>2910</td>\n",
       "      <td>10666428</td>\n",
       "      <td>469000</td>\n",
       "      <td>Heidestatiestraat 26</td>\n",
       "      <td>3</td>\n",
       "      <td>D</td>\n",
       "      <td>390.0</td>\n",
       "      <td>0</td>\n",
       "      <td>...</td>\n",
       "      <td>0</td>\n",
       "      <td>0</td>\n",
       "      <td>2</td>\n",
       "      <td>Installed</td>\n",
       "      <td>0</td>\n",
       "      <td>469000</td>\n",
       "      <td>€469000</td>\n",
       "      <td>1</td>\n",
       "      <td>Antwerpen</td>\n",
       "      <td>Flanders</td>\n",
       "    </tr>\n",
       "    <tr>\n",
       "      <th>1</th>\n",
       "      <td>house</td>\n",
       "      <td>bierges</td>\n",
       "      <td>1301</td>\n",
       "      <td>10666426</td>\n",
       "      <td>1395000</td>\n",
       "      <td>Rue de Wavre, 27</td>\n",
       "      <td>5</td>\n",
       "      <td>C</td>\n",
       "      <td>178.0</td>\n",
       "      <td>0</td>\n",
       "      <td>...</td>\n",
       "      <td>3</td>\n",
       "      <td>1</td>\n",
       "      <td>4</td>\n",
       "      <td>Hyper equipped</td>\n",
       "      <td>Fuel oil</td>\n",
       "      <td>1395000</td>\n",
       "      <td>€1395000</td>\n",
       "      <td>1</td>\n",
       "      <td>Brabant wallon</td>\n",
       "      <td>Wallonia</td>\n",
       "    </tr>\n",
       "    <tr>\n",
       "      <th>2</th>\n",
       "      <td>apartment</td>\n",
       "      <td>arlon</td>\n",
       "      <td>6700</td>\n",
       "      <td>10666424</td>\n",
       "      <td>285000</td>\n",
       "      <td>Avenue de Longwy 340</td>\n",
       "      <td>2</td>\n",
       "      <td>D</td>\n",
       "      <td>299.0</td>\n",
       "      <td>0</td>\n",
       "      <td>...</td>\n",
       "      <td>0</td>\n",
       "      <td>0</td>\n",
       "      <td>2</td>\n",
       "      <td>Installed</td>\n",
       "      <td>Electric</td>\n",
       "      <td>285000</td>\n",
       "      <td>€285000</td>\n",
       "      <td>0</td>\n",
       "      <td>Luxembourg</td>\n",
       "      <td>Wallonia</td>\n",
       "    </tr>\n",
       "    <tr>\n",
       "      <th>3</th>\n",
       "      <td>house</td>\n",
       "      <td>arlon</td>\n",
       "      <td>6700</td>\n",
       "      <td>10666423</td>\n",
       "      <td>285000</td>\n",
       "      <td>Avenue de Longwy 340</td>\n",
       "      <td>2</td>\n",
       "      <td>D</td>\n",
       "      <td>299.0</td>\n",
       "      <td>0</td>\n",
       "      <td>...</td>\n",
       "      <td>0</td>\n",
       "      <td>0</td>\n",
       "      <td>2</td>\n",
       "      <td>Installed</td>\n",
       "      <td>Electric</td>\n",
       "      <td>285000</td>\n",
       "      <td>€285000</td>\n",
       "      <td>0</td>\n",
       "      <td>Luxembourg</td>\n",
       "      <td>Wallonia</td>\n",
       "    </tr>\n",
       "    <tr>\n",
       "      <th>4</th>\n",
       "      <td>apartment</td>\n",
       "      <td>antwerp</td>\n",
       "      <td>2000</td>\n",
       "      <td>10666422</td>\n",
       "      <td>425000</td>\n",
       "      <td>Grote steenweg, 511</td>\n",
       "      <td>2</td>\n",
       "      <td>C</td>\n",
       "      <td>254.0</td>\n",
       "      <td>0</td>\n",
       "      <td>...</td>\n",
       "      <td>0</td>\n",
       "      <td>0</td>\n",
       "      <td>0</td>\n",
       "      <td>Installed</td>\n",
       "      <td>0</td>\n",
       "      <td>425000</td>\n",
       "      <td>€425000</td>\n",
       "      <td>1</td>\n",
       "      <td>Antwerpen</td>\n",
       "      <td>Flanders</td>\n",
       "    </tr>\n",
       "    <tr>\n",
       "      <th>...</th>\n",
       "      <td>...</td>\n",
       "      <td>...</td>\n",
       "      <td>...</td>\n",
       "      <td>...</td>\n",
       "      <td>...</td>\n",
       "      <td>...</td>\n",
       "      <td>...</td>\n",
       "      <td>...</td>\n",
       "      <td>...</td>\n",
       "      <td>...</td>\n",
       "      <td>...</td>\n",
       "      <td>...</td>\n",
       "      <td>...</td>\n",
       "      <td>...</td>\n",
       "      <td>...</td>\n",
       "      <td>...</td>\n",
       "      <td>...</td>\n",
       "      <td>...</td>\n",
       "      <td>...</td>\n",
       "      <td>...</td>\n",
       "      <td>...</td>\n",
       "    </tr>\n",
       "    <tr>\n",
       "      <th>8589</th>\n",
       "      <td>house</td>\n",
       "      <td>tremelo</td>\n",
       "      <td>3120</td>\n",
       "      <td>10642957</td>\n",
       "      <td>499000</td>\n",
       "      <td>Schrieksebaan 53B001</td>\n",
       "      <td>3</td>\n",
       "      <td>D</td>\n",
       "      <td>383.0</td>\n",
       "      <td>0</td>\n",
       "      <td>...</td>\n",
       "      <td>0</td>\n",
       "      <td>1</td>\n",
       "      <td>2</td>\n",
       "      <td>Installed</td>\n",
       "      <td>0</td>\n",
       "      <td>499000</td>\n",
       "      <td>€499000</td>\n",
       "      <td>1</td>\n",
       "      <td>Vlaams-Brabant</td>\n",
       "      <td>Flanders</td>\n",
       "    </tr>\n",
       "    <tr>\n",
       "      <th>8590</th>\n",
       "      <td>villa</td>\n",
       "      <td>schilde</td>\n",
       "      <td>2970</td>\n",
       "      <td>10642946</td>\n",
       "      <td>1199000</td>\n",
       "      <td>Donksesteenweg 212</td>\n",
       "      <td>6</td>\n",
       "      <td>B</td>\n",
       "      <td>199.0</td>\n",
       "      <td>0</td>\n",
       "      <td>...</td>\n",
       "      <td>0</td>\n",
       "      <td>0</td>\n",
       "      <td>3</td>\n",
       "      <td>Installed</td>\n",
       "      <td>Gas</td>\n",
       "      <td>1199000</td>\n",
       "      <td>€1199000</td>\n",
       "      <td>1</td>\n",
       "      <td>Antwerpen</td>\n",
       "      <td>Flanders</td>\n",
       "    </tr>\n",
       "    <tr>\n",
       "      <th>8591</th>\n",
       "      <td>duplex</td>\n",
       "      <td>bierbeek%20korbeek-lo</td>\n",
       "      <td>3360</td>\n",
       "      <td>10531808</td>\n",
       "      <td>450000</td>\n",
       "      <td>Herbert Hooverplein 14</td>\n",
       "      <td>3</td>\n",
       "      <td>B</td>\n",
       "      <td>120.0</td>\n",
       "      <td>0</td>\n",
       "      <td>...</td>\n",
       "      <td>0</td>\n",
       "      <td>0</td>\n",
       "      <td>0</td>\n",
       "      <td>Hyper equipped</td>\n",
       "      <td>Gas</td>\n",
       "      <td>450000</td>\n",
       "      <td>€450000</td>\n",
       "      <td>1</td>\n",
       "      <td>Vlaams-Brabant</td>\n",
       "      <td>Flanders</td>\n",
       "    </tr>\n",
       "    <tr>\n",
       "      <th>8593</th>\n",
       "      <td>house</td>\n",
       "      <td>wevelgem</td>\n",
       "      <td>8560</td>\n",
       "      <td>10642937</td>\n",
       "      <td>340000</td>\n",
       "      <td>Markeplaats 9</td>\n",
       "      <td>4</td>\n",
       "      <td>B</td>\n",
       "      <td>161.0</td>\n",
       "      <td>0</td>\n",
       "      <td>...</td>\n",
       "      <td>0</td>\n",
       "      <td>0</td>\n",
       "      <td>0</td>\n",
       "      <td>0</td>\n",
       "      <td>0</td>\n",
       "      <td>340000</td>\n",
       "      <td>€340000</td>\n",
       "      <td>1</td>\n",
       "      <td>West-Vlaanderen</td>\n",
       "      <td>Flanders</td>\n",
       "    </tr>\n",
       "    <tr>\n",
       "      <th>8594</th>\n",
       "      <td>villa</td>\n",
       "      <td>lubbeek</td>\n",
       "      <td>3210</td>\n",
       "      <td>10642929</td>\n",
       "      <td>2395000</td>\n",
       "      <td>Brusselsesteenweg 66</td>\n",
       "      <td>2</td>\n",
       "      <td>B</td>\n",
       "      <td>197.0</td>\n",
       "      <td>0</td>\n",
       "      <td>...</td>\n",
       "      <td>3</td>\n",
       "      <td>1</td>\n",
       "      <td>4</td>\n",
       "      <td>Hyper equipped</td>\n",
       "      <td>0</td>\n",
       "      <td>2395000</td>\n",
       "      <td>€2395000</td>\n",
       "      <td>1</td>\n",
       "      <td>Vlaams-Brabant</td>\n",
       "      <td>Flanders</td>\n",
       "    </tr>\n",
       "  </tbody>\n",
       "</table>\n",
       "<p>6623 rows × 29 columns</p>\n",
       "</div>"
      ],
      "text/plain": [
       "     Type of property               Location  Postcode  immo code    Price  \\\n",
       "0               house                  essen      2910   10666428   469000   \n",
       "1               house                bierges      1301   10666426  1395000   \n",
       "2           apartment                  arlon      6700   10666424   285000   \n",
       "3               house                  arlon      6700   10666423   285000   \n",
       "4           apartment                antwerp      2000   10666422   425000   \n",
       "...               ...                    ...       ...        ...      ...   \n",
       "8589            house                tremelo      3120   10642957   499000   \n",
       "8590            villa                schilde      2970   10642946  1199000   \n",
       "8591           duplex  bierbeek%20korbeek-lo      3360   10531808   450000   \n",
       "8593            house               wevelgem      8560   10642937   340000   \n",
       "8594            villa                lubbeek      3210   10642929  2395000   \n",
       "\n",
       "                     Address  Bedrooms Energy class  \\\n",
       "0       Heidestatiestraat 26         3            D   \n",
       "1           Rue de Wavre, 27         5            C   \n",
       "2       Avenue de Longwy 340         2            D   \n",
       "3       Avenue de Longwy 340         2            D   \n",
       "4        Grote steenweg, 511         2            C   \n",
       "...                      ...       ...          ...   \n",
       "8589    Schrieksebaan 53B001         3            D   \n",
       "8590      Donksesteenweg 212         6            B   \n",
       "8591  Herbert Hooverplein 14         3            B   \n",
       "8593           Markeplaats 9         4            B   \n",
       "8594    Brusselsesteenweg 66         2            B   \n",
       "\n",
       "      Primary energy consumption  Furnished  ...  Shower rooms  Office  \\\n",
       "0                          390.0          0  ...             0       0   \n",
       "1                          178.0          0  ...             3       1   \n",
       "2                          299.0          0  ...             0       0   \n",
       "3                          299.0          0  ...             0       0   \n",
       "4                          254.0          0  ...             0       0   \n",
       "...                          ...        ...  ...           ...     ...   \n",
       "8589                       383.0          0  ...             0       1   \n",
       "8590                       199.0          0  ...             0       0   \n",
       "8591                       120.0          0  ...             0       0   \n",
       "8593                       161.0          0  ...             0       0   \n",
       "8594                       197.0          0  ...             3       1   \n",
       "\n",
       "      Toilets    Kitchen type  Heating type   Price2 Price_orig  Terrace2  \\\n",
       "0           2       Installed             0   469000    €469000         1   \n",
       "1           4  Hyper equipped      Fuel oil  1395000   €1395000         1   \n",
       "2           2       Installed      Electric   285000    €285000         0   \n",
       "3           2       Installed      Electric   285000    €285000         0   \n",
       "4           0       Installed             0   425000    €425000         1   \n",
       "...       ...             ...           ...      ...        ...       ...   \n",
       "8589        2       Installed             0   499000    €499000         1   \n",
       "8590        3       Installed           Gas  1199000   €1199000         1   \n",
       "8591        0  Hyper equipped           Gas   450000    €450000         1   \n",
       "8593        0               0             0   340000    €340000         1   \n",
       "8594        4  Hyper equipped             0  2395000   €2395000         1   \n",
       "\n",
       "             Province    Region  \n",
       "0           Antwerpen  Flanders  \n",
       "1      Brabant wallon  Wallonia  \n",
       "2          Luxembourg  Wallonia  \n",
       "3          Luxembourg  Wallonia  \n",
       "4           Antwerpen  Flanders  \n",
       "...               ...       ...  \n",
       "8589   Vlaams-Brabant  Flanders  \n",
       "8590        Antwerpen  Flanders  \n",
       "8591   Vlaams-Brabant  Flanders  \n",
       "8593  West-Vlaanderen  Flanders  \n",
       "8594   Vlaams-Brabant  Flanders  \n",
       "\n",
       "[6623 rows x 29 columns]"
      ]
     },
     "execution_count": 3,
     "metadata": {},
     "output_type": "execute_result"
    }
   ],
   "source": [
    "df"
   ]
  },
  {
   "cell_type": "code",
   "execution_count": 4,
   "metadata": {},
   "outputs": [
    {
     "data": {
      "text/plain": [
       "(6623, 29)"
      ]
     },
     "execution_count": 4,
     "metadata": {},
     "output_type": "execute_result"
    }
   ],
   "source": [
    "df.shape"
   ]
  },
  {
   "cell_type": "markdown",
   "metadata": {},
   "source": [
    "### Select properties by (sub)type"
   ]
  },
  {
   "cell_type": "code",
   "execution_count": null,
   "metadata": {},
   "outputs": [],
   "source": [
    "df = df[df.]"
   ]
  },
  {
   "cell_type": "markdown",
   "metadata": {},
   "source": [
    "### pastebin:"
   ]
  },
  {
   "cell_type": "markdown",
   "metadata": {},
   "source": [
    "'Bedrooms',\n",
    " 'Furnished',\n",
    " 'Terrace',\n",
    " 'Terrace surface',\n",
    " 'Surface of the plot',\n",
    " 'Living room surface',\n",
    " 'Number of frontages',\n",
    " 'Construction year',\n",
    " 'Outdoor parking space',\n",
    " 'Bathrooms',\n",
    " 'Shower rooms',\n",
    " 'Office',\n",
    " 'Toilets'\n",
    "\n",
    "\n",
    " df.drop(columns=['Price', 'Address',\n",
    " 'Energy class',\n",
    " 'Primary energy consumption',\n",
    " 'Building condition',\n",
    " 'Kitchen type',\n",
    " 'Heating type',\n",
    " 'Price_orig',\n",
    " 'Province',\n",
    " 'Region']).to_numpy()"
   ]
  },
  {
   "cell_type": "markdown",
   "metadata": {},
   "source": [
    "### Define model variables"
   ]
  },
  {
   "cell_type": "code",
   "execution_count": 43,
   "metadata": {},
   "outputs": [
    {
     "name": "stdout",
     "output_type": "stream",
     "text": [
      "<class 'numpy.ndarray'>\n",
      "[[3 1 2]\n",
      " [5 2 4]\n",
      " [2 2 2]\n",
      " ...\n",
      " [3 2 0]\n",
      " [4 0 0]\n",
      " [2 2 4]]\n"
     ]
    }
   ],
   "source": [
    "#X = np.array(df['Bedrooms'])\n",
    "#int_columns=['Bedrooms', 'Furnished', 'Terrace', 'Terrace surface', 'Surface of the plot', 'Living room surface', 'Number of frontages', 'Construction year', 'Outdoor parking space', 'Bathrooms', 'Shower rooms', 'Office', 'Toilets']\n",
    "#int_columns=['Bedrooms', 'Terrace', 'Terrace surface', 'Surface of the plot', 'Living room surface', 'Number of frontages', 'Construction year', 'Outdoor parking space', 'Bathrooms', 'Shower rooms', 'Office', 'Toilets', 'Primary energy consumption']\n",
    "int_columns=[\"Bedrooms\", \"Bathrooms\", \"Toilets\"]\n",
    "X = df[int_columns].to_numpy()\n",
    "#x_1 = df.drop(columns=[\"x_2\",\"y\"]).to_numpy()\n",
    "#x_2 = df.drop(columns=[\"x_1\",\"y\"]).to_numpy()\n",
    "y = df.Price.to_numpy().reshape(-1,1)\n",
    "print(type(X))\n",
    "print(X)\n"
   ]
  },
  {
   "cell_type": "code",
   "execution_count": 44,
   "metadata": {},
   "outputs": [
    {
     "name": "stderr",
     "output_type": "stream",
     "text": [
      "C:\\Users\\freva\\AppData\\Local\\Temp\\ipykernel_11772\\3374535534.py:2: SettingWithCopyWarning: \n",
      "A value is trying to be set on a copy of a slice from a DataFrame.\n",
      "Try using .loc[row_indexer,col_indexer] = value instead\n",
      "\n",
      "See the caveats in the documentation: https://pandas.pydata.org/pandas-docs/stable/user_guide/indexing.html#returning-a-view-versus-a-copy\n",
      "  cropped_df[\"Price\"] = df[\"Price\"]\n"
     ]
    }
   ],
   "source": [
    "cropped_df = df[int_columns]\n",
    "cropped_df[\"Price\"] = df[\"Price\"]\n",
    "#display(cropped_df)\n",
    "#sns.pairplot(data=df, y_vars = \"Price\", x_vars = int_columns, height=5)\n",
    "#sns.pairplot(data=cropped_df)"
   ]
  },
  {
   "cell_type": "code",
   "execution_count": 45,
   "metadata": {},
   "outputs": [
    {
     "data": {
      "text/plain": [
       "<function matplotlib.pyplot.show(close=None, block=None)>"
      ]
     },
     "execution_count": 45,
     "metadata": {},
     "output_type": "execute_result"
    },
    {
     "data": {
      "image/png": "[encoded data removed]",
      "text/plain": [
       "<Figure size 640x480 with 2 Axes>"
      ]
     },
     "metadata": {},
     "output_type": "display_data"
    }
   ],
   "source": [
    "sns.heatmap(cropped_df.corr(), cmap=\"YlGnBu\", annot=True)\n",
    "plt.show"
   ]
  },
  {
   "cell_type": "markdown",
   "metadata": {},
   "source": [
    "### Split the dataset\n",
    "\n",
    "You now know the process!\n",
    "\n",
    "**Exercise :** Import `train_test_split` from `sklearn` and split the dataset and create the variables `X_train`, `X_test`, `y_train`, `y_test`."
   ]
  },
  {
   "cell_type": "code",
   "execution_count": 46,
   "metadata": {},
   "outputs": [],
   "source": [
    "from sklearn.model_selection import train_test_split\n",
    "\n",
    "X_train, X_test, y_train, y_test = train_test_split(X, y, test_size=0.25, random_state=41)"
   ]
  },
  {
   "cell_type": "code",
   "execution_count": 47,
   "metadata": {},
   "outputs": [
    {
     "name": "stdout",
     "output_type": "stream",
     "text": [
      "Shape of X_train:  (4967, 3)\n",
      "Shape of X_test:  (1656, 3)\n",
      "Shape of y_train:  (4967, 1)\n",
      "Shape of y_test:  (1656, 1)\n"
     ]
    }
   ],
   "source": [
    "print(\"Shape of X_train: \", X_train.shape)\n",
    "print(\"Shape of X_test: \", X_test.shape)\n",
    "print(\"Shape of y_train: \", y_train.shape)\n",
    "print(\"Shape of y_test: \", y_test.shape)"
   ]
  },
  {
   "cell_type": "markdown",
   "metadata": {},
   "source": [
    "##  Load and fit the model (with Sklearn)"
   ]
  },
  {
   "cell_type": "code",
   "execution_count": 48,
   "metadata": {},
   "outputs": [],
   "source": [
    "from sklearn.metrics import mean_squared_error\n",
    "from sklearn.model_selection import GridSearchCV"
   ]
  },
  {
   "cell_type": "code",
   "execution_count": 49,
   "metadata": {},
   "outputs": [],
   "source": [
    "from sklearn.linear_model import LinearRegression\n",
    "\n",
    "LR_model = \"Linear Regression\"\n",
    "\n",
    "LR_regressor = LinearRegression()\n",
    "\"\"\"X_train = X_train.reshape(-1,1)\n",
    "X_test = X_test.reshape(-1,1)\"\"\"\n",
    "LR_regressor.fit(X_train, y_train)\n",
    "LR_train_score = LR_regressor.score(X_train, y_train)\n",
    "LR_test_score = LR_regressor.score(X_test,y_test)\n",
    "LR_y_pred = LR_regressor.predict(X_test)\n",
    "LR_R_MSE = mean_squared_error(y_test, LR_y_pred, squared = False)"
   ]
  },
  {
   "cell_type": "code",
   "execution_count": 50,
   "metadata": {},
   "outputs": [],
   "source": [
    "from sklearn.tree import DecisionTreeRegressor\n",
    "\n",
    "DT_model = \"Decision Tree\"\n",
    "\n",
    "DT_regressor = DecisionTreeRegressor(max_depth=6, min_weight_fraction_leaf=0.01)\n",
    "\n",
    "DT_regressor.fit(X_train, y_train)\n",
    "DT_train_score = DT_regressor.score(X_train, y_train)\n",
    "DT_test_score = DT_regressor.score(X_test,y_test)\n",
    "DT_y_pred = DT_regressor.predict(X_test)\n",
    "DT_R_MSE = mean_squared_error(y_test, DT_y_pred, squared = False)"
   ]
  },
  {
   "cell_type": "code",
   "execution_count": 51,
   "metadata": {},
   "outputs": [
    {
     "name": "stdout",
     "output_type": "stream",
     "text": [
      "{'max_depth': 10, 'min_weight_fraction_leaf': 0.01}\n"
     ]
    }
   ],
   "source": [
    "from sklearn.tree import DecisionTreeRegressor\n",
    "from sklearn.model_selection import GridSearchCV\n",
    "\n",
    "GS_model = \"Decision Tree with GridSearch\"\n",
    "\n",
    "params = {\"max_depth\" : [2, 4, 6, 8, 10, 12], \"min_weight_fraction_leaf\" : [0.002, 0.003, 0.0035, 0.004, 0.0045, 0.005, 0.006, 0.01]}\n",
    "grid_search = GridSearchCV(DT_regressor, params, cv = 10)\n",
    "grid_search.fit(X_train,y_train)\n",
    "best_params = grid_search.best_params_\n",
    "print(best_params)\n",
    "GS_regressor = DecisionTreeRegressor(max_depth=best_params[\"max_depth\"], min_weight_fraction_leaf=best_params[\"min_weight_fraction_leaf\"])\n",
    "GS_regressor.fit(X_train, y_train)\n",
    "GS_train_score = DT_regressor.score(X_train, y_train)\n",
    "GS_test_score = DT_regressor.score(X_test,y_test)\n",
    "GS_y_pred = DT_regressor.predict(X_test)\n",
    "GS_R_MSE = mean_squared_error(y_test, DT_y_pred, squared = False)"
   ]
  },
  {
   "cell_type": "code",
   "execution_count": 52,
   "metadata": {},
   "outputs": [
    {
     "name": "stdout",
     "output_type": "stream",
     "text": [
      "[15:45:55] WARNING: C:\\buildkite-agent\\builds\\buildkite-windows-cpu-autoscaling-group-i-0fdc6d574b9c0d168-1\\xgboost\\xgboost-ci-windows\\src\\objective\\regression_obj.cu:213: reg:linear is now deprecated in favor of reg:squarederror.\n",
      "[15:45:56] WARNING: C:\\buildkite-agent\\builds\\buildkite-windows-cpu-autoscaling-group-i-0fdc6d574b9c0d168-1\\xgboost\\xgboost-ci-windows\\src\\objective\\regression_obj.cu:213: reg:linear is now deprecated in favor of reg:squarederror.\n"
     ]
    }
   ],
   "source": [
    "import xgboost as xg\n",
    "\n",
    "XG_model = \"XG Boost\"\n",
    "\n",
    "XG_regressor = xg.XGBRegressor(objective ='reg:linear', n_estimators = 10, seed = 20)\n",
    "\"\"\"X_train = X_train.reshape(-1,1)\n",
    "X_test = X_test.reshape(-1,1)\"\"\"\n",
    "XG_regressor.fit(X_train, y_train)\n",
    "XG_regressor.fit(X_train, y_train)\n",
    "XG_train_score = XG_regressor.score(X_train, y_train)\n",
    "XG_test_score = XG_regressor.score(X_test,y_test)\n",
    "XG_y_pred = XG_regressor.predict(X_test)\n",
    "XG_R_MSE = mean_squared_error(y_test, XG_y_pred, squared = False)"
   ]
  },
  {
   "cell_type": "markdown",
   "metadata": {},
   "source": [
    "### Scores"
   ]
  },
  {
   "cell_type": "markdown",
   "metadata": {},
   "source": [
    "\"Create a dataframe with an overview of the test scores of all the models\"\n",
    "\n",
    "model_list = [\"LR\", \"DT\", \"GS\", \"XG\"]\n",
    "model_score_list = [\"model\", \"train_score\", \"test_score\", \"R_MSE\"]\n",
    "data = []\n",
    "for model in model_list:\n",
    "    #print(model)\n",
    "    modelscores = []\n",
    "    for score in model_score_list:\n",
    "        item = model + \"_\" + score\n",
    "        modelscores.append(item)\n",
    "    #print(modelscores)\n",
    "    #modelscores = list(re.replace(r\"/['\"]+/g\", '', str(modelscores)))\n",
    "    #print(print(modelscores))\n",
    "    data.append(modelscores)\n",
    "\n",
    "print(data)\n",
    "score_df = pd.DataFrame(data, columns=model_score_list)\n",
    "score_df\n"
   ]
  },
  {
   "cell_type": "code",
   "execution_count": 58,
   "metadata": {},
   "outputs": [
    {
     "data": {
      "text/html": [
       "<div>\n",
       "<style scoped>\n",
       "    .dataframe tbody tr th:only-of-type {\n",
       "        vertical-align: middle;\n",
       "    }\n",
       "\n",
       "    .dataframe tbody tr th {\n",
       "        vertical-align: top;\n",
       "    }\n",
       "\n",
       "    .dataframe thead th {\n",
       "        text-align: right;\n",
       "    }\n",
       "</style>\n",
       "<table border=\"1\" class=\"dataframe\">\n",
       "  <thead>\n",
       "    <tr style=\"text-align: right;\">\n",
       "      <th></th>\n",
       "      <th>model</th>\n",
       "      <th>train_score</th>\n",
       "      <th>test_score</th>\n",
       "      <th>R_MSE</th>\n",
       "    </tr>\n",
       "  </thead>\n",
       "  <tbody>\n",
       "    <tr>\n",
       "      <th>0</th>\n",
       "      <td>Linear Regression</td>\n",
       "      <td>0.200220</td>\n",
       "      <td>0.182008</td>\n",
       "      <td>386603.569349</td>\n",
       "    </tr>\n",
       "    <tr>\n",
       "      <th>1</th>\n",
       "      <td>Decision Tree</td>\n",
       "      <td>0.319529</td>\n",
       "      <td>0.408661</td>\n",
       "      <td>328707.644303</td>\n",
       "    </tr>\n",
       "    <tr>\n",
       "      <th>2</th>\n",
       "      <td>Decision Tree with GridSearch</td>\n",
       "      <td>0.319529</td>\n",
       "      <td>0.408661</td>\n",
       "      <td>328707.644303</td>\n",
       "    </tr>\n",
       "    <tr>\n",
       "      <th>3</th>\n",
       "      <td>XG Boost</td>\n",
       "      <td>0.437235</td>\n",
       "      <td>0.399873</td>\n",
       "      <td>331141.111956</td>\n",
       "    </tr>\n",
       "  </tbody>\n",
       "</table>\n",
       "</div>"
      ],
      "text/plain": [
       "                           model  train_score  test_score          R_MSE\n",
       "0              Linear Regression     0.200220    0.182008  386603.569349\n",
       "1                  Decision Tree     0.319529    0.408661  328707.644303\n",
       "2  Decision Tree with GridSearch     0.319529    0.408661  328707.644303\n",
       "3                       XG Boost     0.437235    0.399873  331141.111956"
      ]
     },
     "metadata": {},
     "output_type": "display_data"
    }
   ],
   "source": [
    "model_score_list = [\"model\", \"train_score\", \"test_score\", \"R_MSE\"]\n",
    "#display(score_df)\n",
    "#score_df[\"train_score_old\"] = score_df[\"train_score\"]\n",
    "#score_df[\"test_score_old\"] = score_df[\"test_score\"]\n",
    "#score_df[\"R_MSE_old\"] = score_df[\"R_MSE\"]\n",
    "\n",
    "data = [[LR_model, LR_train_score, LR_test_score, LR_R_MSE], [DT_model, DT_train_score, DT_test_score, DT_R_MSE], [GS_model, GS_train_score, GS_test_score, GS_R_MSE], [XG_model, XG_train_score, XG_test_score, XG_R_MSE]]\n",
    "newscore_df = pd.DataFrame(data, columns=model_score_list)\n",
    "#score_df = score_df.join(newscore_df, on=['model'], how='right')\n",
    "#score_df [\"train_score\", \"test_score\", \"R_MSE\"] = newscore_df [\"train_score\", \"test_score\", \"R_MSE\"]\n",
    "score_df=newscore_df\n",
    "display(score_df)"
   ]
  }
 ],
 "metadata": {
  "kernelspec": {
   "display_name": "Python 3",
   "language": "python",
   "name": "python3"
  },
  "language_info": {
   "codemirror_mode": {
    "name": "ipython",
    "version": 3
   },
   "file_extension": ".py",
   "mimetype": "text/x-python",
   "name": "python",
   "nbconvert_exporter": "python",
   "pygments_lexer": "ipython3",
   "version": "3.10.7"
  }
 },
 "nbformat": 4,
 "nbformat_minor": 4
}
