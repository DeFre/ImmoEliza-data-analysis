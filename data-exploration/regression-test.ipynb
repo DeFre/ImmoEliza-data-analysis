{
 "cells": [
  {
   "cell_type": "markdown",
   "metadata": {},
   "source": [
    "# ImmoEliza - Data Modelling"
   ]
  },
  {
   "cell_type": "code",
   "execution_count": 1,
   "metadata": {},
   "outputs": [],
   "source": [
    "import pandas as pd\n",
    "import numpy as np\n",
    "import matplotlib.pyplot as plt \n",
    "import seaborn as sns \n",
    "import plotly.express as px"
   ]
  },
  {
   "cell_type": "code",
   "execution_count": 2,
   "metadata": {},
   "outputs": [],
   "source": [
    "df = pd.read_csv('../data/saved_data.csv', index_col=0)"
   ]
  },
  {
   "cell_type": "code",
   "execution_count": 3,
   "metadata": {},
   "outputs": [
    {
     "data": {
      "text/html": [
       "<div>\n",
       "<style scoped>\n",
       "    .dataframe tbody tr th:only-of-type {\n",
       "        vertical-align: middle;\n",
       "    }\n",
       "\n",
       "    .dataframe tbody tr th {\n",
       "        vertical-align: top;\n",
       "    }\n",
       "\n",
       "    .dataframe thead th {\n",
       "        text-align: right;\n",
       "    }\n",
       "</style>\n",
       "<table border=\"1\" class=\"dataframe\">\n",
       "  <thead>\n",
       "    <tr style=\"text-align: right;\">\n",
       "      <th></th>\n",
       "      <th>Price</th>\n",
       "      <th>Address</th>\n",
       "      <th>Bedrooms</th>\n",
       "      <th>Energy class</th>\n",
       "      <th>Primary energy consumption</th>\n",
       "      <th>Furnished</th>\n",
       "      <th>Terrace</th>\n",
       "      <th>Terrace surface</th>\n",
       "      <th>Surface of the plot</th>\n",
       "      <th>Living room surface</th>\n",
       "      <th>...</th>\n",
       "      <th>Toilets</th>\n",
       "      <th>Kitchen type</th>\n",
       "      <th>Heating type</th>\n",
       "      <th>immo_code</th>\n",
       "      <th>Postcode</th>\n",
       "      <th>Price2</th>\n",
       "      <th>Price_orig</th>\n",
       "      <th>Terrace2</th>\n",
       "      <th>Province</th>\n",
       "      <th>Region</th>\n",
       "    </tr>\n",
       "  </thead>\n",
       "  <tbody>\n",
       "    <tr>\n",
       "      <th>0</th>\n",
       "      <td>469000</td>\n",
       "      <td>Heidestatiestraat 26</td>\n",
       "      <td>3</td>\n",
       "      <td>D</td>\n",
       "      <td>390</td>\n",
       "      <td>0</td>\n",
       "      <td>1</td>\n",
       "      <td>0</td>\n",
       "      <td>760</td>\n",
       "      <td>34</td>\n",
       "      <td>...</td>\n",
       "      <td>2</td>\n",
       "      <td>Installed</td>\n",
       "      <td>0</td>\n",
       "      <td>10666428</td>\n",
       "      <td>2910</td>\n",
       "      <td>469000</td>\n",
       "      <td>€469000</td>\n",
       "      <td>1</td>\n",
       "      <td>Antwerpen</td>\n",
       "      <td>Flanders</td>\n",
       "    </tr>\n",
       "    <tr>\n",
       "      <th>1</th>\n",
       "      <td>1395000</td>\n",
       "      <td>Rue de Wavre, 27</td>\n",
       "      <td>5</td>\n",
       "      <td>C</td>\n",
       "      <td>178</td>\n",
       "      <td>0</td>\n",
       "      <td>1</td>\n",
       "      <td>60</td>\n",
       "      <td>6468</td>\n",
       "      <td>50</td>\n",
       "      <td>...</td>\n",
       "      <td>4</td>\n",
       "      <td>Hyper equipped</td>\n",
       "      <td>Fuel oil</td>\n",
       "      <td>10666426</td>\n",
       "      <td>1301</td>\n",
       "      <td>1395000</td>\n",
       "      <td>€1395000</td>\n",
       "      <td>1</td>\n",
       "      <td>Brabant wallon</td>\n",
       "      <td>Wallonia</td>\n",
       "    </tr>\n",
       "    <tr>\n",
       "      <th>2</th>\n",
       "      <td>285000</td>\n",
       "      <td>Avenue de Longwy 340</td>\n",
       "      <td>2</td>\n",
       "      <td>D</td>\n",
       "      <td>299</td>\n",
       "      <td>0</td>\n",
       "      <td>0</td>\n",
       "      <td>0</td>\n",
       "      <td>0</td>\n",
       "      <td>0</td>\n",
       "      <td>...</td>\n",
       "      <td>2</td>\n",
       "      <td>Installed</td>\n",
       "      <td>Electric</td>\n",
       "      <td>10666424</td>\n",
       "      <td>6700</td>\n",
       "      <td>285000</td>\n",
       "      <td>€285000</td>\n",
       "      <td>0</td>\n",
       "      <td>Luxembourg</td>\n",
       "      <td>Wallonia</td>\n",
       "    </tr>\n",
       "    <tr>\n",
       "      <th>3</th>\n",
       "      <td>285000</td>\n",
       "      <td>Avenue de Longwy 340</td>\n",
       "      <td>2</td>\n",
       "      <td>D</td>\n",
       "      <td>299</td>\n",
       "      <td>0</td>\n",
       "      <td>0</td>\n",
       "      <td>0</td>\n",
       "      <td>0</td>\n",
       "      <td>0</td>\n",
       "      <td>...</td>\n",
       "      <td>2</td>\n",
       "      <td>Installed</td>\n",
       "      <td>Electric</td>\n",
       "      <td>10666423</td>\n",
       "      <td>6700</td>\n",
       "      <td>285000</td>\n",
       "      <td>€285000</td>\n",
       "      <td>0</td>\n",
       "      <td>Luxembourg</td>\n",
       "      <td>Wallonia</td>\n",
       "    </tr>\n",
       "    <tr>\n",
       "      <th>4</th>\n",
       "      <td>425000</td>\n",
       "      <td>Grote steenweg, 511</td>\n",
       "      <td>2</td>\n",
       "      <td>C</td>\n",
       "      <td>254</td>\n",
       "      <td>0</td>\n",
       "      <td>1</td>\n",
       "      <td>4</td>\n",
       "      <td>0</td>\n",
       "      <td>40</td>\n",
       "      <td>...</td>\n",
       "      <td>0</td>\n",
       "      <td>Installed</td>\n",
       "      <td>0</td>\n",
       "      <td>10666422</td>\n",
       "      <td>2000</td>\n",
       "      <td>425000</td>\n",
       "      <td>€425000</td>\n",
       "      <td>1</td>\n",
       "      <td>Antwerpen</td>\n",
       "      <td>Flanders</td>\n",
       "    </tr>\n",
       "    <tr>\n",
       "      <th>...</th>\n",
       "      <td>...</td>\n",
       "      <td>...</td>\n",
       "      <td>...</td>\n",
       "      <td>...</td>\n",
       "      <td>...</td>\n",
       "      <td>...</td>\n",
       "      <td>...</td>\n",
       "      <td>...</td>\n",
       "      <td>...</td>\n",
       "      <td>...</td>\n",
       "      <td>...</td>\n",
       "      <td>...</td>\n",
       "      <td>...</td>\n",
       "      <td>...</td>\n",
       "      <td>...</td>\n",
       "      <td>...</td>\n",
       "      <td>...</td>\n",
       "      <td>...</td>\n",
       "      <td>...</td>\n",
       "      <td>...</td>\n",
       "      <td>...</td>\n",
       "    </tr>\n",
       "    <tr>\n",
       "      <th>7856</th>\n",
       "      <td>465000</td>\n",
       "      <td>Bisschopslaan 16</td>\n",
       "      <td>2</td>\n",
       "      <td>B</td>\n",
       "      <td>189</td>\n",
       "      <td>0</td>\n",
       "      <td>1</td>\n",
       "      <td>0</td>\n",
       "      <td>1221</td>\n",
       "      <td>45</td>\n",
       "      <td>...</td>\n",
       "      <td>2</td>\n",
       "      <td>Hyper equipped</td>\n",
       "      <td>Gas</td>\n",
       "      <td>10642965</td>\n",
       "      <td>2460</td>\n",
       "      <td>465000</td>\n",
       "      <td>€465000</td>\n",
       "      <td>1</td>\n",
       "      <td>Antwerpen</td>\n",
       "      <td>Flanders</td>\n",
       "    </tr>\n",
       "    <tr>\n",
       "      <th>7857</th>\n",
       "      <td>499000</td>\n",
       "      <td>Schrieksebaan 53B001</td>\n",
       "      <td>3</td>\n",
       "      <td>D</td>\n",
       "      <td>383</td>\n",
       "      <td>0</td>\n",
       "      <td>1</td>\n",
       "      <td>0</td>\n",
       "      <td>17656</td>\n",
       "      <td>0</td>\n",
       "      <td>...</td>\n",
       "      <td>2</td>\n",
       "      <td>Installed</td>\n",
       "      <td>0</td>\n",
       "      <td>10642957</td>\n",
       "      <td>3120</td>\n",
       "      <td>499000</td>\n",
       "      <td>€499000</td>\n",
       "      <td>1</td>\n",
       "      <td>Vlaams-Brabant</td>\n",
       "      <td>Flanders</td>\n",
       "    </tr>\n",
       "    <tr>\n",
       "      <th>7858</th>\n",
       "      <td>1199000</td>\n",
       "      <td>Donksesteenweg 212</td>\n",
       "      <td>6</td>\n",
       "      <td>B</td>\n",
       "      <td>199</td>\n",
       "      <td>0</td>\n",
       "      <td>1</td>\n",
       "      <td>0</td>\n",
       "      <td>2790</td>\n",
       "      <td>0</td>\n",
       "      <td>...</td>\n",
       "      <td>3</td>\n",
       "      <td>Installed</td>\n",
       "      <td>Gas</td>\n",
       "      <td>10642946</td>\n",
       "      <td>2970</td>\n",
       "      <td>1199000</td>\n",
       "      <td>€1199000</td>\n",
       "      <td>1</td>\n",
       "      <td>Antwerpen</td>\n",
       "      <td>Flanders</td>\n",
       "    </tr>\n",
       "    <tr>\n",
       "      <th>7859</th>\n",
       "      <td>340000</td>\n",
       "      <td>Markeplaats 9</td>\n",
       "      <td>4</td>\n",
       "      <td>B</td>\n",
       "      <td>161</td>\n",
       "      <td>0</td>\n",
       "      <td>1</td>\n",
       "      <td>0</td>\n",
       "      <td>621</td>\n",
       "      <td>0</td>\n",
       "      <td>...</td>\n",
       "      <td>0</td>\n",
       "      <td>0</td>\n",
       "      <td>0</td>\n",
       "      <td>10642937</td>\n",
       "      <td>8560</td>\n",
       "      <td>340000</td>\n",
       "      <td>€340000</td>\n",
       "      <td>1</td>\n",
       "      <td>West-Vlaanderen</td>\n",
       "      <td>Flanders</td>\n",
       "    </tr>\n",
       "    <tr>\n",
       "      <th>7860</th>\n",
       "      <td>2395000</td>\n",
       "      <td>Brusselsesteenweg 66</td>\n",
       "      <td>2</td>\n",
       "      <td>B</td>\n",
       "      <td>197</td>\n",
       "      <td>0</td>\n",
       "      <td>1</td>\n",
       "      <td>60</td>\n",
       "      <td>2181</td>\n",
       "      <td>42</td>\n",
       "      <td>...</td>\n",
       "      <td>4</td>\n",
       "      <td>Hyper equipped</td>\n",
       "      <td>0</td>\n",
       "      <td>10642929</td>\n",
       "      <td>3210</td>\n",
       "      <td>2395000</td>\n",
       "      <td>€2395000</td>\n",
       "      <td>1</td>\n",
       "      <td>Vlaams-Brabant</td>\n",
       "      <td>Flanders</td>\n",
       "    </tr>\n",
       "  </tbody>\n",
       "</table>\n",
       "<p>7861 rows × 27 columns</p>\n",
       "</div>"
      ],
      "text/plain": [
       "        Price               Address  Bedrooms Energy class  \\\n",
       "0      469000  Heidestatiestraat 26         3            D   \n",
       "1     1395000      Rue de Wavre, 27         5            C   \n",
       "2      285000  Avenue de Longwy 340         2            D   \n",
       "3      285000  Avenue de Longwy 340         2            D   \n",
       "4      425000   Grote steenweg, 511         2            C   \n",
       "...       ...                   ...       ...          ...   \n",
       "7856   465000      Bisschopslaan 16         2            B   \n",
       "7857   499000  Schrieksebaan 53B001         3            D   \n",
       "7858  1199000    Donksesteenweg 212         6            B   \n",
       "7859   340000         Markeplaats 9         4            B   \n",
       "7860  2395000  Brusselsesteenweg 66         2            B   \n",
       "\n",
       "     Primary energy consumption  Furnished  Terrace  Terrace surface  \\\n",
       "0                           390          0        1                0   \n",
       "1                           178          0        1               60   \n",
       "2                           299          0        0                0   \n",
       "3                           299          0        0                0   \n",
       "4                           254          0        1                4   \n",
       "...                         ...        ...      ...              ...   \n",
       "7856                        189          0        1                0   \n",
       "7857                        383          0        1                0   \n",
       "7858                        199          0        1                0   \n",
       "7859                        161          0        1                0   \n",
       "7860                        197          0        1               60   \n",
       "\n",
       "      Surface of the plot  Living room surface  ...  Toilets    Kitchen type  \\\n",
       "0                     760                   34  ...        2       Installed   \n",
       "1                    6468                   50  ...        4  Hyper equipped   \n",
       "2                       0                    0  ...        2       Installed   \n",
       "3                       0                    0  ...        2       Installed   \n",
       "4                       0                   40  ...        0       Installed   \n",
       "...                   ...                  ...  ...      ...             ...   \n",
       "7856                 1221                   45  ...        2  Hyper equipped   \n",
       "7857                17656                    0  ...        2       Installed   \n",
       "7858                 2790                    0  ...        3       Installed   \n",
       "7859                  621                    0  ...        0               0   \n",
       "7860                 2181                   42  ...        4  Hyper equipped   \n",
       "\n",
       "     Heating type  immo_code  Postcode   Price2  Price_orig  Terrace2  \\\n",
       "0               0   10666428      2910   469000     €469000         1   \n",
       "1        Fuel oil   10666426      1301  1395000    €1395000         1   \n",
       "2        Electric   10666424      6700   285000     €285000         0   \n",
       "3        Electric   10666423      6700   285000     €285000         0   \n",
       "4               0   10666422      2000   425000     €425000         1   \n",
       "...           ...        ...       ...      ...         ...       ...   \n",
       "7856          Gas   10642965      2460   465000     €465000         1   \n",
       "7857            0   10642957      3120   499000     €499000         1   \n",
       "7858          Gas   10642946      2970  1199000    €1199000         1   \n",
       "7859            0   10642937      8560   340000     €340000         1   \n",
       "7860            0   10642929      3210  2395000    €2395000         1   \n",
       "\n",
       "             Province    Region  \n",
       "0           Antwerpen  Flanders  \n",
       "1      Brabant wallon  Wallonia  \n",
       "2          Luxembourg  Wallonia  \n",
       "3          Luxembourg  Wallonia  \n",
       "4           Antwerpen  Flanders  \n",
       "...               ...       ...  \n",
       "7856        Antwerpen  Flanders  \n",
       "7857   Vlaams-Brabant  Flanders  \n",
       "7858        Antwerpen  Flanders  \n",
       "7859  West-Vlaanderen  Flanders  \n",
       "7860   Vlaams-Brabant  Flanders  \n",
       "\n",
       "[7861 rows x 27 columns]"
      ]
     },
     "execution_count": 3,
     "metadata": {},
     "output_type": "execute_result"
    }
   ],
   "source": [
    "df"
   ]
  },
  {
   "cell_type": "code",
   "execution_count": 4,
   "metadata": {},
   "outputs": [
    {
     "data": {
      "text/plain": [
       "(7861, 27)"
      ]
     },
     "execution_count": 4,
     "metadata": {},
     "output_type": "execute_result"
    }
   ],
   "source": [
    "df.shape"
   ]
  },
  {
   "cell_type": "markdown",
   "metadata": {},
   "source": [
    "### pastebin:"
   ]
  },
  {
   "cell_type": "markdown",
   "metadata": {},
   "source": [
    "'Bedrooms',\n",
    " 'Furnished',\n",
    " 'Terrace',\n",
    " 'Terrace surface',\n",
    " 'Surface of the plot',\n",
    " 'Living room surface',\n",
    " 'Number of frontages',\n",
    " 'Construction year',\n",
    " 'Outdoor parking space',\n",
    " 'Bathrooms',\n",
    " 'Shower rooms',\n",
    " 'Office',\n",
    " 'Toilets'\n",
    "\n",
    "\n",
    " df.drop(columns=['Price', 'Address',\n",
    " 'Energy class',\n",
    " 'Primary energy consumption',\n",
    " 'Building condition',\n",
    " 'Kitchen type',\n",
    " 'Heating type',\n",
    " 'Price_orig',\n",
    " 'Province',\n",
    " 'Region']).to_numpy()"
   ]
  },
  {
   "cell_type": "markdown",
   "metadata": {},
   "source": [
    "### Define model variables"
   ]
  },
  {
   "cell_type": "code",
   "execution_count": 11,
   "metadata": {},
   "outputs": [
    {
     "name": "stdout",
     "output_type": "stream",
     "text": [
      "<class 'numpy.ndarray'>\n",
      "[[3 1 2]\n",
      " [5 2 4]\n",
      " [2 2 2]\n",
      " ...\n",
      " [6 2 3]\n",
      " [4 0 0]\n",
      " [2 2 4]]\n"
     ]
    }
   ],
   "source": [
    "#X = np.array(df['Bedrooms'])\n",
    "#int_columns=['Bedrooms', 'Furnished', 'Terrace', 'Terrace surface', 'Surface of the plot', 'Living room surface', 'Number of frontages', 'Construction year', 'Outdoor parking space', 'Bathrooms', 'Shower rooms', 'Office', 'Toilets']\n",
    "#int_columns=['Bedrooms', 'Terrace', 'Terrace surface', 'Surface of the plot', 'Living room surface', 'Number of frontages', 'Construction year', 'Outdoor parking space', 'Bathrooms', 'Shower rooms', 'Office', 'Toilets']\n",
    "int_columns=[\"Bedrooms\", \"Bathrooms\", \"Toilets\"]\n",
    "X = df[int_columns].to_numpy()\n",
    "#x_1 = df.drop(columns=[\"x_2\",\"y\"]).to_numpy()\n",
    "#x_2 = df.drop(columns=[\"x_1\",\"y\"]).to_numpy()\n",
    "y = df.Price.to_numpy().reshape(-1,1)\n",
    "print(type(X))\n",
    "print(X)\n"
   ]
  },
  {
   "cell_type": "code",
   "execution_count": 12,
   "metadata": {},
   "outputs": [
    {
     "name": "stderr",
     "output_type": "stream",
     "text": [
      "C:\\Users\\freva\\AppData\\Local\\Temp\\ipykernel_8340\\2960525173.py:2: SettingWithCopyWarning: \n",
      "A value is trying to be set on a copy of a slice from a DataFrame.\n",
      "Try using .loc[row_indexer,col_indexer] = value instead\n",
      "\n",
      "See the caveats in the documentation: https://pandas.pydata.org/pandas-docs/stable/user_guide/indexing.html#returning-a-view-versus-a-copy\n",
      "  cropped_df[\"Price\"] = df[\"Price\"]\n"
     ]
    },
    {
     "data": {
      "text/plain": [
       "<seaborn.axisgrid.PairGrid at 0x1c51dcc86a0>"
      ]
     },
     "execution_count": 12,
     "metadata": {},
     "output_type": "execute_result"
    },
    {
     "data": {
      "image/png": "[encoded data removed]",
      "text/plain": [
       "<Figure size 1000x1000 with 20 Axes>"
      ]
     },
     "metadata": {},
     "output_type": "display_data"
    }
   ],
   "source": [
    "cropped_df = df[int_columns]\n",
    "cropped_df[\"Price\"] = df[\"Price\"]\n",
    "#display(cropped_df)\n",
    "#sns.pairplot(data=df, y_vars = \"Price\", x_vars = int_columns, height=5)\n",
    "sns.pairplot(data=cropped_df)"
   ]
  },
  {
   "cell_type": "code",
   "execution_count": 13,
   "metadata": {},
   "outputs": [],
   "source": [
    "from sklearn.model_selection import train_test_split\n",
    "\n",
    "X_train, X_test, y_train, y_test = train_test_split(X, y, test_size=0.20, random_state=42)"
   ]
  },
  {
   "cell_type": "code",
   "execution_count": 14,
   "metadata": {},
   "outputs": [
    {
     "name": "stdout",
     "output_type": "stream",
     "text": [
      "Shape of X_train:  (6288, 3)\n",
      "Shape of X_test:  (1573, 3)\n",
      "Shape of y_train:  (6288, 1)\n",
      "Shape of y_test:  (1573, 1)\n"
     ]
    }
   ],
   "source": [
    "print(\"Shape of X_train: \", X_train.shape)\n",
    "print(\"Shape of X_test: \", X_test.shape)\n",
    "print(\"Shape of y_train: \", y_train.shape)\n",
    "print(\"Shape of y_test: \", y_test.shape)"
   ]
  },
  {
   "cell_type": "markdown",
   "metadata": {},
   "source": [
    "##  Load and fit the model (with Sklearn)"
   ]
  },
  {
   "cell_type": "markdown",
   "metadata": {},
   "source": [
    "How to use `sklearn` now with multiple features ? Well, it's simple, you don't change anything. `sklearn` takes care of everything for you.\n",
    "\n",
    "1. Import `LinearRegression` from `sklearn`\n",
    "2. Create a `regressor` variable and instantiate your `LinearRegression` class.\n",
    "3. Train your model with `X_train` and `y_train`.\n",
    "4. Display the score of your model with `X_train` and `y_train`.\n",
    "5. Use the predict method of your model on your test dataset (`X_test`).\n",
    "6. Display the score of your model with `X_test` and `y_test`."
   ]
  },
  {
   "cell_type": "code",
   "execution_count": 15,
   "metadata": {},
   "outputs": [
    {
     "data": {
      "text/html": [
       "<style>#sk-container-id-1 {color: black;}#sk-container-id-1 pre{padding: 0;}#sk-container-id-1 div.sk-toggleable {background-color: white;}#sk-container-id-1 label.sk-toggleable__label {cursor: pointer;display: block;width: 100%;margin-bottom: 0;padding: 0.3em;box-sizing: border-box;text-align: center;}#sk-container-id-1 label.sk-toggleable__label-arrow:before {content: \"▸\";float: left;margin-right: 0.25em;color: #696969;}#sk-container-id-1 label.sk-toggleable__label-arrow:hover:before {color: black;}#sk-container-id-1 div.sk-estimator:hover label.sk-toggleable__label-arrow:before {color: black;}#sk-container-id-1 div.sk-toggleable__content {max-height: 0;max-width: 0;overflow: hidden;text-align: left;background-color: #f0f8ff;}#sk-container-id-1 div.sk-toggleable__content pre {margin: 0.2em;color: black;border-radius: 0.25em;background-color: #f0f8ff;}#sk-container-id-1 input.sk-toggleable__control:checked~div.sk-toggleable__content {max-height: 200px;max-width: 100%;overflow: auto;}#sk-container-id-1 input.sk-toggleable__control:checked~label.sk-toggleable__label-arrow:before {content: \"▾\";}#sk-container-id-1 div.sk-estimator input.sk-toggleable__control:checked~label.sk-toggleable__label {background-color: #d4ebff;}#sk-container-id-1 div.sk-label input.sk-toggleable__control:checked~label.sk-toggleable__label {background-color: #d4ebff;}#sk-container-id-1 input.sk-hidden--visually {border: 0;clip: rect(1px 1px 1px 1px);clip: rect(1px, 1px, 1px, 1px);height: 1px;margin: -1px;overflow: hidden;padding: 0;position: absolute;width: 1px;}#sk-container-id-1 div.sk-estimator {font-family: monospace;background-color: #f0f8ff;border: 1px dotted black;border-radius: 0.25em;box-sizing: border-box;margin-bottom: 0.5em;}#sk-container-id-1 div.sk-estimator:hover {background-color: #d4ebff;}#sk-container-id-1 div.sk-parallel-item::after {content: \"\";width: 100%;border-bottom: 1px solid gray;flex-grow: 1;}#sk-container-id-1 div.sk-label:hover label.sk-toggleable__label {background-color: #d4ebff;}#sk-container-id-1 div.sk-serial::before {content: \"\";position: absolute;border-left: 1px solid gray;box-sizing: border-box;top: 0;bottom: 0;left: 50%;z-index: 0;}#sk-container-id-1 div.sk-serial {display: flex;flex-direction: column;align-items: center;background-color: white;padding-right: 0.2em;padding-left: 0.2em;position: relative;}#sk-container-id-1 div.sk-item {position: relative;z-index: 1;}#sk-container-id-1 div.sk-parallel {display: flex;align-items: stretch;justify-content: center;background-color: white;position: relative;}#sk-container-id-1 div.sk-item::before, #sk-container-id-1 div.sk-parallel-item::before {content: \"\";position: absolute;border-left: 1px solid gray;box-sizing: border-box;top: 0;bottom: 0;left: 50%;z-index: -1;}#sk-container-id-1 div.sk-parallel-item {display: flex;flex-direction: column;z-index: 1;position: relative;background-color: white;}#sk-container-id-1 div.sk-parallel-item:first-child::after {align-self: flex-end;width: 50%;}#sk-container-id-1 div.sk-parallel-item:last-child::after {align-self: flex-start;width: 50%;}#sk-container-id-1 div.sk-parallel-item:only-child::after {width: 0;}#sk-container-id-1 div.sk-dashed-wrapped {border: 1px dashed gray;margin: 0 0.4em 0.5em 0.4em;box-sizing: border-box;padding-bottom: 0.4em;background-color: white;}#sk-container-id-1 div.sk-label label {font-family: monospace;font-weight: bold;display: inline-block;line-height: 1.2em;}#sk-container-id-1 div.sk-label-container {text-align: center;}#sk-container-id-1 div.sk-container {/* jupyter's `normalize.less` sets `[hidden] { display: none; }` but bootstrap.min.css set `[hidden] { display: none !important; }` so we also need the `!important` here to be able to override the default hidden behavior on the sphinx rendered scikit-learn.org. See: https://github.com/scikit-learn/scikit-learn/issues/21755 */display: inline-block !important;position: relative;}#sk-container-id-1 div.sk-text-repr-fallback {display: none;}</style><div id=\"sk-container-id-1\" class=\"sk-top-container\"><div class=\"sk-text-repr-fallback\"><pre>LinearRegression()</pre><b>In a Jupyter environment, please rerun this cell to show the HTML representation or trust the notebook. <br />On GitHub, the HTML representation is unable to render, please try loading this page with nbviewer.org.</b></div><div class=\"sk-container\" hidden><div class=\"sk-item\"><div class=\"sk-estimator sk-toggleable\"><input class=\"sk-toggleable__control sk-hidden--visually\" id=\"sk-estimator-id-1\" type=\"checkbox\" checked><label for=\"sk-estimator-id-1\" class=\"sk-toggleable__label sk-toggleable__label-arrow\">LinearRegression</label><div class=\"sk-toggleable__content\"><pre>LinearRegression()</pre></div></div></div></div></div>"
      ],
      "text/plain": [
       "LinearRegression()"
      ]
     },
     "execution_count": 15,
     "metadata": {},
     "output_type": "execute_result"
    }
   ],
   "source": [
    "from sklearn.linear_model import LinearRegression\n",
    "\n",
    "regressor = LinearRegression()\n",
    "\"\"\"X_train = X_train.reshape(-1,1)\n",
    "X_test = X_test.reshape(-1,1)\"\"\"\n",
    "regressor.fit(X_train, y_train)"
   ]
  },
  {
   "cell_type": "code",
   "execution_count": 16,
   "metadata": {},
   "outputs": [
    {
     "data": {
      "text/plain": [
       "0.09398257430904355"
      ]
     },
     "execution_count": 16,
     "metadata": {},
     "output_type": "execute_result"
    }
   ],
   "source": [
    "regressor.score(X_train, y_train)"
   ]
  },
  {
   "cell_type": "code",
   "execution_count": 17,
   "metadata": {},
   "outputs": [
    {
     "data": {
      "text/plain": [
       "array([[569795.4436538 ],\n",
       "       [440938.74138641],\n",
       "       [492648.6244462 ],\n",
       "       ...,\n",
       "       [389228.85832663],\n",
       "       [618954.49756407],\n",
       "       [520636.38974353]])"
      ]
     },
     "execution_count": 17,
     "metadata": {},
     "output_type": "execute_result"
    }
   ],
   "source": [
    "regressor.predict(X_test)"
   ]
  },
  {
   "cell_type": "code",
   "execution_count": 18,
   "metadata": {},
   "outputs": [
    {
     "data": {
      "text/plain": [
       "0.08209604648912061"
      ]
     },
     "execution_count": 18,
     "metadata": {},
     "output_type": "execute_result"
    }
   ],
   "source": [
    "regressor.score(X_test,y_test)"
   ]
  },
  {
   "cell_type": "code",
   "execution_count": null,
   "metadata": {},
   "outputs": [],
   "source": [
    "from sklearn.metrics import mean_squared_error\n"
   ]
  },
  {
   "cell_type": "markdown",
   "metadata": {},
   "source": [
    "And voilà !"
   ]
  },
  {
   "cell_type": "markdown",
   "metadata": {},
   "source": [
    "## From Scratch \n",
    "You will see that with matrices, it doesn't change much in the way of proceeding. Matrix writing, moreover, remains the same as simple regression. "
   ]
  },
  {
   "cell_type": "markdown",
   "metadata": {},
   "source": [
    "### Transform to matrix"
   ]
  },
  {
   "cell_type": "markdown",
   "metadata": {},
   "source": [
    "$$\n",
    "\\\\ Y = X \\cdot \\theta \\\\\n",
    "$$\n",
    "The $Y$ vector is the same too\n",
    "$$ Y =\n",
    "\\begin{bmatrix}\n",
    "y^{(1)}\\\\\n",
    "y^{(2)}\\\\\n",
    "y^{(3)}\\\\\n",
    "... \\\\\n",
    "y^{(m)}\\\\\n",
    "\\end{bmatrix}\n",
    "$$"
   ]
  },
  {
   "cell_type": "markdown",
   "metadata": {},
   "source": [
    "The $X$ matrix will have as many dimensions as there are features +1  (n+1)"
   ]
  },
  {
   "cell_type": "markdown",
   "metadata": {},
   "source": [
    "$$ X =\n",
    "\\begin{bmatrix}\n",
    "x^{(1)}_1, x^{(1)}_2, ..., x^{(m)}_{n}, 1\\\\\n",
    "x^{(2)}_1, x^{(2)}_2, ..., x^{(m)}_{n}, 1\\\\\n",
    "x^{(3)}_1, x^{(3)}_2, ..., x^{(m)}_{n}, 1\\\\\n",
    "x^{(m)}_1,x^{(m)}_2, ..., x^{(m)}_{n}, 1\\\\\n",
    "\\end{bmatrix}\n",
    "$$"
   ]
  },
  {
   "cell_type": "markdown",
   "metadata": {},
   "source": [
    "The theta vector will have as many lines as there are parameters +1 (for the constant). \n",
    "$$ \\theta =\n",
    "\\begin{bmatrix}\n",
    "a\\\\\n",
    "b\\\\\n",
    "c\\\\\n",
    "... \\\\\n",
    "\\end{bmatrix}\n",
    "$$"
   ]
  },
  {
   "cell_type": "markdown",
   "metadata": {},
   "source": [
    "For our case with our dataset, we can write it like this: "
   ]
  },
  {
   "cell_type": "markdown",
   "metadata": {},
   "source": [
    "$$\n",
    "\\begin{bmatrix}\n",
    "y^{(1)}\\\\\n",
    "y^{(2)}\\\\\n",
    "y^{(3)}\\\\\n",
    "... \\\\\n",
    "y^{(m)}\\\\\n",
    "\\end{bmatrix}\n",
    "=\n",
    "\\begin{bmatrix}\n",
    "x^{(1)}_1, x^{(1)}_2, 1\\\\\n",
    "x^{(2)}_1, x^{(2)}_2, 1\\\\\n",
    "x^{(3)}_1, x^{(3)}_2, 1\\\\\n",
    "x^{(m)}_1,x^{(m)}_2,  1\\\\\n",
    "\\end{bmatrix}\n",
    "\\cdot\n",
    "\\begin{bmatrix}\n",
    "a\\\\\n",
    "b\\\\\n",
    "c\\\\\n",
    "\\end{bmatrix}\n",
    "$$"
   ]
  },
  {
   "cell_type": "markdown",
   "metadata": {},
   "source": [
    "**Exercise :** Create a variable `X` which contains a matrix of shape `(100,3)` with two column's filled with values of our dataframe and then another one with 1's."
   ]
  },
  {
   "cell_type": "code",
   "execution_count": 22,
   "metadata": {},
   "outputs": [],
   "source": [
    "features = df.drop(columns=[\"y\"]).to_numpy()\n",
    "ones = np.ones((X.shape[0],1))\n",
    "X = np.hstack((features, ones))"
   ]
  },
  {
   "cell_type": "markdown",
   "metadata": {},
   "source": [
    "**Exercise :** Check that your matrix is of shape `(100,3)`. "
   ]
  },
  {
   "cell_type": "code",
   "execution_count": 25,
   "metadata": {},
   "outputs": [
    {
     "data": {
      "text/plain": [
       "(100, 3)"
      ]
     },
     "execution_count": 25,
     "metadata": {},
     "output_type": "execute_result"
    }
   ],
   "source": [
    "X.shape"
   ]
  },
  {
   "cell_type": "markdown",
   "metadata": {},
   "source": [
    "**Exercise :** Create the theta vector with three random values. Your vector must be of shape \n",
    "`(3,1)`."
   ]
  },
  {
   "cell_type": "code",
   "execution_count": 36,
   "metadata": {},
   "outputs": [
    {
     "name": "stdout",
     "output_type": "stream",
     "text": [
      "[[ 0.44122749]\n",
      " [-0.33087015]\n",
      " [ 2.43077119]]\n"
     ]
    },
    {
     "data": {
      "text/plain": [
       "(3, 1)"
      ]
     },
     "execution_count": 36,
     "metadata": {},
     "output_type": "execute_result"
    }
   ],
   "source": [
    "np.random.seed(5)\n",
    "theta = np.random.randn(3,1)\n",
    "print(theta)\n",
    "theta.shape"
   ]
  },
  {
   "cell_type": "markdown",
   "metadata": {},
   "source": [
    "## Create and fit the model\n",
    "### Define your model"
   ]
  },
  {
   "cell_type": "markdown",
   "metadata": {},
   "source": [
    "**Exercise :** Create a `model` function that receives as parameter `X` and `theta`. The function must return the computed predictions `y_pred`. This is exactly the same model as last time. "
   ]
  },
  {
   "cell_type": "code",
   "execution_count": 37,
   "metadata": {},
   "outputs": [
    {
     "name": "stdout",
     "output_type": "stream",
     "text": [
      "Shape of y_pred :  (100, 1)\n"
     ]
    }
   ],
   "source": [
    "def model(X, theta):\n",
    "    F = X.dot(theta)\n",
    "    return F\n",
    "\n",
    "y_pred = model(X,theta)\n",
    "print(\"Shape of y_pred : \", y_pred.shape)\n"
   ]
  },
  {
   "cell_type": "markdown",
   "metadata": {},
   "source": [
    "### Cost function"
   ]
  },
  {
   "cell_type": "markdown",
   "metadata": {},
   "source": [
    "Well we have the model, the $\\theta$ vector, the $X$ matrix. What are we missing? The cost function of course!\n",
    "And you know what? This too is exactly the same MSE function from last time. \n",
    "\n",
    "$$MSE(\\theta) = \\frac {1}{2m}  \\sum (X \\cdot \\theta - Y)^2$$"
   ]
  },
  {
   "cell_type": "markdown",
   "metadata": {},
   "source": [
    "**Exercise :** Create a MSE function that receives as parameters `X`, `y` and `theta` using the example above."
   ]
  },
  {
   "cell_type": "code",
   "execution_count": 38,
   "metadata": {},
   "outputs": [
    {
     "name": "stdout",
     "output_type": "stream",
     "text": [
      "1.84191700438603\n"
     ]
    }
   ],
   "source": [
    "def MSE(X,y,theta):\n",
    "    y_pred = model(X,theta)\n",
    "    return 1/(2*len(y)) * np.sum(y_pred - y)**2\n",
    "\n",
    "error = MSE(X,y,theta)\n",
    "print(error)"
   ]
  },
  {
   "cell_type": "code",
   "execution_count": null,
   "metadata": {},
   "outputs": [],
   "source": []
  },
  {
   "cell_type": "code",
   "execution_count": null,
   "metadata": {},
   "outputs": [],
   "source": []
  },
  {
   "cell_type": "markdown",
   "metadata": {},
   "source": [
    "### Gradient descent\n",
    "It's time to find the minimum of our function. Well again, nothing changes compared to the last time. \n",
    "\n",
    "$$ \\frac {\\partial MSE(\\theta) }{\\partial \\theta}  = \\frac {1}{m} X^T \\cdot (X \\cdot \\theta - Y)$$"
   ]
  },
  {
   "cell_type": "markdown",
   "metadata": {},
   "source": [
    "**Exercise :** Create a `grad` function that receives as parameter `X`, `y`, `theta`."
   ]
  },
  {
   "cell_type": "code",
   "execution_count": 39,
   "metadata": {},
   "outputs": [
    {
     "data": {
      "text/plain": [
       "array([[ -25.5026489 ],\n",
       "       [-103.59461468],\n",
       "       [   0.19193317]])"
      ]
     },
     "execution_count": 39,
     "metadata": {},
     "output_type": "execute_result"
    }
   ],
   "source": [
    "def grad(X, y, theta):\n",
    "    m = len(y)\n",
    "    return 1/m * X.T.dot(model(X, theta) - y)\n",
    "\n",
    "grad(X, y, theta)"
   ]
  },
  {
   "cell_type": "code",
   "execution_count": null,
   "metadata": {},
   "outputs": [],
   "source": []
  },
  {
   "cell_type": "markdown",
   "metadata": {},
   "source": [
    "**Exercise :**\n",
    "\n",
    "1. Create a `gradient_descent` function that receives as parameter `X`, `y`, `theta`, `learning_rate`, `n_iterations`.\n",
    "2. In the function, create a variable `cost_history` with a matrix filled with 0 and which has a length of `n_iterations`. We will use it to display the histogram of the model learning process.\n",
    "3. Create a loop that iterates up to `n_iterations`.\n",
    "4. In the loop, update `theta` with the formula of the gradient descent (the example above).\n",
    "5. In the loop, update `cost_history[i]` with the values of `MSE(X,y,theta)`.\n",
    "6. return `theta` and `cost_history`."
   ]
  },
  {
   "cell_type": "code",
   "execution_count": 42,
   "metadata": {},
   "outputs": [],
   "source": [
    "def gradient_descent(X, y, theta, learning_rate, n_iterations):\n",
    "    cost_history = np.zeros(n_iterations)\n",
    "    for i in range(0, n_iterations):\n",
    "        theta = theta - learning_rate * grad(X, y, theta)\n",
    "        cost_history[i] = MSE(X, y, theta)\n",
    "    return theta, cost_history\n"
   ]
  },
  {
   "cell_type": "markdown",
   "metadata": {},
   "source": [
    "### Train your model "
   ]
  },
  {
   "cell_type": "markdown",
   "metadata": {},
   "source": [
    "**Exercise :** Create variables `n_iterations` and `learning_rate`."
   ]
  },
  {
   "cell_type": "code",
   "execution_count": 41,
   "metadata": {},
   "outputs": [],
   "source": [
    "n_iterations = 1000\n",
    "learning_rate = 0.01"
   ]
  },
  {
   "cell_type": "markdown",
   "metadata": {},
   "source": [
    "**Exercise:** Create variables `theta_final`, `cost_history` and call `gradient_descent()`."
   ]
  },
  {
   "cell_type": "code",
   "execution_count": 43,
   "metadata": {},
   "outputs": [
    {
     "name": "stdout",
     "output_type": "stream",
     "text": [
      "[[27.59067819]\n",
      " [99.50445119]\n",
      " [-1.53951894]]\n"
     ]
    }
   ],
   "source": [
    "theta_final, cost_history = gradient_descent(X, y, theta, learning_rate, n_iterations)\n",
    "print(theta_final)"
   ]
  },
  {
   "cell_type": "markdown",
   "metadata": {},
   "source": [
    "**Exercise :** \n",
    "Create a `predictions` variable that contains `model(X, theta_final)`.\n",
    "\n"
   ]
  },
  {
   "cell_type": "code",
   "execution_count": null,
   "metadata": {},
   "outputs": [],
   "source": [
    "predictions = model(X, theta_final)"
   ]
  },
  {
   "cell_type": "markdown",
   "metadata": {},
   "source": [
    "**Exercise :** Plot your predictions in 3D and the true values of the dataset."
   ]
  },
  {
   "cell_type": "code",
   "execution_count": null,
   "metadata": {},
   "outputs": [],
   "source": []
  },
  {
   "cell_type": "markdown",
   "metadata": {},
   "source": [
    "**Exercise :** Plot `cost_history`."
   ]
  },
  {
   "cell_type": "code",
   "execution_count": null,
   "metadata": {},
   "outputs": [],
   "source": []
  },
  {
   "cell_type": "markdown",
   "metadata": {},
   "source": [
    "### Evaluation"
   ]
  },
  {
   "cell_type": "code",
   "execution_count": null,
   "metadata": {},
   "outputs": [],
   "source": [
    "def coef_determination(y, pred):\n",
    "    u = ((y - pred)**2).sum()\n",
    "    v = ((y - y.mean())**2).sum()\n",
    "    return 1 - u/v"
   ]
  },
  {
   "cell_type": "code",
   "execution_count": null,
   "metadata": {},
   "outputs": [],
   "source": [
    "coef_determination(y, predictions)"
   ]
  },
  {
   "cell_type": "markdown",
   "metadata": {},
   "source": [
    "### Congratulations !\n",
    "\n",
    "You are now able to create a multiple variable regression model from scratch, well, from the matrix!"
   ]
  },
  {
   "cell_type": "markdown",
   "metadata": {},
   "source": [
    "<img src=\"https://media.giphy.com/media/W9lzJDwciz6bS/giphy.gif\">"
   ]
  }
 ],
 "metadata": {
  "kernelspec": {
   "display_name": "Python 3",
   "language": "python",
   "name": "python3"
  },
  "language_info": {
   "codemirror_mode": {
    "name": "ipython",
    "version": 3
   },
   "file_extension": ".py",
   "mimetype": "text/x-python",
   "name": "python",
   "nbconvert_exporter": "python",
   "pygments_lexer": "ipython3",
   "version": "3.10.7"
  }
 },
 "nbformat": 4,
 "nbformat_minor": 4
}
